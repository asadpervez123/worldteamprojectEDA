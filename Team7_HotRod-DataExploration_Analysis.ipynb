{
 "cells": [
  {
   "cell_type": "markdown",
   "metadata": {
    "colab_type": "text",
    "id": "dPy2VR2oKcxx"
   },
   "source": [
    "# Introduction - Reviewing Metadata and First Look to Dataset"
   ]
  },
  {
   "cell_type": "code",
   "execution_count": null,
   "metadata": {
    "colab": {
     "base_uri": "https://localhost:8080/",
     "height": 230,
     "resources": {
      "http://localhost:8080/nbextensions/google.colab/files.js": {
       "data": "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",
       "headers": [
        [
         "content-type",
         "application/javascript"
        ]
       ],
       "ok": true,
       "status": 200,
       "status_text": ""
      }
     }
    },
    "colab_type": "code",
    "id": "5D66bCYsqnJo",
    "outputId": "3dd0d0f5-71e6-40be-bf94-66f4483f9afa"
   },
   "outputs": [],
   "source": [
    "import pandas as pd\n",
    "import numpy as np\n",
    "import os\n",
    "from google.colab import files\n",
    "import matplotlib.pyplot as plt\n",
    "\n",
    "print(\"\"\"\n",
    "===============================================================================\n",
    "= Team 7 - Hot Rod Data Exploration                                           =\n",
    "===============================================================================\n",
    "\"\"\")"
   ]
  },
  {
   "cell_type": "markdown",
   "metadata": {
    "colab_type": "text",
    "id": "oU9hS9oKuGUc"
   },
   "source": [
    "Let's have a look on the meta data of our data set. We want to have a special look on out selected countries. Thus, we have to filter the meta data file for relevant information."
   ]
  },
  {
   "cell_type": "code",
   "execution_count": 0,
   "metadata": {
    "colab": {},
    "colab_type": "code",
    "id": "dSEGTgyLuJXw"
   },
   "outputs": [],
   "source": [
    "# importing packages\n",
    "import pandas as pd\n",
    "\n",
    "# set list with chosen countries to filter tables\n",
    "sel_country_codes = ('BLZ','BMU','CAN','CRI','SLV','GTM','HND','MEX','NIC','PAN','USA','WLD')"
   ]
  },
  {
   "cell_type": "markdown",
   "metadata": {
    "colab_type": "text",
    "id": "AlFMGxS1uLWg"
   },
   "source": [
    "First we want get a good overview about the meta data per countries and all categories."
   ]
  },
  {
   "cell_type": "code",
   "execution_count": 0,
   "metadata": {
    "colab": {
     "base_uri": "https://localhost:8080/",
     "height": 1000
    },
    "colab_type": "code",
    "id": "vvhmfYCXucQ-",
    "outputId": "728c2371-62ee-4b45-d475-a5b5a5192ad8"
   },
   "outputs": [
    {
     "data": {
      "text/html": [
       "<div>\n",
       "<style scoped>\n",
       "    .dataframe tbody tr th:only-of-type {\n",
       "        vertical-align: middle;\n",
       "    }\n",
       "\n",
       "    .dataframe tbody tr th {\n",
       "        vertical-align: top;\n",
       "    }\n",
       "\n",
       "    .dataframe thead th {\n",
       "        text-align: right;\n",
       "    }\n",
       "</style>\n",
       "<table border=\"1\" class=\"dataframe\">\n",
       "  <thead>\n",
       "    <tr style=\"text-align: right;\">\n",
       "      <th></th>\n",
       "      <th>Code</th>\n",
       "      <th>Long Name</th>\n",
       "      <th>Income Group</th>\n",
       "      <th>Region</th>\n",
       "      <th>Lending category</th>\n",
       "      <th>Other groups</th>\n",
       "      <th>Currency Unit</th>\n",
       "      <th>Latest population census</th>\n",
       "      <th>Latest household survey</th>\n",
       "      <th>Special Notes</th>\n",
       "      <th>National accounts base year</th>\n",
       "      <th>National accounts reference year</th>\n",
       "      <th>System of National Accounts</th>\n",
       "      <th>SNA price valuation</th>\n",
       "      <th>Alternative conversion factor</th>\n",
       "      <th>PPP survey year</th>\n",
       "      <th>Balance of Payments Manual in use</th>\n",
       "      <th>External debt Reporting status</th>\n",
       "      <th>System of trade</th>\n",
       "      <th>Government Accounting concept</th>\n",
       "      <th>IMF data dissemination standard</th>\n",
       "      <th>Source of most recent Income and expenditure data</th>\n",
       "      <th>Vital registration complete</th>\n",
       "      <th>Latest agricultural census</th>\n",
       "      <th>Latest industrial data</th>\n",
       "      <th>Latest trade data</th>\n",
       "      <th>2-alpha code</th>\n",
       "      <th>WB-2 code</th>\n",
       "      <th>Table Name</th>\n",
       "      <th>Short Name</th>\n",
       "    </tr>\n",
       "  </thead>\n",
       "  <tbody>\n",
       "    <tr>\n",
       "      <th>11</th>\n",
       "      <td>MEX</td>\n",
       "      <td>United Mexican States</td>\n",
       "      <td>Upper middle income</td>\n",
       "      <td>Latin America &amp; Caribbean</td>\n",
       "      <td>IBRD</td>\n",
       "      <td>NaN</td>\n",
       "      <td>Mexican peso</td>\n",
       "      <td>2010</td>\n",
       "      <td>Multiple Indicator Cluster Survey, 2015</td>\n",
       "      <td>NaN</td>\n",
       "      <td>2013</td>\n",
       "      <td>NaN</td>\n",
       "      <td>Country uses the 2008 System of National Accou...</td>\n",
       "      <td>Value added at basic prices (VAB)</td>\n",
       "      <td>NaN</td>\n",
       "      <td>2011</td>\n",
       "      <td>BPM6</td>\n",
       "      <td>Actual</td>\n",
       "      <td>General trade system</td>\n",
       "      <td>Consolidated central government</td>\n",
       "      <td>Special Data Dissemination Standard (SDDS)</td>\n",
       "      <td>Integrated household survey (IHS), 2016</td>\n",
       "      <td>Yes</td>\n",
       "      <td>2007</td>\n",
       "      <td>2013.0</td>\n",
       "      <td>2017.0</td>\n",
       "      <td>MX</td>\n",
       "      <td>MX</td>\n",
       "      <td>Mexico</td>\n",
       "      <td>Mexico</td>\n",
       "    </tr>\n",
       "    <tr>\n",
       "      <th>19</th>\n",
       "      <td>USA</td>\n",
       "      <td>United States of America</td>\n",
       "      <td>High income</td>\n",
       "      <td>North America</td>\n",
       "      <td>NaN</td>\n",
       "      <td>NaN</td>\n",
       "      <td>U.S. dollar</td>\n",
       "      <td>2010</td>\n",
       "      <td>NaN</td>\n",
       "      <td>NaN</td>\n",
       "      <td>Original chained constant price data are resca...</td>\n",
       "      <td>2010</td>\n",
       "      <td>Country uses the 2008 System of National Accou...</td>\n",
       "      <td>Value added at basic prices (VAB)</td>\n",
       "      <td>NaN</td>\n",
       "      <td>2011</td>\n",
       "      <td>BPM6</td>\n",
       "      <td>NaN</td>\n",
       "      <td>General trade system</td>\n",
       "      <td>Consolidated central government</td>\n",
       "      <td>Special Data Dissemination Standard Plus (SDDS+)</td>\n",
       "      <td>Labor force survey (LFS), 2016</td>\n",
       "      <td>Yes</td>\n",
       "      <td>2012</td>\n",
       "      <td>2011.0</td>\n",
       "      <td>2016.0</td>\n",
       "      <td>US</td>\n",
       "      <td>US</td>\n",
       "      <td>United States</td>\n",
       "      <td>United States</td>\n",
       "    </tr>\n",
       "    <tr>\n",
       "      <th>37</th>\n",
       "      <td>BLZ</td>\n",
       "      <td>Belize</td>\n",
       "      <td>Upper middle income</td>\n",
       "      <td>Latin America &amp; Caribbean</td>\n",
       "      <td>IBRD</td>\n",
       "      <td>NaN</td>\n",
       "      <td>Belize dollar</td>\n",
       "      <td>2010</td>\n",
       "      <td>Multiple Indicator Cluster Survey, 2015/16</td>\n",
       "      <td>NaN</td>\n",
       "      <td>2000</td>\n",
       "      <td>NaN</td>\n",
       "      <td>Country uses the 1993 System of National Accou...</td>\n",
       "      <td>Value added at basic prices (VAB)</td>\n",
       "      <td>NaN</td>\n",
       "      <td>2011</td>\n",
       "      <td>BPM6</td>\n",
       "      <td>Actual</td>\n",
       "      <td>General trade system</td>\n",
       "      <td>Budgetary central government</td>\n",
       "      <td>Enhanced General Data Dissemination System (e-...</td>\n",
       "      <td>Labor force survey (LFS), 1999</td>\n",
       "      <td>NaN</td>\n",
       "      <td>2011</td>\n",
       "      <td>1992.0</td>\n",
       "      <td>2017.0</td>\n",
       "      <td>BZ</td>\n",
       "      <td>BZ</td>\n",
       "      <td>Belize</td>\n",
       "      <td>Belize</td>\n",
       "    </tr>\n",
       "    <tr>\n",
       "      <th>39</th>\n",
       "      <td>BMU</td>\n",
       "      <td>The Bermudas</td>\n",
       "      <td>High income</td>\n",
       "      <td>North America</td>\n",
       "      <td>NaN</td>\n",
       "      <td>NaN</td>\n",
       "      <td>Bermuda dollar</td>\n",
       "      <td>2010</td>\n",
       "      <td>NaN</td>\n",
       "      <td>NaN</td>\n",
       "      <td>2006</td>\n",
       "      <td>NaN</td>\n",
       "      <td>Country uses the 1993 System of National Accou...</td>\n",
       "      <td>Value added at basic prices (VAB)</td>\n",
       "      <td>NaN</td>\n",
       "      <td>2011</td>\n",
       "      <td>BPM6</td>\n",
       "      <td>NaN</td>\n",
       "      <td>General trade system</td>\n",
       "      <td>NaN</td>\n",
       "      <td>NaN</td>\n",
       "      <td>NaN</td>\n",
       "      <td>Yes</td>\n",
       "      <td>NaN</td>\n",
       "      <td>NaN</td>\n",
       "      <td>2017.0</td>\n",
       "      <td>BM</td>\n",
       "      <td>BM</td>\n",
       "      <td>Bermuda</td>\n",
       "      <td>Bermuda</td>\n",
       "    </tr>\n",
       "    <tr>\n",
       "      <th>52</th>\n",
       "      <td>CAN</td>\n",
       "      <td>Canada</td>\n",
       "      <td>High income</td>\n",
       "      <td>North America</td>\n",
       "      <td>NaN</td>\n",
       "      <td>NaN</td>\n",
       "      <td>Canadian dollar</td>\n",
       "      <td>2016</td>\n",
       "      <td>NaN</td>\n",
       "      <td>Fiscal year end: March 31; reporting period fo...</td>\n",
       "      <td>Original chained constant price data are resca...</td>\n",
       "      <td>2010</td>\n",
       "      <td>Country uses the 2008 System of National Accou...</td>\n",
       "      <td>Value added at basic prices (VAB)</td>\n",
       "      <td>NaN</td>\n",
       "      <td>2011</td>\n",
       "      <td>BPM6</td>\n",
       "      <td>NaN</td>\n",
       "      <td>General trade system</td>\n",
       "      <td>Consolidated central government</td>\n",
       "      <td>Special Data Dissemination Standard Plus (SDDS+)</td>\n",
       "      <td>Labor force survey (LFS), 2013</td>\n",
       "      <td>Yes</td>\n",
       "      <td>2016</td>\n",
       "      <td>2014.0</td>\n",
       "      <td>2017.0</td>\n",
       "      <td>CA</td>\n",
       "      <td>CA</td>\n",
       "      <td>Canada</td>\n",
       "      <td>Canada</td>\n",
       "    </tr>\n",
       "    <tr>\n",
       "      <th>62</th>\n",
       "      <td>CRI</td>\n",
       "      <td>Republic of Costa Rica</td>\n",
       "      <td>Upper middle income</td>\n",
       "      <td>Latin America &amp; Caribbean</td>\n",
       "      <td>IBRD</td>\n",
       "      <td>NaN</td>\n",
       "      <td>Costa Rican colon</td>\n",
       "      <td>2011</td>\n",
       "      <td>Multiple Indicator Cluster Survey, 2018</td>\n",
       "      <td>NaN</td>\n",
       "      <td>Original chained constant price data are resca...</td>\n",
       "      <td>2012</td>\n",
       "      <td>Country uses the 2008 System of National Accou...</td>\n",
       "      <td>Value added at basic prices (VAB)</td>\n",
       "      <td>NaN</td>\n",
       "      <td>2011</td>\n",
       "      <td>BPM6</td>\n",
       "      <td>Actual</td>\n",
       "      <td>General trade system</td>\n",
       "      <td>Consolidated central government</td>\n",
       "      <td>Special Data Dissemination Standard (SDDS)</td>\n",
       "      <td>Integrated household survey (IHS), 2017</td>\n",
       "      <td>Yes</td>\n",
       "      <td>2014</td>\n",
       "      <td>2013.0</td>\n",
       "      <td>2017.0</td>\n",
       "      <td>CR</td>\n",
       "      <td>CR</td>\n",
       "      <td>Costa Rica</td>\n",
       "      <td>Costa Rica</td>\n",
       "    </tr>\n",
       "    <tr>\n",
       "      <th>75</th>\n",
       "      <td>SLV</td>\n",
       "      <td>Republic of El Salvador</td>\n",
       "      <td>Lower middle income</td>\n",
       "      <td>Latin America &amp; Caribbean</td>\n",
       "      <td>IBRD</td>\n",
       "      <td>NaN</td>\n",
       "      <td>U.S. dollar</td>\n",
       "      <td>2007</td>\n",
       "      <td>Multiple Indicator Cluster Survey, 2014</td>\n",
       "      <td>NaN</td>\n",
       "      <td>Original chained constant price data are resca...</td>\n",
       "      <td>2014</td>\n",
       "      <td>Country uses the 2008 System of National Accou...</td>\n",
       "      <td>Value added at basic prices (VAB)</td>\n",
       "      <td>NaN</td>\n",
       "      <td>2011</td>\n",
       "      <td>BPM6</td>\n",
       "      <td>Actual</td>\n",
       "      <td>General trade system</td>\n",
       "      <td>Consolidated central government</td>\n",
       "      <td>Special Data Dissemination Standard (SDDS)</td>\n",
       "      <td>Integrated household survey (IHS), 2017</td>\n",
       "      <td>Yes</td>\n",
       "      <td>2007-2008</td>\n",
       "      <td>1998.0</td>\n",
       "      <td>2017.0</td>\n",
       "      <td>SV</td>\n",
       "      <td>SV</td>\n",
       "      <td>El Salvador</td>\n",
       "      <td>El Salvador</td>\n",
       "    </tr>\n",
       "    <tr>\n",
       "      <th>94</th>\n",
       "      <td>GTM</td>\n",
       "      <td>Republic of Guatemala</td>\n",
       "      <td>Upper middle income</td>\n",
       "      <td>Latin America &amp; Caribbean</td>\n",
       "      <td>IBRD</td>\n",
       "      <td>NaN</td>\n",
       "      <td>Guatemalan quetzal</td>\n",
       "      <td>2002</td>\n",
       "      <td>Demographic and Health Survey, 2014/15</td>\n",
       "      <td>NaN</td>\n",
       "      <td>Original chained constant price data are resca...</td>\n",
       "      <td>NaN</td>\n",
       "      <td>Country uses the 1993 System of National Accou...</td>\n",
       "      <td>Value added at basic prices (VAB)</td>\n",
       "      <td>NaN</td>\n",
       "      <td>2011</td>\n",
       "      <td>BPM6</td>\n",
       "      <td>Actual</td>\n",
       "      <td>General trade system</td>\n",
       "      <td>Budgetary central government</td>\n",
       "      <td>Enhanced General Data Dissemination System (e-...</td>\n",
       "      <td>Living Standards Measurement Study Survey (LSM...</td>\n",
       "      <td>Yes</td>\n",
       "      <td>NaN</td>\n",
       "      <td>1988.0</td>\n",
       "      <td>2017.0</td>\n",
       "      <td>GT</td>\n",
       "      <td>GT</td>\n",
       "      <td>Guatemala</td>\n",
       "      <td>Guatemala</td>\n",
       "    </tr>\n",
       "    <tr>\n",
       "      <th>99</th>\n",
       "      <td>HND</td>\n",
       "      <td>Republic of Honduras</td>\n",
       "      <td>Lower middle income</td>\n",
       "      <td>Latin America &amp; Caribbean</td>\n",
       "      <td>IDA</td>\n",
       "      <td>HIPC</td>\n",
       "      <td>Honduran lempira</td>\n",
       "      <td>2013</td>\n",
       "      <td>Demographic and Health Survey, 2011/12</td>\n",
       "      <td>NaN</td>\n",
       "      <td>2000</td>\n",
       "      <td>NaN</td>\n",
       "      <td>Country uses the 1993 System of National Accou...</td>\n",
       "      <td>Value added at basic prices (VAB)</td>\n",
       "      <td>1988–89</td>\n",
       "      <td>2011</td>\n",
       "      <td>BPM5 (Converted into BPM6 by IMF)</td>\n",
       "      <td>Actual</td>\n",
       "      <td>Special trade system</td>\n",
       "      <td>Consolidated central government</td>\n",
       "      <td>Enhanced General Data Dissemination System (e-...</td>\n",
       "      <td>Integrated household survey (IHS), 2017</td>\n",
       "      <td>NaN</td>\n",
       "      <td>NaN</td>\n",
       "      <td>1996.0</td>\n",
       "      <td>2017.0</td>\n",
       "      <td>HN</td>\n",
       "      <td>HN</td>\n",
       "      <td>Honduras</td>\n",
       "      <td>Honduras</td>\n",
       "    </tr>\n",
       "    <tr>\n",
       "      <th>149</th>\n",
       "      <td>NIC</td>\n",
       "      <td>Republic of Nicaragua</td>\n",
       "      <td>Lower middle income</td>\n",
       "      <td>Latin America &amp; Caribbean</td>\n",
       "      <td>IDA</td>\n",
       "      <td>HIPC</td>\n",
       "      <td>Nicaraguan gold cordoba</td>\n",
       "      <td>2005</td>\n",
       "      <td>Reproductive Health Survey, 2006/2007</td>\n",
       "      <td>NaN</td>\n",
       "      <td>Original chained constant price data are resca...</td>\n",
       "      <td>2006</td>\n",
       "      <td>Country uses the 2008 System of National Accou...</td>\n",
       "      <td>Value added at basic prices (VAB)</td>\n",
       "      <td>1965–95</td>\n",
       "      <td>2011</td>\n",
       "      <td>BPM6</td>\n",
       "      <td>Actual</td>\n",
       "      <td>General trade system</td>\n",
       "      <td>Budgetary central government</td>\n",
       "      <td>Enhanced General Data Dissemination System (e-...</td>\n",
       "      <td>Living Standards Measurement Study Survey (LSM...</td>\n",
       "      <td>NaN</td>\n",
       "      <td>2011</td>\n",
       "      <td>1985.0</td>\n",
       "      <td>2017.0</td>\n",
       "      <td>NI</td>\n",
       "      <td>NI</td>\n",
       "      <td>Nicaragua</td>\n",
       "      <td>Nicaragua</td>\n",
       "    </tr>\n",
       "    <tr>\n",
       "      <th>158</th>\n",
       "      <td>PAN</td>\n",
       "      <td>Republic of Panama</td>\n",
       "      <td>High income</td>\n",
       "      <td>Latin America &amp; Caribbean</td>\n",
       "      <td>IBRD</td>\n",
       "      <td>NaN</td>\n",
       "      <td>Panamanian balboa</td>\n",
       "      <td>2010</td>\n",
       "      <td>Multiple Indicator Cluster Survey, 2013</td>\n",
       "      <td>NaN</td>\n",
       "      <td>Original chained constant price data are resca...</td>\n",
       "      <td>2007</td>\n",
       "      <td>Country uses the 1993 System of National Accou...</td>\n",
       "      <td>Value added at basic prices (VAB)</td>\n",
       "      <td>NaN</td>\n",
       "      <td>2011</td>\n",
       "      <td>BPM6</td>\n",
       "      <td>NaN</td>\n",
       "      <td>Special trade system</td>\n",
       "      <td>NaN</td>\n",
       "      <td>Enhanced General Data Dissemination System (e-...</td>\n",
       "      <td>Integrated household survey (IHS), 2016</td>\n",
       "      <td>Yes</td>\n",
       "      <td>2011</td>\n",
       "      <td>2001.0</td>\n",
       "      <td>2017.0</td>\n",
       "      <td>PA</td>\n",
       "      <td>PA</td>\n",
       "      <td>Panama</td>\n",
       "      <td>Panama</td>\n",
       "    </tr>\n",
       "    <tr>\n",
       "      <th>262</th>\n",
       "      <td>WLD</td>\n",
       "      <td>World</td>\n",
       "      <td>NaN</td>\n",
       "      <td>NaN</td>\n",
       "      <td>NaN</td>\n",
       "      <td>NaN</td>\n",
       "      <td>NaN</td>\n",
       "      <td>NaN</td>\n",
       "      <td>NaN</td>\n",
       "      <td>World aggregate.</td>\n",
       "      <td>NaN</td>\n",
       "      <td>NaN</td>\n",
       "      <td>NaN</td>\n",
       "      <td>NaN</td>\n",
       "      <td>NaN</td>\n",
       "      <td>NaN</td>\n",
       "      <td>NaN</td>\n",
       "      <td>NaN</td>\n",
       "      <td>NaN</td>\n",
       "      <td>NaN</td>\n",
       "      <td>NaN</td>\n",
       "      <td>NaN</td>\n",
       "      <td>NaN</td>\n",
       "      <td>NaN</td>\n",
       "      <td>NaN</td>\n",
       "      <td>2016.0</td>\n",
       "      <td>1W</td>\n",
       "      <td>1W</td>\n",
       "      <td>World</td>\n",
       "      <td>World</td>\n",
       "    </tr>\n",
       "  </tbody>\n",
       "</table>\n",
       "</div>"
      ],
      "text/plain": [
       "    Code                 Long Name  ...     Table Name     Short Name\n",
       "11   MEX     United Mexican States  ...         Mexico         Mexico\n",
       "19   USA  United States of America  ...  United States  United States\n",
       "37   BLZ                    Belize  ...         Belize         Belize\n",
       "39   BMU              The Bermudas  ...        Bermuda        Bermuda\n",
       "52   CAN                    Canada  ...         Canada         Canada\n",
       "62   CRI    Republic of Costa Rica  ...     Costa Rica     Costa Rica\n",
       "75   SLV   Republic of El Salvador  ...    El Salvador    El Salvador\n",
       "94   GTM     Republic of Guatemala  ...      Guatemala      Guatemala\n",
       "99   HND      Republic of Honduras  ...       Honduras       Honduras\n",
       "149  NIC     Republic of Nicaragua  ...      Nicaragua      Nicaragua\n",
       "158  PAN        Republic of Panama  ...         Panama         Panama\n",
       "262  WLD                     World  ...          World          World\n",
       "\n",
       "[12 rows x 30 columns]"
      ]
     },
     "execution_count": 14,
     "metadata": {
      "tags": []
     },
     "output_type": "execute_result"
    }
   ],
   "source": [
    "# reading in dataset\n",
    "file = 'WDI_Metadata.xlsx'\n",
    "meta_country = pd.read_excel(file, sheet_name='Country - Metadata')\n",
    "\n",
    "#filter with country codes\n",
    "meta_country[meta_country['Code'].isin(sel_country_codes)]"
   ]
  },
  {
   "cell_type": "markdown",
   "metadata": {
    "colab_type": "text",
    "id": "BGqgWaLqujin"
   },
   "source": [
    "Now we want to see if the footnotes have something to tell us about our selected countries."
   ]
  },
  {
   "cell_type": "code",
   "execution_count": 0,
   "metadata": {
    "colab": {
     "base_uri": "https://localhost:8080/",
     "height": 1000
    },
    "colab_type": "code",
    "id": "6bWvWmgGulMQ",
    "outputId": "24289a76-4ccd-4b49-86e6-8bf994b558f2"
   },
   "outputs": [
    {
     "data": {
      "text/html": [
       "<div>\n",
       "<style scoped>\n",
       "    .dataframe tbody tr th:only-of-type {\n",
       "        vertical-align: middle;\n",
       "    }\n",
       "\n",
       "    .dataframe tbody tr th {\n",
       "        vertical-align: top;\n",
       "    }\n",
       "\n",
       "    .dataframe thead th {\n",
       "        text-align: right;\n",
       "    }\n",
       "</style>\n",
       "<table border=\"1\" class=\"dataframe\">\n",
       "  <thead>\n",
       "    <tr style=\"text-align: right;\">\n",
       "      <th></th>\n",
       "      <th>Type</th>\n",
       "      <th>Country Code</th>\n",
       "      <th>Series Code</th>\n",
       "      <th>Time Code</th>\n",
       "      <th>Description</th>\n",
       "    </tr>\n",
       "  </thead>\n",
       "  <tbody>\n",
       "    <tr>\n",
       "      <th>72</th>\n",
       "      <td>FootNote</td>\n",
       "      <td>Belize (BLZ)</td>\n",
       "      <td>Prevalence of HIV, total (% of population ages...</td>\n",
       "      <td>2017 (YR2017)</td>\n",
       "      <td>Plausible bound is 1.7 - 2.1</td>\n",
       "    </tr>\n",
       "    <tr>\n",
       "      <th>73</th>\n",
       "      <td>FootNote</td>\n",
       "      <td>Bermuda (BMU)</td>\n",
       "      <td>Fertility rate, total (births per woman) (SP.D...</td>\n",
       "      <td>2017 (YR2017)</td>\n",
       "      <td>Government's projection</td>\n",
       "    </tr>\n",
       "    <tr>\n",
       "      <th>111</th>\n",
       "      <td>FootNote</td>\n",
       "      <td>Canada (CAN)</td>\n",
       "      <td>Prevalence of undernourishment (% of populatio...</td>\n",
       "      <td>2017 (YR2017)</td>\n",
       "      <td>Proportion of undernourished less than 2.5 per...</td>\n",
       "    </tr>\n",
       "    <tr>\n",
       "      <th>161</th>\n",
       "      <td>FootNote</td>\n",
       "      <td>Costa Rica (CRI)</td>\n",
       "      <td>Poverty headcount ratio at $3.20 a day (2011 P...</td>\n",
       "      <td>2017 (YR2017)</td>\n",
       "      <td>Estimated from unit-record income data.</td>\n",
       "    </tr>\n",
       "    <tr>\n",
       "      <th>162</th>\n",
       "      <td>FootNote</td>\n",
       "      <td>Costa Rica (CRI)</td>\n",
       "      <td>Poverty headcount ratio at national poverty li...</td>\n",
       "      <td>2017 (YR2017)</td>\n",
       "      <td>Source: INEC/Encuesta Nacional de Hogares (Ena...</td>\n",
       "    </tr>\n",
       "    <tr>\n",
       "      <th>163</th>\n",
       "      <td>FootNote</td>\n",
       "      <td>Costa Rica (CRI)</td>\n",
       "      <td>GINI index (World Bank estimate) (SI.POV.GINI)</td>\n",
       "      <td>2017 (YR2017)</td>\n",
       "      <td>Estimated from unit-record income data.</td>\n",
       "    </tr>\n",
       "    <tr>\n",
       "      <th>164</th>\n",
       "      <td>FootNote</td>\n",
       "      <td>Costa Rica (CRI)</td>\n",
       "      <td>Income share held by second 20% (SI.DST.02ND.20)</td>\n",
       "      <td>2017 (YR2017)</td>\n",
       "      <td>Estimated from unit-record income data.</td>\n",
       "    </tr>\n",
       "    <tr>\n",
       "      <th>165</th>\n",
       "      <td>FootNote</td>\n",
       "      <td>Costa Rica (CRI)</td>\n",
       "      <td>Income share held by third 20% (SI.DST.03RD.20)</td>\n",
       "      <td>2017 (YR2017)</td>\n",
       "      <td>Estimated from unit-record income data.</td>\n",
       "    </tr>\n",
       "    <tr>\n",
       "      <th>166</th>\n",
       "      <td>FootNote</td>\n",
       "      <td>Costa Rica (CRI)</td>\n",
       "      <td>Income share held by fourth 20% (SI.DST.04TH.20)</td>\n",
       "      <td>2017 (YR2017)</td>\n",
       "      <td>Estimated from unit-record income data.</td>\n",
       "    </tr>\n",
       "    <tr>\n",
       "      <th>167</th>\n",
       "      <td>FootNote</td>\n",
       "      <td>Costa Rica (CRI)</td>\n",
       "      <td>Income share held by highest 20% (SI.DST.05TH.20)</td>\n",
       "      <td>2017 (YR2017)</td>\n",
       "      <td>Estimated from unit-record income data.</td>\n",
       "    </tr>\n",
       "    <tr>\n",
       "      <th>168</th>\n",
       "      <td>FootNote</td>\n",
       "      <td>Costa Rica (CRI)</td>\n",
       "      <td>Income share held by lowest 20% (SI.DST.FRST.20)</td>\n",
       "      <td>2017 (YR2017)</td>\n",
       "      <td>Estimated from unit-record income data.</td>\n",
       "    </tr>\n",
       "    <tr>\n",
       "      <th>169</th>\n",
       "      <td>FootNote</td>\n",
       "      <td>Costa Rica (CRI)</td>\n",
       "      <td>Poverty headcount ratio at $1.90 a day (2011 P...</td>\n",
       "      <td>2017 (YR2017)</td>\n",
       "      <td>Estimated from unit-record income data.</td>\n",
       "    </tr>\n",
       "    <tr>\n",
       "      <th>170</th>\n",
       "      <td>FootNote</td>\n",
       "      <td>Costa Rica (CRI)</td>\n",
       "      <td>Military expenditure (% of GDP) (MS.MIL.XPND.G...</td>\n",
       "      <td>2017 (YR2017)</td>\n",
       "      <td>Costa Rica has no armed forces. Expenditure fo...</td>\n",
       "    </tr>\n",
       "    <tr>\n",
       "      <th>171</th>\n",
       "      <td>FootNote</td>\n",
       "      <td>Costa Rica (CRI)</td>\n",
       "      <td>Prevalence of HIV, total (% of population ages...</td>\n",
       "      <td>2017 (YR2017)</td>\n",
       "      <td>Plausible bound is 0.4 - 0.4</td>\n",
       "    </tr>\n",
       "    <tr>\n",
       "      <th>287</th>\n",
       "      <td>FootNote</td>\n",
       "      <td>Guatemala (GTM)</td>\n",
       "      <td>Prevalence of HIV, total (% of population ages...</td>\n",
       "      <td>2017 (YR2017)</td>\n",
       "      <td>Plausible bound is 0.4 - 0.4</td>\n",
       "    </tr>\n",
       "    <tr>\n",
       "      <th>292</th>\n",
       "      <td>FootNote</td>\n",
       "      <td>Honduras (HND)</td>\n",
       "      <td>Military expenditure (% of GDP) (MS.MIL.XPND.G...</td>\n",
       "      <td>2017 (YR2017)</td>\n",
       "      <td>The figures for Honduras do not include arms i...</td>\n",
       "    </tr>\n",
       "    <tr>\n",
       "      <th>293</th>\n",
       "      <td>FootNote</td>\n",
       "      <td>Honduras (HND)</td>\n",
       "      <td>Poverty headcount ratio at national poverty li...</td>\n",
       "      <td>2017 (YR2017)</td>\n",
       "      <td>Source: INE. Encuesta Permanente de Hogares de...</td>\n",
       "    </tr>\n",
       "    <tr>\n",
       "      <th>294</th>\n",
       "      <td>FootNote</td>\n",
       "      <td>Honduras (HND)</td>\n",
       "      <td>Income share held by highest 20% (SI.DST.05TH.20)</td>\n",
       "      <td>2017 (YR2017)</td>\n",
       "      <td>Estimated from unit-record income data.</td>\n",
       "    </tr>\n",
       "    <tr>\n",
       "      <th>295</th>\n",
       "      <td>FootNote</td>\n",
       "      <td>Honduras (HND)</td>\n",
       "      <td>Poverty headcount ratio at $1.90 a day (2011 P...</td>\n",
       "      <td>2017 (YR2017)</td>\n",
       "      <td>Estimated from unit-record income data.</td>\n",
       "    </tr>\n",
       "    <tr>\n",
       "      <th>296</th>\n",
       "      <td>FootNote</td>\n",
       "      <td>Honduras (HND)</td>\n",
       "      <td>GINI index (World Bank estimate) (SI.POV.GINI)</td>\n",
       "      <td>2017 (YR2017)</td>\n",
       "      <td>Estimated from unit-record income data.</td>\n",
       "    </tr>\n",
       "    <tr>\n",
       "      <th>297</th>\n",
       "      <td>FootNote</td>\n",
       "      <td>Honduras (HND)</td>\n",
       "      <td>Poverty headcount ratio at $3.20 a day (2011 P...</td>\n",
       "      <td>2017 (YR2017)</td>\n",
       "      <td>Estimated from unit-record income data.</td>\n",
       "    </tr>\n",
       "    <tr>\n",
       "      <th>298</th>\n",
       "      <td>FootNote</td>\n",
       "      <td>Honduras (HND)</td>\n",
       "      <td>Prevalence of HIV, total (% of population ages...</td>\n",
       "      <td>2017 (YR2017)</td>\n",
       "      <td>Plausible bound is 0.3 - 0.4</td>\n",
       "    </tr>\n",
       "    <tr>\n",
       "      <th>299</th>\n",
       "      <td>FootNote</td>\n",
       "      <td>Honduras (HND)</td>\n",
       "      <td>Income share held by lowest 20% (SI.DST.FRST.20)</td>\n",
       "      <td>2017 (YR2017)</td>\n",
       "      <td>Estimated from unit-record income data.</td>\n",
       "    </tr>\n",
       "    <tr>\n",
       "      <th>300</th>\n",
       "      <td>FootNote</td>\n",
       "      <td>Honduras (HND)</td>\n",
       "      <td>Income share held by second 20% (SI.DST.02ND.20)</td>\n",
       "      <td>2017 (YR2017)</td>\n",
       "      <td>Estimated from unit-record income data.</td>\n",
       "    </tr>\n",
       "    <tr>\n",
       "      <th>301</th>\n",
       "      <td>FootNote</td>\n",
       "      <td>Honduras (HND)</td>\n",
       "      <td>Income share held by third 20% (SI.DST.03RD.20)</td>\n",
       "      <td>2017 (YR2017)</td>\n",
       "      <td>Estimated from unit-record income data.</td>\n",
       "    </tr>\n",
       "    <tr>\n",
       "      <th>302</th>\n",
       "      <td>FootNote</td>\n",
       "      <td>Honduras (HND)</td>\n",
       "      <td>Income share held by fourth 20% (SI.DST.04TH.20)</td>\n",
       "      <td>2017 (YR2017)</td>\n",
       "      <td>Estimated from unit-record income data.</td>\n",
       "    </tr>\n",
       "    <tr>\n",
       "      <th>425</th>\n",
       "      <td>FootNote</td>\n",
       "      <td>Mexico (MEX)</td>\n",
       "      <td>Prevalence of HIV, total (% of population ages...</td>\n",
       "      <td>2017 (YR2017)</td>\n",
       "      <td>Plausible bound is 0.2 - 0.3</td>\n",
       "    </tr>\n",
       "    <tr>\n",
       "      <th>466</th>\n",
       "      <td>FootNote</td>\n",
       "      <td>Nicaragua (NIC)</td>\n",
       "      <td>Military expenditure (% of GDP) (MS.MIL.XPND.G...</td>\n",
       "      <td>2017 (YR2017)</td>\n",
       "      <td>The figures for Nicaragua includes military ai...</td>\n",
       "    </tr>\n",
       "    <tr>\n",
       "      <th>467</th>\n",
       "      <td>FootNote</td>\n",
       "      <td>Nicaragua (NIC)</td>\n",
       "      <td>Prevalence of HIV, total (% of population ages...</td>\n",
       "      <td>2017 (YR2017)</td>\n",
       "      <td>Plausible bound is 0.2 - 0.3</td>\n",
       "    </tr>\n",
       "    <tr>\n",
       "      <th>489</th>\n",
       "      <td>FootNote</td>\n",
       "      <td>Panama (PAN)</td>\n",
       "      <td>Poverty headcount ratio at $1.90 a day (2011 P...</td>\n",
       "      <td>2017 (YR2017)</td>\n",
       "      <td>Estimated from unit-record income data.</td>\n",
       "    </tr>\n",
       "    <tr>\n",
       "      <th>490</th>\n",
       "      <td>FootNote</td>\n",
       "      <td>Panama (PAN)</td>\n",
       "      <td>Income share held by lowest 20% (SI.DST.FRST.20)</td>\n",
       "      <td>2017 (YR2017)</td>\n",
       "      <td>Estimated from unit-record income data.</td>\n",
       "    </tr>\n",
       "    <tr>\n",
       "      <th>491</th>\n",
       "      <td>FootNote</td>\n",
       "      <td>Panama (PAN)</td>\n",
       "      <td>Income share held by highest 20% (SI.DST.05TH.20)</td>\n",
       "      <td>2017 (YR2017)</td>\n",
       "      <td>Estimated from unit-record income data.</td>\n",
       "    </tr>\n",
       "    <tr>\n",
       "      <th>492</th>\n",
       "      <td>FootNote</td>\n",
       "      <td>Panama (PAN)</td>\n",
       "      <td>GINI index (World Bank estimate) (SI.POV.GINI)</td>\n",
       "      <td>2017 (YR2017)</td>\n",
       "      <td>Estimated from unit-record income data.</td>\n",
       "    </tr>\n",
       "    <tr>\n",
       "      <th>493</th>\n",
       "      <td>FootNote</td>\n",
       "      <td>Panama (PAN)</td>\n",
       "      <td>Poverty headcount ratio at $3.20 a day (2011 P...</td>\n",
       "      <td>2017 (YR2017)</td>\n",
       "      <td>Estimated from unit-record income data.</td>\n",
       "    </tr>\n",
       "    <tr>\n",
       "      <th>494</th>\n",
       "      <td>FootNote</td>\n",
       "      <td>Panama (PAN)</td>\n",
       "      <td>Income share held by second 20% (SI.DST.02ND.20)</td>\n",
       "      <td>2017 (YR2017)</td>\n",
       "      <td>Estimated from unit-record income data.</td>\n",
       "    </tr>\n",
       "    <tr>\n",
       "      <th>495</th>\n",
       "      <td>FootNote</td>\n",
       "      <td>Panama (PAN)</td>\n",
       "      <td>Income share held by third 20% (SI.DST.03RD.20)</td>\n",
       "      <td>2017 (YR2017)</td>\n",
       "      <td>Estimated from unit-record income data.</td>\n",
       "    </tr>\n",
       "    <tr>\n",
       "      <th>496</th>\n",
       "      <td>FootNote</td>\n",
       "      <td>Panama (PAN)</td>\n",
       "      <td>Income share held by fourth 20% (SI.DST.04TH.20)</td>\n",
       "      <td>2017 (YR2017)</td>\n",
       "      <td>Estimated from unit-record income data.</td>\n",
       "    </tr>\n",
       "    <tr>\n",
       "      <th>497</th>\n",
       "      <td>FootNote</td>\n",
       "      <td>Panama (PAN)</td>\n",
       "      <td>Military expenditure (% of GDP) (MS.MIL.XPND.G...</td>\n",
       "      <td>2017 (YR2017)</td>\n",
       "      <td>The Panamanian defence forces were disbanded i...</td>\n",
       "    </tr>\n",
       "    <tr>\n",
       "      <th>498</th>\n",
       "      <td>FootNote</td>\n",
       "      <td>Panama (PAN)</td>\n",
       "      <td>Prevalence of HIV, total (% of population ages...</td>\n",
       "      <td>2017 (YR2017)</td>\n",
       "      <td>Plausible bound is 0.8 - 1</td>\n",
       "    </tr>\n",
       "    <tr>\n",
       "      <th>563</th>\n",
       "      <td>FootNote</td>\n",
       "      <td>El Salvador (SLV)</td>\n",
       "      <td>Prevalence of HIV, total (% of population ages...</td>\n",
       "      <td>2017 (YR2017)</td>\n",
       "      <td>Plausible bound is 0.5 - 0.7</td>\n",
       "    </tr>\n",
       "    <tr>\n",
       "      <th>564</th>\n",
       "      <td>FootNote</td>\n",
       "      <td>El Salvador (SLV)</td>\n",
       "      <td>Military expenditure (% of GDP) (MS.MIL.XPND.G...</td>\n",
       "      <td>2017 (YR2017)</td>\n",
       "      <td>The figures for El Salvador include military p...</td>\n",
       "    </tr>\n",
       "    <tr>\n",
       "      <th>565</th>\n",
       "      <td>FootNote</td>\n",
       "      <td>El Salvador (SLV)</td>\n",
       "      <td>Income share held by lowest 20% (SI.DST.FRST.20)</td>\n",
       "      <td>2017 (YR2017)</td>\n",
       "      <td>Estimated from unit-record income data.</td>\n",
       "    </tr>\n",
       "    <tr>\n",
       "      <th>566</th>\n",
       "      <td>FootNote</td>\n",
       "      <td>El Salvador (SLV)</td>\n",
       "      <td>Income share held by fourth 20% (SI.DST.04TH.20)</td>\n",
       "      <td>2017 (YR2017)</td>\n",
       "      <td>Estimated from unit-record income data.</td>\n",
       "    </tr>\n",
       "    <tr>\n",
       "      <th>567</th>\n",
       "      <td>FootNote</td>\n",
       "      <td>El Salvador (SLV)</td>\n",
       "      <td>Income share held by highest 20% (SI.DST.05TH.20)</td>\n",
       "      <td>2017 (YR2017)</td>\n",
       "      <td>Estimated from unit-record income data.</td>\n",
       "    </tr>\n",
       "    <tr>\n",
       "      <th>568</th>\n",
       "      <td>FootNote</td>\n",
       "      <td>El Salvador (SLV)</td>\n",
       "      <td>Income share held by second 20% (SI.DST.02ND.20)</td>\n",
       "      <td>2017 (YR2017)</td>\n",
       "      <td>Estimated from unit-record income data.</td>\n",
       "    </tr>\n",
       "    <tr>\n",
       "      <th>569</th>\n",
       "      <td>FootNote</td>\n",
       "      <td>El Salvador (SLV)</td>\n",
       "      <td>Income share held by third 20% (SI.DST.03RD.20)</td>\n",
       "      <td>2017 (YR2017)</td>\n",
       "      <td>Estimated from unit-record income data.</td>\n",
       "    </tr>\n",
       "    <tr>\n",
       "      <th>570</th>\n",
       "      <td>FootNote</td>\n",
       "      <td>El Salvador (SLV)</td>\n",
       "      <td>Poverty headcount ratio at $1.90 a day (2011 P...</td>\n",
       "      <td>2017 (YR2017)</td>\n",
       "      <td>Estimated from unit-record income data.</td>\n",
       "    </tr>\n",
       "    <tr>\n",
       "      <th>571</th>\n",
       "      <td>FootNote</td>\n",
       "      <td>El Salvador (SLV)</td>\n",
       "      <td>GINI index (World Bank estimate) (SI.POV.GINI)</td>\n",
       "      <td>2017 (YR2017)</td>\n",
       "      <td>Estimated from unit-record income data.</td>\n",
       "    </tr>\n",
       "    <tr>\n",
       "      <th>572</th>\n",
       "      <td>FootNote</td>\n",
       "      <td>El Salvador (SLV)</td>\n",
       "      <td>Poverty headcount ratio at $3.20 a day (2011 P...</td>\n",
       "      <td>2017 (YR2017)</td>\n",
       "      <td>Estimated from unit-record income data.</td>\n",
       "    </tr>\n",
       "    <tr>\n",
       "      <th>637</th>\n",
       "      <td>FootNote</td>\n",
       "      <td>United States (USA)</td>\n",
       "      <td>Prevalence of undernourishment (% of populatio...</td>\n",
       "      <td>2017 (YR2017)</td>\n",
       "      <td>Proportion of undernourished less than 2.5 per...</td>\n",
       "    </tr>\n",
       "    <tr>\n",
       "      <th>638</th>\n",
       "      <td>FootNote</td>\n",
       "      <td>United States (USA)</td>\n",
       "      <td>Death rate, crude (per 1,000 people) (SP.DYN.C...</td>\n",
       "      <td>2017 (YR2017)</td>\n",
       "      <td>Extrapolated assuming the same as previous yea...</td>\n",
       "    </tr>\n",
       "    <tr>\n",
       "      <th>639</th>\n",
       "      <td>FootNote</td>\n",
       "      <td>United States (USA)</td>\n",
       "      <td>Military expenditure (% of GDP) (MS.MIL.XPND.G...</td>\n",
       "      <td>2017 (YR2017)</td>\n",
       "      <td>All figures for the USA are for financial year...</td>\n",
       "    </tr>\n",
       "    <tr>\n",
       "      <th>646</th>\n",
       "      <td>FootNote</td>\n",
       "      <td>World (WLD)</td>\n",
       "      <td>Prevalence of HIV, total (% of population ages...</td>\n",
       "      <td>2017 (YR2017)</td>\n",
       "      <td>Plausible bound is 0.6 - 0.9</td>\n",
       "    </tr>\n",
       "    <tr>\n",
       "      <th>647</th>\n",
       "      <td>FootNote</td>\n",
       "      <td>World (WLD)</td>\n",
       "      <td>Prevalence of underweight, weight for age (% o...</td>\n",
       "      <td>2017 (YR2017)</td>\n",
       "      <td>95% confidence interval is 11.8-15.1</td>\n",
       "    </tr>\n",
       "  </tbody>\n",
       "</table>\n",
       "</div>"
      ],
      "text/plain": [
       "         Type  ...                                        Description\n",
       "72   FootNote  ...                       Plausible bound is 1.7 - 2.1\n",
       "73   FootNote  ...                            Government's projection\n",
       "111  FootNote  ...  Proportion of undernourished less than 2.5 per...\n",
       "161  FootNote  ...            Estimated from unit-record income data.\n",
       "162  FootNote  ...  Source: INEC/Encuesta Nacional de Hogares (Ena...\n",
       "163  FootNote  ...            Estimated from unit-record income data.\n",
       "164  FootNote  ...            Estimated from unit-record income data.\n",
       "165  FootNote  ...            Estimated from unit-record income data.\n",
       "166  FootNote  ...            Estimated from unit-record income data.\n",
       "167  FootNote  ...            Estimated from unit-record income data.\n",
       "168  FootNote  ...            Estimated from unit-record income data.\n",
       "169  FootNote  ...            Estimated from unit-record income data.\n",
       "170  FootNote  ...  Costa Rica has no armed forces. Expenditure fo...\n",
       "171  FootNote  ...                       Plausible bound is 0.4 - 0.4\n",
       "287  FootNote  ...                       Plausible bound is 0.4 - 0.4\n",
       "292  FootNote  ...  The figures for Honduras do not include arms i...\n",
       "293  FootNote  ...  Source: INE. Encuesta Permanente de Hogares de...\n",
       "294  FootNote  ...            Estimated from unit-record income data.\n",
       "295  FootNote  ...            Estimated from unit-record income data.\n",
       "296  FootNote  ...            Estimated from unit-record income data.\n",
       "297  FootNote  ...            Estimated from unit-record income data.\n",
       "298  FootNote  ...                       Plausible bound is 0.3 - 0.4\n",
       "299  FootNote  ...            Estimated from unit-record income data.\n",
       "300  FootNote  ...            Estimated from unit-record income data.\n",
       "301  FootNote  ...            Estimated from unit-record income data.\n",
       "302  FootNote  ...            Estimated from unit-record income data.\n",
       "425  FootNote  ...                       Plausible bound is 0.2 - 0.3\n",
       "466  FootNote  ...  The figures for Nicaragua includes military ai...\n",
       "467  FootNote  ...                       Plausible bound is 0.2 - 0.3\n",
       "489  FootNote  ...            Estimated from unit-record income data.\n",
       "490  FootNote  ...            Estimated from unit-record income data.\n",
       "491  FootNote  ...            Estimated from unit-record income data.\n",
       "492  FootNote  ...            Estimated from unit-record income data.\n",
       "493  FootNote  ...            Estimated from unit-record income data.\n",
       "494  FootNote  ...            Estimated from unit-record income data.\n",
       "495  FootNote  ...            Estimated from unit-record income data.\n",
       "496  FootNote  ...            Estimated from unit-record income data.\n",
       "497  FootNote  ...  The Panamanian defence forces were disbanded i...\n",
       "498  FootNote  ...                         Plausible bound is 0.8 - 1\n",
       "563  FootNote  ...                       Plausible bound is 0.5 - 0.7\n",
       "564  FootNote  ...  The figures for El Salvador include military p...\n",
       "565  FootNote  ...            Estimated from unit-record income data.\n",
       "566  FootNote  ...            Estimated from unit-record income data.\n",
       "567  FootNote  ...            Estimated from unit-record income data.\n",
       "568  FootNote  ...            Estimated from unit-record income data.\n",
       "569  FootNote  ...            Estimated from unit-record income data.\n",
       "570  FootNote  ...            Estimated from unit-record income data.\n",
       "571  FootNote  ...            Estimated from unit-record income data.\n",
       "572  FootNote  ...            Estimated from unit-record income data.\n",
       "637  FootNote  ...  Proportion of undernourished less than 2.5 per...\n",
       "638  FootNote  ...  Extrapolated assuming the same as previous yea...\n",
       "639  FootNote  ...  All figures for the USA are for financial year...\n",
       "646  FootNote  ...                       Plausible bound is 0.6 - 0.9\n",
       "647  FootNote  ...               95% confidence interval is 11.8-15.1\n",
       "\n",
       "[54 rows x 5 columns]"
      ]
     },
     "execution_count": 15,
     "metadata": {
      "tags": []
     },
     "output_type": "execute_result"
    }
   ],
   "source": [
    "# reading in dataset\n",
    "file = 'WDI_Metadata.xlsx'\n",
    "meta_footnote = pd.read_excel(file, sheet_name='FootNote')\n",
    "\n",
    "# set new list with chosen countries to filter tables\n",
    "sel_country_names_codes = ('Belize (BLZ)','Bermuda (BMU)','Canada (CAN)',\\\n",
    "                           'Costa Rica (CRI)','El Salvador (SLV)','Guatemala (GTM)',\\\n",
    "                           'Honduras (HND)','Mexico (MEX)','Nicaragua (NIC)',\\\n",
    "                           'Panama (PAN)','United States (USA)','World (WLD)')\n",
    "\n",
    "\n",
    "#filter with country codes\n",
    "meta_footnote[meta_footnote['Country Code'].isin(sel_country_names_codes)] "
   ]
  },
  {
   "cell_type": "markdown",
   "metadata": {
    "colab_type": "text",
    "id": "HhF4FwkLmu9y"
   },
   "source": [
    "After going through the Meta Data, we now start analysing the actual data set."
   ]
  },
  {
   "cell_type": "markdown",
   "metadata": {
    "colab_type": "text",
    "id": "TAcYxCznnVvh"
   },
   "source": [
    "In the following, we are first filtering the raw data from the data set down to our selected countries."
   ]
  },
  {
   "cell_type": "code",
   "execution_count": 0,
   "metadata": {
    "colab": {
     "base_uri": "https://localhost:8080/",
     "height": 1000
    },
    "colab_type": "code",
    "id": "CKxcIWXam-ll",
    "outputId": "93f2942f-9952-4025-f36d-639e0f41679c"
   },
   "outputs": [
    {
     "data": {
      "text/html": [
       "<div>\n",
       "<style scoped>\n",
       "    .dataframe tbody tr th:only-of-type {\n",
       "        vertical-align: middle;\n",
       "    }\n",
       "\n",
       "    .dataframe tbody tr th {\n",
       "        vertical-align: top;\n",
       "    }\n",
       "\n",
       "    .dataframe thead th {\n",
       "        text-align: right;\n",
       "    }\n",
       "</style>\n",
       "<table border=\"1\" class=\"dataframe\">\n",
       "  <thead>\n",
       "    <tr style=\"text-align: right;\">\n",
       "      <th></th>\n",
       "      <th>Country Code</th>\n",
       "      <th>Country Name</th>\n",
       "      <th>Hult Region</th>\n",
       "      <th>Cool Name</th>\n",
       "      <th>Access to electricity (% of population)</th>\n",
       "      <th>Access to electricity, rural (% of rural population)</th>\n",
       "      <th>Access to electricity, urban (% of urban population)</th>\n",
       "      <th>Adolescent fertility rate (births per 1,000 women ages 15-19)</th>\n",
       "      <th>Age dependency ratio (% of working-age population)</th>\n",
       "      <th>Age dependency ratio, old (% of working-age population)</th>\n",
       "      <th>Age dependency ratio, young (% of working-age population)</th>\n",
       "      <th>Agriculture, forestry, and fishing, value added (% of GDP)</th>\n",
       "      <th>Armed forces personnel (% of total labor force)</th>\n",
       "      <th>Birth rate, crude (per 1,000 people)</th>\n",
       "      <th>Births attended by skilled health staff (% of total)</th>\n",
       "      <th>Death rate, crude (per 1,000 people)</th>\n",
       "      <th>Educational attainment, Doctoral or equivalent, population 25+, total (%) (cumulative)</th>\n",
       "      <th>Educational attainment, at least Bachelor's or equivalent, population 25+, total (%) (cumulative)</th>\n",
       "      <th>Educational attainment, at least Master's or equivalent, population 25+, total (%) (cumulative)</th>\n",
       "      <th>Educational attainment, at least completed lower secondary, population 25+, total (%) (cumulative)</th>\n",
       "      <th>Educational attainment, at least completed post-secondary, population 25+, total (%) (cumulative)</th>\n",
       "      <th>Educational attainment, at least completed primary, population 25+ years, total (%) (cumulative)</th>\n",
       "      <th>Educational attainment, at least completed short-cycle tertiary, population 25+, total (%) (cumulative)</th>\n",
       "      <th>Educational attainment, at least completed upper secondary, population 25+, total (%) (cumulative)</th>\n",
       "      <th>Employment in agriculture (% of total employment) (modeled ILO estimate)</th>\n",
       "      <th>Employment in industry (% of total employment) (modeled ILO estimate)</th>\n",
       "      <th>Employment in services (% of total employment) (modeled ILO estimate)</th>\n",
       "      <th>Fertility rate, total (births per woman)</th>\n",
       "      <th>GDP (current US$)</th>\n",
       "      <th>GDP growth (annual %)</th>\n",
       "      <th>GINI index (World Bank estimate)</th>\n",
       "      <th>Government expenditure on education, total (% of government expenditure)</th>\n",
       "      <th>Income share held by fourth 20%</th>\n",
       "      <th>Income share held by highest 20%</th>\n",
       "      <th>Income share held by lowest 20%</th>\n",
       "      <th>Income share held by second 20%</th>\n",
       "      <th>Income share held by third 20%</th>\n",
       "      <th>Industry (including construction), value added (% of GDP)</th>\n",
       "      <th>Life expectancy at birth, total (years)</th>\n",
       "      <th>Literacy rate, adult total (% of people ages 15 and above)</th>\n",
       "      <th>Literacy rate, youth total (% of people ages 15-24)</th>\n",
       "      <th>Merchandise trade (% of GDP)</th>\n",
       "      <th>Military expenditure (% of GDP)</th>\n",
       "      <th>Mobile cellular subscriptions (per 100 people)</th>\n",
       "      <th>Number of people pushed below the $3.10 ($ 2011 PPP) poverty line by out-of-pocket health care expenditure</th>\n",
       "      <th>Population ages 0-14 (% of total population)</th>\n",
       "      <th>Population ages 15-64 (% of total population)</th>\n",
       "      <th>Population ages 65 and above (% of total population)</th>\n",
       "      <th>Population density (people per sq. km of land area)</th>\n",
       "      <th>Population growth (annual %)</th>\n",
       "      <th>Population in the largest city (% of urban population)</th>\n",
       "      <th>Population living in slums (% of urban population)</th>\n",
       "      <th>Population, female</th>\n",
       "      <th>Population, male</th>\n",
       "      <th>Population, total</th>\n",
       "      <th>Poverty headcount ratio at $1.90 a day (2011 PPP) (% of population)</th>\n",
       "      <th>Poverty headcount ratio at $3.20 a day (2011 PPP) (% of population)</th>\n",
       "      <th>Poverty headcount ratio at national poverty lines (% of population)</th>\n",
       "      <th>Prevalence of HIV, total (% of population ages 15-49)</th>\n",
       "      <th>Prevalence of undernourishment (% of population)</th>\n",
       "      <th>Prevalence of underweight, weight for age (% of children under 5)</th>\n",
       "      <th>Rural population (% of total population)</th>\n",
       "      <th>Services, value added (% of GDP)</th>\n",
       "      <th>Surface area (sq. km)</th>\n",
       "      <th>Tax revenue (% of GDP)</th>\n",
       "      <th>Urban population (% of total population)</th>\n",
       "      <th>Urban population growth (annual %)</th>\n",
       "    </tr>\n",
       "  </thead>\n",
       "  <tbody>\n",
       "    <tr>\n",
       "      <th>19</th>\n",
       "      <td>BLZ</td>\n",
       "      <td>Belize</td>\n",
       "      <td>North America &amp; Part of Latin America</td>\n",
       "      <td>Hot Rod</td>\n",
       "      <td>98.265121</td>\n",
       "      <td>98.341982</td>\n",
       "      <td>98.173431</td>\n",
       "      <td>68.487000</td>\n",
       "      <td>55.085473</td>\n",
       "      <td>7.158540</td>\n",
       "      <td>47.926933</td>\n",
       "      <td>10.829349</td>\n",
       "      <td>1.150523</td>\n",
       "      <td>21.081000</td>\n",
       "      <td>97.0</td>\n",
       "      <td>4.681000</td>\n",
       "      <td>NaN</td>\n",
       "      <td>NaN</td>\n",
       "      <td>NaN</td>\n",
       "      <td>NaN</td>\n",
       "      <td>NaN</td>\n",
       "      <td>NaN</td>\n",
       "      <td>NaN</td>\n",
       "      <td>NaN</td>\n",
       "      <td>17.733000</td>\n",
       "      <td>14.657000</td>\n",
       "      <td>67.609001</td>\n",
       "      <td>2.346000</td>\n",
       "      <td>1.862615e+09</td>\n",
       "      <td>1.437289</td>\n",
       "      <td>53.3</td>\n",
       "      <td>21.681021</td>\n",
       "      <td>19.4</td>\n",
       "      <td>57.7</td>\n",
       "      <td>3.2</td>\n",
       "      <td>7.7</td>\n",
       "      <td>12.0</td>\n",
       "      <td>13.420147</td>\n",
       "      <td>74.365000</td>\n",
       "      <td>70.030000</td>\n",
       "      <td>NaN</td>\n",
       "      <td>73.713577</td>\n",
       "      <td>1.323025</td>\n",
       "      <td>63.720264</td>\n",
       "      <td>0.304084</td>\n",
       "      <td>30.903560</td>\n",
       "      <td>64.480572</td>\n",
       "      <td>4.615868</td>\n",
       "      <td>16.473871</td>\n",
       "      <td>1.980529</td>\n",
       "      <td>16.356059</td>\n",
       "      <td>0.672293</td>\n",
       "      <td>1.884760e+05</td>\n",
       "      <td>1.872930e+05</td>\n",
       "      <td>3.757690e+05</td>\n",
       "      <td>13.9</td>\n",
       "      <td>3.2</td>\n",
       "      <td>NaN</td>\n",
       "      <td>1.9</td>\n",
       "      <td>7.5</td>\n",
       "      <td>4.6</td>\n",
       "      <td>54.399000</td>\n",
       "      <td>62.906209</td>\n",
       "      <td>2.297000e+04</td>\n",
       "      <td>25.970056</td>\n",
       "      <td>45.601000</td>\n",
       "      <td>2.212754</td>\n",
       "    </tr>\n",
       "    <tr>\n",
       "      <th>21</th>\n",
       "      <td>BMU</td>\n",
       "      <td>Bermuda</td>\n",
       "      <td>North America &amp; Part of Latin America</td>\n",
       "      <td>Hot Rod</td>\n",
       "      <td>100.000000</td>\n",
       "      <td>100.000000</td>\n",
       "      <td>100.000000</td>\n",
       "      <td>NaN</td>\n",
       "      <td>46.000000</td>\n",
       "      <td>25.000000</td>\n",
       "      <td>22.000000</td>\n",
       "      <td>0.745267</td>\n",
       "      <td>0.000000</td>\n",
       "      <td>9.300000</td>\n",
       "      <td>NaN</td>\n",
       "      <td>7.800000</td>\n",
       "      <td>NaN</td>\n",
       "      <td>NaN</td>\n",
       "      <td>NaN</td>\n",
       "      <td>NaN</td>\n",
       "      <td>NaN</td>\n",
       "      <td>NaN</td>\n",
       "      <td>NaN</td>\n",
       "      <td>NaN</td>\n",
       "      <td>0.000000</td>\n",
       "      <td>0.000000</td>\n",
       "      <td>0.000000</td>\n",
       "      <td>1.610000</td>\n",
       "      <td>5.573710e+06</td>\n",
       "      <td>-2.511154</td>\n",
       "      <td>NaN</td>\n",
       "      <td>7.773470</td>\n",
       "      <td>NaN</td>\n",
       "      <td>NaN</td>\n",
       "      <td>NaN</td>\n",
       "      <td>NaN</td>\n",
       "      <td>NaN</td>\n",
       "      <td>5.751221</td>\n",
       "      <td>81.441951</td>\n",
       "      <td>32.900000</td>\n",
       "      <td>NaN</td>\n",
       "      <td>18.400000</td>\n",
       "      <td>NaN</td>\n",
       "      <td>103.089660</td>\n",
       "      <td>0.221691</td>\n",
       "      <td>15.000000</td>\n",
       "      <td>69.000000</td>\n",
       "      <td>17.000000</td>\n",
       "      <td>1182.851831</td>\n",
       "      <td>-1.054914</td>\n",
       "      <td>17.000000</td>\n",
       "      <td>0.307308</td>\n",
       "      <td>3.321448e+04</td>\n",
       "      <td>3.065952e+04</td>\n",
       "      <td>6.387400e+04</td>\n",
       "      <td>NaN</td>\n",
       "      <td>NaN</td>\n",
       "      <td>NaN</td>\n",
       "      <td>NaN</td>\n",
       "      <td>NaN</td>\n",
       "      <td>NaN</td>\n",
       "      <td>NaN</td>\n",
       "      <td>NaN</td>\n",
       "      <td>4.290000e+03</td>\n",
       "      <td>NaN</td>\n",
       "      <td>100.000000</td>\n",
       "      <td>-1.060518</td>\n",
       "    </tr>\n",
       "    <tr>\n",
       "      <th>34</th>\n",
       "      <td>CAN</td>\n",
       "      <td>Canada</td>\n",
       "      <td>North America &amp; Part of Latin America</td>\n",
       "      <td>Hot Rod</td>\n",
       "      <td>100.000000</td>\n",
       "      <td>100.000000</td>\n",
       "      <td>100.000000</td>\n",
       "      <td>8.387000</td>\n",
       "      <td>48.616079</td>\n",
       "      <td>25.030652</td>\n",
       "      <td>23.585426</td>\n",
       "      <td>1.711327</td>\n",
       "      <td>0.357811</td>\n",
       "      <td>10.300000</td>\n",
       "      <td>100.0</td>\n",
       "      <td>7.500000</td>\n",
       "      <td>NaN</td>\n",
       "      <td>59.0000</td>\n",
       "      <td>NaN</td>\n",
       "      <td>NaN</td>\n",
       "      <td>NaN</td>\n",
       "      <td>NaN</td>\n",
       "      <td>NaN</td>\n",
       "      <td>NaN</td>\n",
       "      <td>1.518000</td>\n",
       "      <td>19.528000</td>\n",
       "      <td>78.955002</td>\n",
       "      <td>1.496100</td>\n",
       "      <td>1.646867e+12</td>\n",
       "      <td>2.978566</td>\n",
       "      <td>34.0</td>\n",
       "      <td>12.219140</td>\n",
       "      <td>23.3</td>\n",
       "      <td>40.7</td>\n",
       "      <td>6.6</td>\n",
       "      <td>12.3</td>\n",
       "      <td>17.0</td>\n",
       "      <td>24.811325</td>\n",
       "      <td>82.248976</td>\n",
       "      <td>99.000000</td>\n",
       "      <td>NaN</td>\n",
       "      <td>52.403314</td>\n",
       "      <td>1.293395</td>\n",
       "      <td>86.281493</td>\n",
       "      <td>0.312535</td>\n",
       "      <td>15.870037</td>\n",
       "      <td>67.287472</td>\n",
       "      <td>16.842492</td>\n",
       "      <td>4.018280</td>\n",
       "      <td>1.185926</td>\n",
       "      <td>20.217828</td>\n",
       "      <td>0.807931</td>\n",
       "      <td>1.841723e+07</td>\n",
       "      <td>1.812304e+07</td>\n",
       "      <td>3.654027e+07</td>\n",
       "      <td>0.5</td>\n",
       "      <td>0.5</td>\n",
       "      <td>NaN</td>\n",
       "      <td>NaN</td>\n",
       "      <td>2.5</td>\n",
       "      <td>NaN</td>\n",
       "      <td>18.650000</td>\n",
       "      <td>66.700000</td>\n",
       "      <td>9.984670e+06</td>\n",
       "      <td>12.521239</td>\n",
       "      <td>81.350000</td>\n",
       "      <td>1.247407</td>\n",
       "    </tr>\n",
       "    <tr>\n",
       "      <th>45</th>\n",
       "      <td>CRI</td>\n",
       "      <td>Costa Rica</td>\n",
       "      <td>North America &amp; Part of Latin America</td>\n",
       "      <td>Hot Rod</td>\n",
       "      <td>99.600000</td>\n",
       "      <td>98.867164</td>\n",
       "      <td>99.800000</td>\n",
       "      <td>53.460000</td>\n",
       "      <td>44.566920</td>\n",
       "      <td>13.373178</td>\n",
       "      <td>31.193743</td>\n",
       "      <td>5.013779</td>\n",
       "      <td>0.429245</td>\n",
       "      <td>14.246000</td>\n",
       "      <td>99.0</td>\n",
       "      <td>5.005000</td>\n",
       "      <td>NaN</td>\n",
       "      <td>28.0000</td>\n",
       "      <td>NaN</td>\n",
       "      <td>NaN</td>\n",
       "      <td>NaN</td>\n",
       "      <td>NaN</td>\n",
       "      <td>NaN</td>\n",
       "      <td>NaN</td>\n",
       "      <td>12.580000</td>\n",
       "      <td>18.450001</td>\n",
       "      <td>68.970001</td>\n",
       "      <td>1.772000</td>\n",
       "      <td>5.817455e+10</td>\n",
       "      <td>3.397182</td>\n",
       "      <td>48.3</td>\n",
       "      <td>26.086670</td>\n",
       "      <td>20.5</td>\n",
       "      <td>54.0</td>\n",
       "      <td>4.4</td>\n",
       "      <td>8.4</td>\n",
       "      <td>12.8</td>\n",
       "      <td>18.993275</td>\n",
       "      <td>79.914000</td>\n",
       "      <td>97.400000</td>\n",
       "      <td>NaN</td>\n",
       "      <td>42.764405</td>\n",
       "      <td>0.000000</td>\n",
       "      <td>178.594427</td>\n",
       "      <td>0.006479</td>\n",
       "      <td>21.577372</td>\n",
       "      <td>69.172118</td>\n",
       "      <td>9.250510</td>\n",
       "      <td>96.943870</td>\n",
       "      <td>1.027676</td>\n",
       "      <td>34.387906</td>\n",
       "      <td>0.282038</td>\n",
       "      <td>2.474720e+06</td>\n",
       "      <td>2.475234e+06</td>\n",
       "      <td>4.949954e+06</td>\n",
       "      <td>1.0</td>\n",
       "      <td>2.7</td>\n",
       "      <td>20.0</td>\n",
       "      <td>0.4</td>\n",
       "      <td>4.8</td>\n",
       "      <td>1.1</td>\n",
       "      <td>21.440000</td>\n",
       "      <td>68.065397</td>\n",
       "      <td>5.110000e+04</td>\n",
       "      <td>13.777171</td>\n",
       "      <td>78.560000</td>\n",
       "      <td>2.083381</td>\n",
       "    </tr>\n",
       "    <tr>\n",
       "      <th>59</th>\n",
       "      <td>SLV</td>\n",
       "      <td>El Salvador</td>\n",
       "      <td>North America &amp; Part of Latin America</td>\n",
       "      <td>Hot Rod</td>\n",
       "      <td>99.490387</td>\n",
       "      <td>100.000000</td>\n",
       "      <td>98.841156</td>\n",
       "      <td>69.459000</td>\n",
       "      <td>55.159853</td>\n",
       "      <td>12.575262</td>\n",
       "      <td>42.584591</td>\n",
       "      <td>5.042047</td>\n",
       "      <td>1.489588</td>\n",
       "      <td>18.429000</td>\n",
       "      <td>98.0</td>\n",
       "      <td>7.011000</td>\n",
       "      <td>NaN</td>\n",
       "      <td>6.6721</td>\n",
       "      <td>NaN</td>\n",
       "      <td>42.78339</td>\n",
       "      <td>7.95081</td>\n",
       "      <td>58.55286</td>\n",
       "      <td>7.95081</td>\n",
       "      <td>29.61693</td>\n",
       "      <td>18.575001</td>\n",
       "      <td>21.886000</td>\n",
       "      <td>59.540001</td>\n",
       "      <td>2.059000</td>\n",
       "      <td>2.492797e+10</td>\n",
       "      <td>2.307939</td>\n",
       "      <td>38.0</td>\n",
       "      <td>15.633960</td>\n",
       "      <td>22.2</td>\n",
       "      <td>44.7</td>\n",
       "      <td>6.4</td>\n",
       "      <td>11.0</td>\n",
       "      <td>15.7</td>\n",
       "      <td>24.441982</td>\n",
       "      <td>72.872000</td>\n",
       "      <td>88.482712</td>\n",
       "      <td>97.980453</td>\n",
       "      <td>65.516767</td>\n",
       "      <td>1.051785</td>\n",
       "      <td>148.369710</td>\n",
       "      <td>0.435421</td>\n",
       "      <td>27.445623</td>\n",
       "      <td>64.449668</td>\n",
       "      <td>8.104709</td>\n",
       "      <td>308.307046</td>\n",
       "      <td>0.501858</td>\n",
       "      <td>24.250264</td>\n",
       "      <td>0.598746</td>\n",
       "      <td>3.390313e+06</td>\n",
       "      <td>2.997809e+06</td>\n",
       "      <td>6.388122e+06</td>\n",
       "      <td>1.9</td>\n",
       "      <td>8.5</td>\n",
       "      <td>29.2</td>\n",
       "      <td>0.6</td>\n",
       "      <td>9.0</td>\n",
       "      <td>5.0</td>\n",
       "      <td>28.725000</td>\n",
       "      <td>60.665349</td>\n",
       "      <td>2.104000e+04</td>\n",
       "      <td>17.790230</td>\n",
       "      <td>71.275000</td>\n",
       "      <td>1.593742</td>\n",
       "    </tr>\n",
       "    <tr>\n",
       "      <th>80</th>\n",
       "      <td>GTM</td>\n",
       "      <td>Guatemala</td>\n",
       "      <td>North America &amp; Part of Latin America</td>\n",
       "      <td>Hot Rod</td>\n",
       "      <td>93.288094</td>\n",
       "      <td>89.320689</td>\n",
       "      <td>97.149033</td>\n",
       "      <td>70.930000</td>\n",
       "      <td>65.967416</td>\n",
       "      <td>7.794356</td>\n",
       "      <td>58.173060</td>\n",
       "      <td>10.058150</td>\n",
       "      <td>0.628559</td>\n",
       "      <td>24.912000</td>\n",
       "      <td>66.0</td>\n",
       "      <td>4.762000</td>\n",
       "      <td>NaN</td>\n",
       "      <td>NaN</td>\n",
       "      <td>NaN</td>\n",
       "      <td>NaN</td>\n",
       "      <td>NaN</td>\n",
       "      <td>NaN</td>\n",
       "      <td>NaN</td>\n",
       "      <td>NaN</td>\n",
       "      <td>29.316000</td>\n",
       "      <td>20.898001</td>\n",
       "      <td>49.785999</td>\n",
       "      <td>2.920000</td>\n",
       "      <td>7.562010e+10</td>\n",
       "      <td>2.760338</td>\n",
       "      <td>48.3</td>\n",
       "      <td>23.088051</td>\n",
       "      <td>20.1</td>\n",
       "      <td>53.6</td>\n",
       "      <td>4.5</td>\n",
       "      <td>8.6</td>\n",
       "      <td>13.2</td>\n",
       "      <td>25.269104</td>\n",
       "      <td>73.810000</td>\n",
       "      <td>81.300000</td>\n",
       "      <td>NaN</td>\n",
       "      <td>38.865330</td>\n",
       "      <td>0.363192</td>\n",
       "      <td>118.158542</td>\n",
       "      <td>0.470357</td>\n",
       "      <td>35.050893</td>\n",
       "      <td>60.252788</td>\n",
       "      <td>4.696319</td>\n",
       "      <td>157.847480</td>\n",
       "      <td>1.981533</td>\n",
       "      <td>32.814456</td>\n",
       "      <td>0.510630</td>\n",
       "      <td>8.588624e+06</td>\n",
       "      <td>8.326312e+06</td>\n",
       "      <td>1.691494e+07</td>\n",
       "      <td>8.7</td>\n",
       "      <td>24.2</td>\n",
       "      <td>59.3</td>\n",
       "      <td>0.4</td>\n",
       "      <td>15.2</td>\n",
       "      <td>12.6</td>\n",
       "      <td>49.320000</td>\n",
       "      <td>62.137976</td>\n",
       "      <td>1.088900e+05</td>\n",
       "      <td>NaN</td>\n",
       "      <td>50.680000</td>\n",
       "      <td>2.696399</td>\n",
       "    </tr>\n",
       "    <tr>\n",
       "      <th>85</th>\n",
       "      <td>HND</td>\n",
       "      <td>Honduras</td>\n",
       "      <td>North America &amp; Part of Latin America</td>\n",
       "      <td>Hot Rod</td>\n",
       "      <td>86.500000</td>\n",
       "      <td>71.848641</td>\n",
       "      <td>97.800000</td>\n",
       "      <td>72.912000</td>\n",
       "      <td>58.493475</td>\n",
       "      <td>7.228614</td>\n",
       "      <td>51.264862</td>\n",
       "      <td>12.844933</td>\n",
       "      <td>0.552978</td>\n",
       "      <td>21.859000</td>\n",
       "      <td>83.0</td>\n",
       "      <td>4.428000</td>\n",
       "      <td>NaN</td>\n",
       "      <td>NaN</td>\n",
       "      <td>NaN</td>\n",
       "      <td>NaN</td>\n",
       "      <td>NaN</td>\n",
       "      <td>NaN</td>\n",
       "      <td>NaN</td>\n",
       "      <td>NaN</td>\n",
       "      <td>31.985001</td>\n",
       "      <td>20.683001</td>\n",
       "      <td>47.332001</td>\n",
       "      <td>2.496000</td>\n",
       "      <td>2.294018e+10</td>\n",
       "      <td>4.788027</td>\n",
       "      <td>50.5</td>\n",
       "      <td>22.024929</td>\n",
       "      <td>21.2</td>\n",
       "      <td>54.6</td>\n",
       "      <td>3.2</td>\n",
       "      <td>7.8</td>\n",
       "      <td>13.2</td>\n",
       "      <td>26.474779</td>\n",
       "      <td>74.898000</td>\n",
       "      <td>89.000000</td>\n",
       "      <td>NaN</td>\n",
       "      <td>87.178918</td>\n",
       "      <td>1.743808</td>\n",
       "      <td>87.320900</td>\n",
       "      <td>0.468753</td>\n",
       "      <td>32.345093</td>\n",
       "      <td>63.094080</td>\n",
       "      <td>4.560827</td>\n",
       "      <td>84.270382</td>\n",
       "      <td>1.692229</td>\n",
       "      <td>24.762903</td>\n",
       "      <td>0.869655</td>\n",
       "      <td>4.719921e+06</td>\n",
       "      <td>4.709092e+06</td>\n",
       "      <td>9.429013e+06</td>\n",
       "      <td>17.2</td>\n",
       "      <td>31.6</td>\n",
       "      <td>64.3</td>\n",
       "      <td>0.3</td>\n",
       "      <td>12.9</td>\n",
       "      <td>7.1</td>\n",
       "      <td>43.543000</td>\n",
       "      <td>56.824489</td>\n",
       "      <td>1.124900e+05</td>\n",
       "      <td>NaN</td>\n",
       "      <td>56.457000</td>\n",
       "      <td>2.839475</td>\n",
       "    </tr>\n",
       "    <tr>\n",
       "      <th>128</th>\n",
       "      <td>MEX</td>\n",
       "      <td>Mexico</td>\n",
       "      <td>North America &amp; Part of Latin America</td>\n",
       "      <td>Hot Rod</td>\n",
       "      <td>100.000000</td>\n",
       "      <td>100.000000</td>\n",
       "      <td>100.000000</td>\n",
       "      <td>60.365000</td>\n",
       "      <td>51.469241</td>\n",
       "      <td>10.664602</td>\n",
       "      <td>40.804640</td>\n",
       "      <td>3.380990</td>\n",
       "      <td>0.603283</td>\n",
       "      <td>17.918000</td>\n",
       "      <td>98.0</td>\n",
       "      <td>5.933000</td>\n",
       "      <td>NaN</td>\n",
       "      <td>21.0000</td>\n",
       "      <td>NaN</td>\n",
       "      <td>NaN</td>\n",
       "      <td>NaN</td>\n",
       "      <td>NaN</td>\n",
       "      <td>NaN</td>\n",
       "      <td>NaN</td>\n",
       "      <td>13.118000</td>\n",
       "      <td>26.013000</td>\n",
       "      <td>60.869999</td>\n",
       "      <td>2.157000</td>\n",
       "      <td>1.158071e+12</td>\n",
       "      <td>2.069715</td>\n",
       "      <td>48.3</td>\n",
       "      <td>17.939330</td>\n",
       "      <td>19.3</td>\n",
       "      <td>54.2</td>\n",
       "      <td>4.9</td>\n",
       "      <td>8.8</td>\n",
       "      <td>12.8</td>\n",
       "      <td>30.700679</td>\n",
       "      <td>74.947000</td>\n",
       "      <td>94.900000</td>\n",
       "      <td>NaN</td>\n",
       "      <td>72.668601</td>\n",
       "      <td>0.502372</td>\n",
       "      <td>91.626707</td>\n",
       "      <td>0.175138</td>\n",
       "      <td>26.939225</td>\n",
       "      <td>66.020005</td>\n",
       "      <td>7.040770</td>\n",
       "      <td>64.187517</td>\n",
       "      <td>1.163968</td>\n",
       "      <td>21.574488</td>\n",
       "      <td>0.585236</td>\n",
       "      <td>6.375282e+07</td>\n",
       "      <td>6.102450e+07</td>\n",
       "      <td>1.247773e+08</td>\n",
       "      <td>2.2</td>\n",
       "      <td>7.9</td>\n",
       "      <td>41.9</td>\n",
       "      <td>0.2</td>\n",
       "      <td>3.6</td>\n",
       "      <td>3.9</td>\n",
       "      <td>20.133000</td>\n",
       "      <td>60.366156</td>\n",
       "      <td>1.964375e+06</td>\n",
       "      <td>13.043359</td>\n",
       "      <td>79.867000</td>\n",
       "      <td>1.527732</td>\n",
       "    </tr>\n",
       "    <tr>\n",
       "      <th>144</th>\n",
       "      <td>NIC</td>\n",
       "      <td>Nicaragua</td>\n",
       "      <td>North America &amp; Part of Latin America</td>\n",
       "      <td>Hot Rod</td>\n",
       "      <td>86.767799</td>\n",
       "      <td>68.488026</td>\n",
       "      <td>99.843231</td>\n",
       "      <td>84.990000</td>\n",
       "      <td>55.281150</td>\n",
       "      <td>7.845245</td>\n",
       "      <td>47.435906</td>\n",
       "      <td>15.072118</td>\n",
       "      <td>0.406649</td>\n",
       "      <td>21.060000</td>\n",
       "      <td>88.0</td>\n",
       "      <td>5.049000</td>\n",
       "      <td>NaN</td>\n",
       "      <td>NaN</td>\n",
       "      <td>NaN</td>\n",
       "      <td>NaN</td>\n",
       "      <td>NaN</td>\n",
       "      <td>NaN</td>\n",
       "      <td>NaN</td>\n",
       "      <td>NaN</td>\n",
       "      <td>31.091000</td>\n",
       "      <td>16.938999</td>\n",
       "      <td>51.970001</td>\n",
       "      <td>2.430000</td>\n",
       "      <td>1.384359e+10</td>\n",
       "      <td>4.675475</td>\n",
       "      <td>46.2</td>\n",
       "      <td>17.919580</td>\n",
       "      <td>20.0</td>\n",
       "      <td>52.1</td>\n",
       "      <td>5.1</td>\n",
       "      <td>9.2</td>\n",
       "      <td>13.7</td>\n",
       "      <td>24.990161</td>\n",
       "      <td>74.068000</td>\n",
       "      <td>78.000000</td>\n",
       "      <td>NaN</td>\n",
       "      <td>90.113930</td>\n",
       "      <td>0.623063</td>\n",
       "      <td>128.113912</td>\n",
       "      <td>0.288797</td>\n",
       "      <td>30.548395</td>\n",
       "      <td>64.399314</td>\n",
       "      <td>5.052291</td>\n",
       "      <td>53.056797</td>\n",
       "      <td>1.274855</td>\n",
       "      <td>27.959757</td>\n",
       "      <td>0.559744</td>\n",
       "      <td>3.237850e+06</td>\n",
       "      <td>3.147005e+06</td>\n",
       "      <td>6.384855e+06</td>\n",
       "      <td>3.2</td>\n",
       "      <td>12.8</td>\n",
       "      <td>24.9</td>\n",
       "      <td>0.2</td>\n",
       "      <td>17.0</td>\n",
       "      <td>4.6</td>\n",
       "      <td>41.701000</td>\n",
       "      <td>50.131677</td>\n",
       "      <td>1.303700e+05</td>\n",
       "      <td>16.504696</td>\n",
       "      <td>58.299000</td>\n",
       "      <td>1.634020</td>\n",
       "    </tr>\n",
       "    <tr>\n",
       "      <th>151</th>\n",
       "      <td>PAN</td>\n",
       "      <td>Panama</td>\n",
       "      <td>North America &amp; Part of Latin America</td>\n",
       "      <td>Hot Rod</td>\n",
       "      <td>100.000000</td>\n",
       "      <td>100.000000</td>\n",
       "      <td>100.000000</td>\n",
       "      <td>81.828000</td>\n",
       "      <td>54.438715</td>\n",
       "      <td>12.215968</td>\n",
       "      <td>42.222748</td>\n",
       "      <td>2.357435</td>\n",
       "      <td>1.311153</td>\n",
       "      <td>19.263000</td>\n",
       "      <td>94.0</td>\n",
       "      <td>5.048000</td>\n",
       "      <td>NaN</td>\n",
       "      <td>20.2600</td>\n",
       "      <td>NaN</td>\n",
       "      <td>NaN</td>\n",
       "      <td>NaN</td>\n",
       "      <td>NaN</td>\n",
       "      <td>NaN</td>\n",
       "      <td>NaN</td>\n",
       "      <td>14.494000</td>\n",
       "      <td>18.549000</td>\n",
       "      <td>66.956001</td>\n",
       "      <td>2.487000</td>\n",
       "      <td>6.228380e+10</td>\n",
       "      <td>5.321230</td>\n",
       "      <td>49.9</td>\n",
       "      <td>13.019720</td>\n",
       "      <td>20.9</td>\n",
       "      <td>54.2</td>\n",
       "      <td>3.4</td>\n",
       "      <td>8.1</td>\n",
       "      <td>13.3</td>\n",
       "      <td>29.344709</td>\n",
       "      <td>78.149000</td>\n",
       "      <td>94.100000</td>\n",
       "      <td>NaN</td>\n",
       "      <td>53.034657</td>\n",
       "      <td>0.000000</td>\n",
       "      <td>128.572973</td>\n",
       "      <td>0.300344</td>\n",
       "      <td>27.339473</td>\n",
       "      <td>64.750611</td>\n",
       "      <td>7.909917</td>\n",
       "      <td>55.243086</td>\n",
       "      <td>1.711591</td>\n",
       "      <td>63.108498</td>\n",
       "      <td>0.394520</td>\n",
       "      <td>2.048697e+06</td>\n",
       "      <td>2.058074e+06</td>\n",
       "      <td>4.106771e+06</td>\n",
       "      <td>2.5</td>\n",
       "      <td>6.3</td>\n",
       "      <td>22.1</td>\n",
       "      <td>0.9</td>\n",
       "      <td>10.0</td>\n",
       "      <td>3.9</td>\n",
       "      <td>32.635000</td>\n",
       "      <td>64.649716</td>\n",
       "      <td>7.542000e+04</td>\n",
       "      <td>NaN</td>\n",
       "      <td>67.365000</td>\n",
       "      <td>2.214598</td>\n",
       "    </tr>\n",
       "    <tr>\n",
       "      <th>205</th>\n",
       "      <td>USA</td>\n",
       "      <td>United States</td>\n",
       "      <td>North America &amp; Part of Latin America</td>\n",
       "      <td>Hot Rod</td>\n",
       "      <td>100.000000</td>\n",
       "      <td>100.000000</td>\n",
       "      <td>100.000000</td>\n",
       "      <td>19.860000</td>\n",
       "      <td>52.155805</td>\n",
       "      <td>23.461460</td>\n",
       "      <td>28.694345</td>\n",
       "      <td>0.916479</td>\n",
       "      <td>0.826908</td>\n",
       "      <td>11.800000</td>\n",
       "      <td>99.0</td>\n",
       "      <td>8.500000</td>\n",
       "      <td>NaN</td>\n",
       "      <td>47.0000</td>\n",
       "      <td>NaN</td>\n",
       "      <td>NaN</td>\n",
       "      <td>NaN</td>\n",
       "      <td>NaN</td>\n",
       "      <td>NaN</td>\n",
       "      <td>NaN</td>\n",
       "      <td>1.435000</td>\n",
       "      <td>19.729000</td>\n",
       "      <td>78.835999</td>\n",
       "      <td>1.765500</td>\n",
       "      <td>1.948539e+13</td>\n",
       "      <td>2.217010</td>\n",
       "      <td>41.5</td>\n",
       "      <td>13.594830</td>\n",
       "      <td>22.6</td>\n",
       "      <td>46.9</td>\n",
       "      <td>5.0</td>\n",
       "      <td>10.2</td>\n",
       "      <td>15.3</td>\n",
       "      <td>18.207940</td>\n",
       "      <td>78.539024</td>\n",
       "      <td>99.000000</td>\n",
       "      <td>NaN</td>\n",
       "      <td>20.295966</td>\n",
       "      <td>3.109010</td>\n",
       "      <td>123.108150</td>\n",
       "      <td>0.275608</td>\n",
       "      <td>18.858528</td>\n",
       "      <td>65.722106</td>\n",
       "      <td>15.419366</td>\n",
       "      <td>35.545227</td>\n",
       "      <td>0.640459</td>\n",
       "      <td>7.031969</td>\n",
       "      <td>0.454639</td>\n",
       "      <td>1.642753e+08</td>\n",
       "      <td>1.608718e+08</td>\n",
       "      <td>3.251471e+08</td>\n",
       "      <td>1.2</td>\n",
       "      <td>1.5</td>\n",
       "      <td>NaN</td>\n",
       "      <td>NaN</td>\n",
       "      <td>2.5</td>\n",
       "      <td>0.5</td>\n",
       "      <td>17.942000</td>\n",
       "      <td>77.374532</td>\n",
       "      <td>9.831510e+06</td>\n",
       "      <td>11.947411</td>\n",
       "      <td>82.058000</td>\n",
       "      <td>0.879600</td>\n",
       "    </tr>\n",
       "    <tr>\n",
       "      <th>213</th>\n",
       "      <td>WLD</td>\n",
       "      <td>World</td>\n",
       "      <td>World</td>\n",
       "      <td>Sentinel Prime</td>\n",
       "      <td>88.848638</td>\n",
       "      <td>78.647356</td>\n",
       "      <td>97.357692</td>\n",
       "      <td>42.455699</td>\n",
       "      <td>54.216831</td>\n",
       "      <td>13.216044</td>\n",
       "      <td>39.644081</td>\n",
       "      <td>3.418854</td>\n",
       "      <td>0.803899</td>\n",
       "      <td>18.656934</td>\n",
       "      <td>81.0</td>\n",
       "      <td>7.542404</td>\n",
       "      <td>NaN</td>\n",
       "      <td>NaN</td>\n",
       "      <td>NaN</td>\n",
       "      <td>NaN</td>\n",
       "      <td>NaN</td>\n",
       "      <td>NaN</td>\n",
       "      <td>NaN</td>\n",
       "      <td>NaN</td>\n",
       "      <td>28.409310</td>\n",
       "      <td>23.074889</td>\n",
       "      <td>48.515787</td>\n",
       "      <td>2.431585</td>\n",
       "      <td>8.089134e+13</td>\n",
       "      <td>3.165402</td>\n",
       "      <td>NaN</td>\n",
       "      <td>NaN</td>\n",
       "      <td>NaN</td>\n",
       "      <td>NaN</td>\n",
       "      <td>NaN</td>\n",
       "      <td>NaN</td>\n",
       "      <td>NaN</td>\n",
       "      <td>25.500455</td>\n",
       "      <td>72.383009</td>\n",
       "      <td>NaN</td>\n",
       "      <td>NaN</td>\n",
       "      <td>44.473360</td>\n",
       "      <td>2.161438</td>\n",
       "      <td>102.775966</td>\n",
       "      <td>0.000000</td>\n",
       "      <td>25.934874</td>\n",
       "      <td>65.419284</td>\n",
       "      <td>8.645842</td>\n",
       "      <td>58.976967</td>\n",
       "      <td>1.143093</td>\n",
       "      <td>16.093831</td>\n",
       "      <td>0.475007</td>\n",
       "      <td>3.722940e+09</td>\n",
       "      <td>3.785204e+09</td>\n",
       "      <td>7.510990e+09</td>\n",
       "      <td>NaN</td>\n",
       "      <td>NaN</td>\n",
       "      <td>NaN</td>\n",
       "      <td>0.8</td>\n",
       "      <td>10.8</td>\n",
       "      <td>13.5</td>\n",
       "      <td>45.177758</td>\n",
       "      <td>65.035716</td>\n",
       "      <td>1.320366e+08</td>\n",
       "      <td>15.204328</td>\n",
       "      <td>54.822242</td>\n",
       "      <td>1.985135</td>\n",
       "    </tr>\n",
       "  </tbody>\n",
       "</table>\n",
       "</div>"
      ],
      "text/plain": [
       "    Country Code  ... Urban population growth (annual %)\n",
       "19           BLZ  ...                           2.212754\n",
       "21           BMU  ...                          -1.060518\n",
       "34           CAN  ...                           1.247407\n",
       "45           CRI  ...                           2.083381\n",
       "59           SLV  ...                           1.593742\n",
       "80           GTM  ...                           2.696399\n",
       "85           HND  ...                           2.839475\n",
       "128          MEX  ...                           1.527732\n",
       "144          NIC  ...                           1.634020\n",
       "151          PAN  ...                           2.214598\n",
       "205          USA  ...                           0.879600\n",
       "213          WLD  ...                           1.985135\n",
       "\n",
       "[12 rows x 67 columns]"
      ]
     },
     "execution_count": 16,
     "metadata": {
      "tags": []
     },
     "output_type": "execute_result"
    }
   ],
   "source": [
    "\n",
    "# set list with chosen countries to filter tables\n",
    "sel_country_codes = ('BLZ','BMU','CAN','CRI','SLV','GTM','HND','MEX','NIC','PAN','USA','WLD')\n",
    "\n",
    "types = {'Country Code'          : str,\n",
    "         'Surface area (sq. km)' : int}\n",
    "\n",
    "# reading in dataset\n",
    "file = 'WDIW Dataset.xlsx'\n",
    "raw = pd.read_excel(file, sheet_name='Raw', dtypes=types)\n",
    "\n",
    "#filter with country codes\n",
    "raw_sel = raw[raw['Country Code'].isin(sel_country_codes)]\n",
    "\n",
    "raw_sel"
   ]
  },
  {
   "cell_type": "markdown",
   "metadata": {
    "colab_type": "text",
    "id": "NBa5HSA2n2ua"
   },
   "source": [
    "Now we dig in the first comparisons to get a feeling about the countries within our region and how they compare to each other on obvious terms. We start with comparing the surface."
   ]
  },
  {
   "cell_type": "code",
   "execution_count": 0,
   "metadata": {
    "colab": {
     "base_uri": "https://localhost:8080/",
     "height": 421
    },
    "colab_type": "code",
    "id": "b3M6ngRBoCaA",
    "outputId": "54bb445c-ae63-49fb-a12c-e3f866deb5d9"
   },
   "outputs": [
    {
     "data": {
      "text/html": [
       "<div>\n",
       "<style scoped>\n",
       "    .dataframe tbody tr th:only-of-type {\n",
       "        vertical-align: middle;\n",
       "    }\n",
       "\n",
       "    .dataframe tbody tr th {\n",
       "        vertical-align: top;\n",
       "    }\n",
       "\n",
       "    .dataframe thead th {\n",
       "        text-align: right;\n",
       "    }\n",
       "</style>\n",
       "<table border=\"1\" class=\"dataframe\">\n",
       "  <thead>\n",
       "    <tr style=\"text-align: right;\">\n",
       "      <th></th>\n",
       "      <th>Country Name</th>\n",
       "      <th>Surface area (sq. km)</th>\n",
       "    </tr>\n",
       "  </thead>\n",
       "  <tbody>\n",
       "    <tr>\n",
       "      <th>21</th>\n",
       "      <td>Bermuda</td>\n",
       "      <td>4.290000e+03</td>\n",
       "    </tr>\n",
       "    <tr>\n",
       "      <th>59</th>\n",
       "      <td>El Salvador</td>\n",
       "      <td>2.104000e+04</td>\n",
       "    </tr>\n",
       "    <tr>\n",
       "      <th>19</th>\n",
       "      <td>Belize</td>\n",
       "      <td>2.297000e+04</td>\n",
       "    </tr>\n",
       "    <tr>\n",
       "      <th>45</th>\n",
       "      <td>Costa Rica</td>\n",
       "      <td>5.110000e+04</td>\n",
       "    </tr>\n",
       "    <tr>\n",
       "      <th>151</th>\n",
       "      <td>Panama</td>\n",
       "      <td>7.542000e+04</td>\n",
       "    </tr>\n",
       "    <tr>\n",
       "      <th>80</th>\n",
       "      <td>Guatemala</td>\n",
       "      <td>1.088900e+05</td>\n",
       "    </tr>\n",
       "    <tr>\n",
       "      <th>85</th>\n",
       "      <td>Honduras</td>\n",
       "      <td>1.124900e+05</td>\n",
       "    </tr>\n",
       "    <tr>\n",
       "      <th>144</th>\n",
       "      <td>Nicaragua</td>\n",
       "      <td>1.303700e+05</td>\n",
       "    </tr>\n",
       "    <tr>\n",
       "      <th>128</th>\n",
       "      <td>Mexico</td>\n",
       "      <td>1.964375e+06</td>\n",
       "    </tr>\n",
       "    <tr>\n",
       "      <th>205</th>\n",
       "      <td>United States</td>\n",
       "      <td>9.831510e+06</td>\n",
       "    </tr>\n",
       "    <tr>\n",
       "      <th>34</th>\n",
       "      <td>Canada</td>\n",
       "      <td>9.984670e+06</td>\n",
       "    </tr>\n",
       "    <tr>\n",
       "      <th>213</th>\n",
       "      <td>World</td>\n",
       "      <td>1.320366e+08</td>\n",
       "    </tr>\n",
       "  </tbody>\n",
       "</table>\n",
       "</div>"
      ],
      "text/plain": [
       "      Country Name  Surface area (sq. km)\n",
       "21         Bermuda           4.290000e+03\n",
       "59     El Salvador           2.104000e+04\n",
       "19          Belize           2.297000e+04\n",
       "45      Costa Rica           5.110000e+04\n",
       "151         Panama           7.542000e+04\n",
       "80       Guatemala           1.088900e+05\n",
       "85        Honduras           1.124900e+05\n",
       "144      Nicaragua           1.303700e+05\n",
       "128         Mexico           1.964375e+06\n",
       "205  United States           9.831510e+06\n",
       "34          Canada           9.984670e+06\n",
       "213          World           1.320366e+08"
      ]
     },
     "execution_count": 17,
     "metadata": {
      "tags": []
     },
     "output_type": "execute_result"
    }
   ],
   "source": [
    "# showing surface of selected countries in order\n",
    "surface = raw_sel.loc[:, ['Country Name' , 'Surface area (sq. km)']]\n",
    "\n",
    "surface.sort_values(by=['Surface area (sq. km)'])"
   ]
  },
  {
   "cell_type": "markdown",
   "metadata": {
    "colab_type": "text",
    "id": "lSfwyjMHzXGt"
   },
   "source": [
    "# Handling Missing Values and Outlier Detection"
   ]
  },
  {
   "cell_type": "markdown",
   "metadata": {
    "colab_type": "text",
    "id": "KIkz9ByAziL1"
   },
   "source": [
    "After that small intro, we began working with the dataset to apply our missing values and outliers strategy.\n",
    "\n",
    "Our strategy follows these steps:\n",
    "1.- Augment data by adding information from reliable sources.\n",
    "2.- If unable to augment, research any reasons why no data is a possibility.\n",
    "3.- Using that as context, fill using projections, mean, median or zero.\n",
    "4.- If everything fails, review the possibility of dropping. \n",
    "\n",
    "For starters, lets rename our dataset for easy dataframe handling and coding "
   ]
  },
  {
   "cell_type": "code",
   "execution_count": 0,
   "metadata": {
    "colab": {
     "base_uri": "https://localhost:8080/",
     "height": 153
    },
    "colab_type": "code",
    "id": "9nFYBfstzyYz",
    "outputId": "587a3321-0183-49fa-8f12-12c8956bb0f5"
   },
   "outputs": [
    {
     "name": "stdout",
     "output_type": "stream",
     "text": [
      "  Country Code  ... Urban population growth (annual %)\n",
      "0          AFG  ...                           3.463407\n",
      "1          ALB  ...                           1.541285\n",
      "2          DZA  ...                           2.871374\n",
      "3          ASM  ...                          -0.249256\n",
      "4          AND  ...                          -0.495265\n",
      "\n",
      "[5 rows x 67 columns]\n"
     ]
    }
   ],
   "source": [
    "rename_Dic = {\n",
    "'Country Code':'CC',\n",
    "'Country Name':'CN',\n",
    "'Hult Region':'HR',\t\n",
    "'Cool Name':'KN',\n",
    "'Access to electricity (% of population)':'ElecPop',\n",
    "'Access to electricity, rural (% of rural population)':'ElecRural',\n",
    "'Access to electricity, urban (% of urban population)':'ElecUrban',\n",
    "'Adolescent fertility rate (births per 1,000 women ages 15-19)':'AdoFert',\n",
    "'Age dependency ratio (% of working-age population)':'DepRatio',\n",
    "'Age dependency ratio, old (% of working-age population)':'DepRatioOld',\n",
    "'Age dependency ratio, young (% of working-age population)':'DepRatioYoung',\n",
    "'Agriculture, value added (% of GDP)':'GDPAgr',\n",
    "'Armed forces personnel (% of total labor force)':'ArmedForces',\n",
    "'Birth rate, crude (per 1,000 people)':'BirthRate',\n",
    "'Births attended by skilled health staff (% of total)':'BirthsSkilled',\n",
    "'Death rate, crude (per 1,000 people)':'DeathRate',\n",
    "'Educational attainment, at least Bachelor\\'s or equivalent, population 25+, total (%) (cumulative)':'EduBach',\n",
    "'Educational attainment, at least completed lower secondary, population 25+, total (%) (cumulative)':'EduLowSec',\n",
    "'Educational attainment, at least completed post-secondary, population 25+, total (%) (cumulative)':'EduHiSec',\n",
    "'Educational attainment, at least completed primary, population 25+ years, total (%) (cumulative)':'EduPri',\n",
    "'Educational attainment, at least completed short-cycle tertiary, population 25+, total (%) (cumulative)':'EduTer',\n",
    "'Educational attainment, at least completed upper secondary, population 25+, total (%) (cumulative)':'EduSec',\n",
    "'Educational attainment, at least Master\\'s or equivalent, population 25+, total (%) (cumulative)':'EduMast',\n",
    "'Educational attainment, Doctoral or equivalent, population 25+, total (%) (cumulative)':'EduPhD',\n",
    "'Employment in agriculture (% of total employment) (modeled ILO estimate)':'EmpAgr',\n",
    "'Employment in industry (% of total employment) (modeled ILO estimate)':'EmpInd',\n",
    "'Employment in services (% of total employment) (modeled ILO estimate)':'EmpSer',\n",
    "'Fertility rate, total (births per woman)':'FertRate',\n",
    "'GDP (current US$)':'GDP',\n",
    "'GDP growth (annual %)':'GDPGrowth',\n",
    "'GINI index (World Bank estimate)':'GINI',\n",
    "'Government expenditure on education, total (% of government expenditure)':'EduExp',\n",
    "'Income share held by fourth 20%':'Income4th',\n",
    "'Income share held by highest 20%':'IncomeHigh',\n",
    "'Income share held by lowest 20%':'IncomeLow',\n",
    "'Income share held by second 20%':'Income2nd',\n",
    "'Income share held by third 20%':'Income3rd',\n",
    "'Industry, value added (% of GDP)':'GDPInd',\n",
    "'Life expectancy at birth, total (years)':'LifeExpYrs',\n",
    "'Literacy rate, adult total (% of people ages 15 and above)':'LitRate15abv',\n",
    "'Literacy rate, youth total (% of people ages 15-24)':'LitRate15-24',\n",
    "'Merchandise trade (% of GDP)':'GDPTrade',\n",
    "'Military expenditure (% of GDP)':'GDPexpMil',\n",
    "'Mobile cellular subscriptions (per 100 people)':'MobileSubs',\n",
    "'Number of people pushed below the $3.10 ($ 2011 PPP) poverty line by out-of-pocket health care expenditure':'PeoplePovertyHealthCare',\n",
    "'Population ages 0-14 (% of total population)':'Pop0-14',\n",
    "'Population ages 15-64 (% of total population)':'Pop15-64',\n",
    "'Population ages 65 and above (% of total population)':'Pop65+',\n",
    "'Population density (people per sq. km of land area)':'PopDen',\n",
    "'Population growth (annual %)':'PopGrowth',\n",
    "'Population in the largest city (% of urban population)':'PopCity',\n",
    "'Population living in slums (% of urban population)':'PopSlums',\n",
    "'Population, female':'PopFemale',\n",
    "'Population, male':'PopMale',\n",
    "'Population, total':'PopTotal',\n",
    "'Poverty headcount ratio at $1.90 a day (2011 PPP) (% of population)':'Poverty1.90',\n",
    "'Poverty headcount ratio at $3.20 a day (2011 PPP) (% of population)':'Poverty3.20',\n",
    "'Poverty headcount ratio at national poverty lines (% of population)':'PovertyLine',\n",
    "'Prevalence of HIV, total (% of population ages 15-49)':'HIV',\n",
    "'Prevalence of undernourishment (% of population)':'Undernourish',\n",
    "'Prevalence of underweight, weight for age (% of children under 5)':'Underweight',\n",
    "'Rural population (% of total population)':'PopRural',\n",
    "'Services, value added (% of GDP)':'GDPServ',\n",
    "'Surface area (sq. km)':'Area',\n",
    "'Tax revenue (% of GDP)':'Tax',\n",
    "'Urban population (% of total population)':'PopUrban',\n",
    "'Urban population growth (annual %)':'PopUrbanGrowth'}\n",
    "\n",
    "CoolName = 'Hot Rod'\n",
    "AnomaliesList = ['ArmedForces','GDPexpMil','MobileSubs','Tax']\n",
    "\n",
    "def checkNA():\n",
    "    print(NA_df.isnull().sum())\n",
    "    for i in AnomaliesList:\n",
    "        NA_df[f\"m_{i}\"] = NA_df[i].isnull().astype(int)\n",
    "    print(NA_df.iloc[ : , -4: ].sum())\n",
    "\n",
    "# reading in dataset\n",
    "file     = 'WDIW Dataset.xlsx'\n",
    "datum = pd.read_excel(file)\n",
    "print(datum.head())\n",
    "\n",
    "#DF build\n",
    "#rename all columns\n",
    "datum.rename(columns=rename_Dic, inplace=True)"
   ]
  },
  {
   "cell_type": "markdown",
   "metadata": {
    "colab_type": "text",
    "id": "0F1Iuq5Q0t1a"
   },
   "source": [
    "Now, we filter by our assigned Region: Hot Rod.\n",
    "We use a new df to avoid modifying our original dataframe unnecesarily"
   ]
  },
  {
   "cell_type": "code",
   "execution_count": 0,
   "metadata": {
    "colab": {},
    "colab_type": "code",
    "id": "NQF5lMxL05mC"
   },
   "outputs": [],
   "source": [
    "NA_df = datum.query(\"KN == @CoolName\").copy()"
   ]
  },
  {
   "cell_type": "markdown",
   "metadata": {
    "colab_type": "text",
    "id": "vkRHVxI41l3c"
   },
   "source": [
    "Let's put our Missing value strat into practice by applying it to columns: 'ArmedForces','GDPexpMil','MobileSubs','Tax' as an example."
   ]
  },
  {
   "cell_type": "markdown",
   "metadata": {
    "colab_type": "text",
    "id": "cTzaq07P2GF-"
   },
   "source": [
    "First, we review our data set for missing values in columns mentioned above"
   ]
  },
  {
   "cell_type": "code",
   "execution_count": 0,
   "metadata": {
    "colab": {
     "base_uri": "https://localhost:8080/",
     "height": 391
    },
    "colab_type": "code",
    "id": "A1WkiqsQ2P57",
    "outputId": "f08a67a2-340d-405b-d52d-f7a7ffd02538"
   },
   "outputs": [
    {
     "name": "stdout",
     "output_type": "stream",
     "text": [
      "\"\n",
      "========================================================================\n",
      "Missing Values\n",
      "========================================================================\n",
      "      \n",
      "CC                0\n",
      "CN                0\n",
      "HR                0\n",
      "KN                0\n",
      "ElecPop           0\n",
      "                 ..\n",
      "GDPServ           1\n",
      "Area              0\n",
      "Tax               4\n",
      "PopUrban          0\n",
      "PopUrbanGrowth    0\n",
      "Length: 67, dtype: int64\n",
      "m_ArmedForces    0\n",
      "m_GDPexpMil      1\n",
      "m_MobileSubs     0\n",
      "m_Tax            4\n",
      "dtype: int64\n"
     ]
    }
   ],
   "source": [
    "print(\"\"\"\"\n",
    "========================================================================\n",
    "Missing Values\n",
    "========================================================================\n",
    "      \"\"\")\n",
    "\n",
    "#check for missing values and outliers\n",
    "checkNA()"
   ]
  },
  {
   "cell_type": "markdown",
   "metadata": {
    "colab_type": "text",
    "id": "YGHsVaMW2aeh"
   },
   "source": [
    "We got some missing values in Tax as well as GDPexpMil. Time to address them first by trying to augment, then reviewing any reasoning for lack of data for either fill using: mean, median, projections, zero or just drop."
   ]
  },
  {
   "cell_type": "markdown",
   "metadata": {
    "colab_type": "text",
    "id": "SK4nLRQc34Xe"
   },
   "source": [
    "For Military expenses, we find out that Costa Rica and Panana have limited armed forces and Bermuda's is responsability of United Kingdom (with only a voluntary 600 members batallion active). Based on this information, we fillna with 0 as it makes sense for the statistic (% of GDP expended)."
   ]
  },
  {
   "cell_type": "code",
   "execution_count": 0,
   "metadata": {
    "colab": {
     "base_uri": "https://localhost:8080/",
     "height": 221
    },
    "colab_type": "code",
    "id": "bHQrKQwH4iIJ",
    "outputId": "8dabeb56-b2e7-4661-a3e1-c28293b993c9"
   },
   "outputs": [
    {
     "name": "stdout",
     "output_type": "stream",
     "text": [
      "                CN  GDPexpMil\n",
      "19          Belize   1.323025\n",
      "21         Bermuda   0.000000\n",
      "34          Canada   1.293395\n",
      "45      Costa Rica   0.000000\n",
      "59     El Salvador   1.051785\n",
      "80       Guatemala   0.363192\n",
      "85        Honduras   1.743808\n",
      "128         Mexico   0.502372\n",
      "144      Nicaragua   0.623063\n",
      "151         Panama   0.000000\n",
      "205  United States   3.109010\n"
     ]
    }
   ],
   "source": [
    "NA_df['GDPexpMil'] = NA_df['GDPexpMil'].fillna(0)\n",
    "print(NA_df[['CN','GDPexpMil']])"
   ]
  },
  {
   "cell_type": "markdown",
   "metadata": {
    "colab_type": "text",
    "id": "nwOXLqO44sKR"
   },
   "source": [
    "For presentation matters, we also generate a visualization to exemplify."
   ]
  },
  {
   "cell_type": "code",
   "execution_count": 0,
   "metadata": {
    "colab": {
     "base_uri": "https://localhost:8080/",
     "height": 312
    },
    "colab_type": "code",
    "id": "xuKmUzD-5Hsj",
    "outputId": "bf2dbe28-9dbe-4495-c569-58a65787633e"
   },
   "outputs": [
    {
     "data": {
      "image/png": "[encoded data removed]",
      "text/plain": [
       "<Figure size 432x288 with 1 Axes>"
      ]
     },
     "metadata": {
      "tags": []
     },
     "output_type": "display_data"
    },
    {
     "data": {
      "text/plain": [
       "<Figure size 432x288 with 0 Axes>"
      ]
     },
     "metadata": {
      "tags": []
     },
     "output_type": "display_data"
    }
   ],
   "source": [
    "x = NA_df['CN']\n",
    "x_pos = [i for i, _ in enumerate(x)]\n",
    "y = NA_df['GDPexpMil']\n",
    "\n",
    "plt.barh(x_pos, y, color=['b','g','m','r','c', 'y', 'xkcd:sky blue','tab:pink', 'tab:cyan','tab:purple','k'])\n",
    "plt.ylabel(\"Countries\")\n",
    "plt.xlabel(\"Military expenditure (% of GDP)\")\n",
    "plt.title(\"Military Expenditure by Country\")\n",
    "plt.yticks(x_pos, x)\n",
    "plt.savefig('MilitaryExp.png')\n",
    "plt.show()"
   ]
  },
  {
   "cell_type": "markdown",
   "metadata": {
    "colab_type": "text",
    "id": "142IxQcL5MOR"
   },
   "source": [
    "Now, we tackle Taxes. Information is available in OECD data bank to year 2017. \n",
    "Based on that, we generate a small analysis of growth for the last decade and apply a rate of growth of the previous year to make 2018 projection.\n",
    "This information is now passed into our working dataset. \n",
    "**Sadly, Bermuda info is unavailable or from an unreliable source. "
   ]
  },
  {
   "cell_type": "code",
   "execution_count": 0,
   "metadata": {
    "colab": {
     "base_uri": "https://localhost:8080/",
     "height": 221
    },
    "colab_type": "code",
    "id": "FFeAm3-i5t8k",
    "outputId": "008e98f8-315e-4587-e1a1-0ef3bcab4569"
   },
   "outputs": [
    {
     "name": "stdout",
     "output_type": "stream",
     "text": [
      "                CN        Tax\n",
      "19          Belize  25.970056\n",
      "21         Bermuda   0.000000\n",
      "34          Canada  12.521239\n",
      "45      Costa Rica  13.777171\n",
      "59     El Salvador  17.790230\n",
      "80       Guatemala  12.381743\n",
      "85        Honduras  24.363462\n",
      "128         Mexico  13.043359\n",
      "144      Nicaragua  16.504696\n",
      "151         Panama  15.011814\n",
      "205  United States  11.947411\n"
     ]
    }
   ],
   "source": [
    "Tax_df = pd.read_excel(file, sheet_name = 'TaxRevenues')\n",
    "NA_df.at[21,'Tax'] = Tax_df.at[6,'TaxRevGDP']\n",
    "NA_df.at[151,'Tax'] = Tax_df.at[4,'TaxRevGDP']\n",
    "NA_df.at[85,'Tax'] = Tax_df.at[2,'TaxRevGDP']\n",
    "NA_df.at[80,'Tax'] = Tax_df.at[0,'TaxRevGDP']\n",
    "print(NA_df[['CN','Tax']])\n"
   ]
  },
  {
   "cell_type": "markdown",
   "metadata": {
    "colab_type": "text",
    "id": "x9hlvuKN6Jqo"
   },
   "source": [
    "We recheck for Missing Values. Once completed, we move into Outlier detection."
   ]
  },
  {
   "cell_type": "code",
   "execution_count": 0,
   "metadata": {
    "colab": {
     "base_uri": "https://localhost:8080/",
     "height": 306
    },
    "colab_type": "code",
    "id": "2RJ2ih3K6TmD",
    "outputId": "5c2ec681-0124-4c35-e026-aa07ebf4caad"
   },
   "outputs": [
    {
     "name": "stdout",
     "output_type": "stream",
     "text": [
      "CC                0\n",
      "CN                0\n",
      "HR                0\n",
      "KN                0\n",
      "ElecPop           0\n",
      "                 ..\n",
      "PopUrbanGrowth    0\n",
      "m_ArmedForces     0\n",
      "m_GDPexpMil       0\n",
      "m_MobileSubs      0\n",
      "m_Tax             0\n",
      "Length: 71, dtype: int64\n",
      "m_ArmedForces    0\n",
      "m_GDPexpMil      0\n",
      "m_MobileSubs     0\n",
      "m_Tax            0\n",
      "dtype: int64\n"
     ]
    }
   ],
   "source": [
    "checkNA()"
   ]
  },
  {
   "cell_type": "markdown",
   "metadata": {
    "colab_type": "text",
    "id": "345zYMmC6dar"
   },
   "source": [
    "OUTLIER DETECTION\n",
    "We explore by doing quantiles and doing boxplots for visualization. \n",
    "Let's review one obvious outlier from this region: GDP"
   ]
  },
  {
   "cell_type": "code",
   "execution_count": 0,
   "metadata": {
    "colab": {
     "base_uri": "https://localhost:8080/",
     "height": 839
    },
    "colab_type": "code",
    "id": "sSyu5AQw7AS_",
    "outputId": "f2e1abad-bc99-4e66-802a-7e7731a05ec3"
   },
   "outputs": [
    {
     "name": "stdout",
     "output_type": "stream",
     "text": [
      "\"\n",
      "========================================================================\n",
      "Outliers\n",
      "========================================================================\n",
      "      \n",
      "                CN           GDP\n",
      "19          Belize  1.862615e+09\n",
      "21         Bermuda  5.573710e+06\n",
      "34          Canada  1.646867e+12\n",
      "45      Costa Rica  5.817455e+10\n",
      "59     El Salvador  2.492797e+10\n",
      "80       Guatemala  7.562010e+10\n",
      "85        Honduras  2.294018e+10\n",
      "128         Mexico  1.158071e+12\n",
      "144      Nicaragua  1.384359e+10\n",
      "151         Panama  6.228380e+10\n",
      "205  United States  1.948539e+13\n",
      "count    1.100000e+01\n",
      "mean     2.049999e+12\n",
      "std      5.809653e+12\n",
      "min      5.573710e+06\n",
      "25%      1.839188e+10\n",
      "50%      5.817455e+10\n",
      "75%      6.168456e+11\n",
      "max      1.948539e+13\n",
      "Name: GDP, dtype: float64\n",
      "              GDP\n",
      "0.2  1.384359e+10\n",
      "0.4  2.492797e+10\n",
      "0.6  6.228380e+10\n",
      "0.8  1.158071e+12\n",
      "1.0  1.948539e+13\n"
     ]
    },
    {
     "data": {
      "image/png": "[encoded data removed]",
      "text/plain": [
       "<Figure size 432x288 with 1 Axes>"
      ]
     },
     "metadata": {
      "tags": []
     },
     "output_type": "display_data"
    },
    {
     "data": {
      "text/plain": [
       "<Figure size 432x288 with 0 Axes>"
      ]
     },
     "metadata": {
      "tags": []
     },
     "output_type": "display_data"
    }
   ],
   "source": [
    "print(\"\"\"\"\n",
    "========================================================================\n",
    "Outliers\n",
    "========================================================================\n",
    "      \"\"\")\n",
    "print(NA_df[['CN','GDP']])\n",
    "print(NA_df['GDP'].describe().round(2))\n",
    "print(NA_df[['GDP']].quantile([0.20, 0.40, 0.60, 0.80, 1.00]))\n",
    "NA_df.boxplot(column = 'GDP',vert = False, meanline = True, showmeans = True)\n",
    "plt.savefig('GDP-boxplot.png')\n",
    "plt.show()"
   ]
  },
  {
   "cell_type": "markdown",
   "metadata": {
    "colab_type": "text",
    "id": "_R8vnLRR_DRH"
   },
   "source": [
    "As expected, there are some big differences in the range of GDP in this region. We follow with a scatterplot to have a better idea which countries are outstanding and driving the mean of the region out-of-the-box. "
   ]
  },
  {
   "cell_type": "code",
   "execution_count": 0,
   "metadata": {
    "colab": {
     "base_uri": "https://localhost:8080/",
     "height": 307
    },
    "colab_type": "code",
    "id": "Hk1OxP9p_nNl",
    "outputId": "6d04e434-1efd-4564-e3af-4ff6073bf2d7"
   },
   "outputs": [
    {
     "data": {
      "image/png": "[encoded data removed]",
      "text/plain": [
       "<Figure size 432x288 with 1 Axes>"
      ]
     },
     "metadata": {
      "tags": []
     },
     "output_type": "display_data"
    },
    {
     "data": {
      "text/plain": [
       "<Figure size 432x288 with 0 Axes>"
      ]
     },
     "metadata": {
      "tags": []
     },
     "output_type": "display_data"
    }
   ],
   "source": [
    "plt.scatter(NA_df.CC, NA_df.GDP)\n",
    "plt.xlabel('Countries')\n",
    "plt.savefig('GDP-scatter.png')\n",
    "plt.show()"
   ]
  },
  {
   "cell_type": "markdown",
   "metadata": {
    "colab_type": "text",
    "id": "wXTN_ZUn_-5U"
   },
   "source": [
    "*One of them is not like the others* ♪\n",
    "US drives the region out of representative description when talking about region's GDP. While this might not manifest in every statistic, it is important to keep in mind when analyzing data."
   ]
  },
  {
   "cell_type": "markdown",
   "metadata": {
    "colab_type": "text",
    "id": "jGgpgneTA9vd"
   },
   "source": [
    "# Population: Fertility Rate Inspection"
   ]
  },
  {
   "cell_type": "markdown",
   "metadata": {
    "colab_type": "text",
    "id": "mCPKixOnCoIe"
   },
   "source": [
    "Read in excel file and fertility time series data, adolescent time series data, and population over 65 time series data"
   ]
  },
  {
   "cell_type": "code",
   "execution_count": 0,
   "metadata": {
    "colab": {},
    "colab_type": "code",
    "id": "7eH_vmQrCmcZ"
   },
   "outputs": [],
   "source": [
    "# reading in dataset\n",
    "\n",
    "file_path = 'WDIW Dataset - Pop.xlsx'\n",
    "\n",
    "#data from 2019\n",
    "WDIW_2019 = pd.read_excel(file_path, index_col= 'Country Code')\n",
    "\n",
    "# Time Series data for Total Fertility Rate\n",
    "WDIW_fertility = pd.read_excel(file_path, index_col='Country Code', sheet_name= 'Total Fertility Rate TimeSeries')\n",
    "\n",
    "#Time Series data for Adolescent Fertility Rate\n",
    "WDIW_Ad_fertility = pd.read_excel(file_path, index_col= 'Country Code', sheet_name= 'Ad Fertility Time Series')\n",
    "\n",
    "#Time series data for % Popoulation 65 and up\n",
    "WDIW_population_old = pd.read_excel(file_path, index_col= 'Country Code', sheet_name= 'Population Old')"
   ]
  },
  {
   "cell_type": "markdown",
   "metadata": {
    "colab_type": "text",
    "id": "cF-ga73jC3nE"
   },
   "source": [
    "Seperating out Hotrod's countries for each indicator"
   ]
  },
  {
   "cell_type": "code",
   "execution_count": 0,
   "metadata": {
    "colab": {},
    "colab_type": "code",
    "id": "qULQVTq6DM6E"
   },
   "outputs": [],
   "source": [
    "# seperating out our region's countries\n",
    "Hotrod_country = ['BLZ', 'BMU', 'CAN', 'CRI', 'SLV', 'GTM', 'HND', 'MEX', 'NIC', 'PAN', 'USA']\n",
    "\n",
    "# Time series data of Total Fertility Rate indicator of countries is in list\n",
    "Hotrod_fertility = WDIW_fertility.loc[WDIW_fertility.index.isin(Hotrod_country)]\n",
    "\n",
    "# Time series data of Adolescent Fertility Rate indicator of countries is in list \n",
    "Hotrod_Ad_fertility = WDIW_Ad_fertility.loc[WDIW_Ad_fertility.index.isin(Hotrod_country)]\n",
    "\n",
    "# Time series data of % Population 65 and up indicator is in list\n",
    "Hotrod_population_old = WDIW_population_old.loc[WDIW_population_old.index.isin(Hotrod_country)]\n",
    "\n",
    "# 2019 Data for Countries in the region\n",
    "Hotrod_2019 = WDIW_2019.loc[WDIW_2019.index.isin(Hotrod_country)]"
   ]
  },
  {
   "cell_type": "markdown",
   "metadata": {
    "colab_type": "text",
    "id": "JBv0wrx5DQWJ"
   },
   "source": [
    "Looking to see if there are any outliers in Total Fertility Rate (below 2.1 which is replacement rate necessary to ensure population can replenish is of interest)"
   ]
  },
  {
   "cell_type": "code",
   "execution_count": 0,
   "metadata": {
    "colab": {
     "base_uri": "https://localhost:8080/",
     "height": 435
    },
    "colab_type": "code",
    "id": "_UddoOAXDklv",
    "outputId": "166a95f9-9c2b-4c38-baba-ef5e01a8484f"
   },
   "outputs": [
    {
     "name": "stdout",
     "output_type": "stream",
     "text": [
      "count    11.000000\n",
      "mean      2.139873\n",
      "std       0.442732\n",
      "min       1.496100\n",
      "25%       1.768750\n",
      "50%       2.157000\n",
      "75%       2.458500\n",
      "max       2.920000\n",
      "Name: Fertility rate, total (births per woman), dtype: float64\n"
     ]
    },
    {
     "data": {
      "text/plain": [
       "<matplotlib.axes._subplots.AxesSubplot at 0x7f6a600e6ef0>"
      ]
     },
     "execution_count": 8,
     "metadata": {
      "tags": []
     },
     "output_type": "execute_result"
    },
    {
     "data": {
      "image/png": "[encoded data removed]",
      "text/plain": [
       "<Figure size 432x288 with 1 Axes>"
      ]
     },
     "metadata": {
      "tags": []
     },
     "output_type": "display_data"
    }
   ],
   "source": [
    "# Looking at TFR below 2.1 \n",
    "Hotrod_2019_Fertility = Hotrod_2019['Fertility rate, total (births per woman)']\n",
    "print(Hotrod_2019_Fertility.describe())\n",
    "\n",
    "Hotrod_2019_Fertility.plot(kind = 'box')"
   ]
  },
  {
   "cell_type": "markdown",
   "metadata": {
    "colab_type": "text",
    "id": "o55fL5twD3pU"
   },
   "source": [
    "Transposing data for all three indicators to prepare to compare with line graph "
   ]
  },
  {
   "cell_type": "code",
   "execution_count": 0,
   "metadata": {
    "colab": {},
    "colab_type": "code",
    "id": "jAVqEcyqEIpu"
   },
   "outputs": [],
   "source": [
    "# Select Total fertility rate indicator of countries in Hotrod in time series\n",
    "Hotrod_total_fertility = Hotrod_fertility.loc[Hotrod_fertility['Indicator Name'] == 'Fertility rate, total (births per woman)', '1960':'2019']\n",
    "\n",
    "# Select Adolescent Fertility rate at birth of countries in Hotrod in time series\n",
    "Hotrod_adolescent_fertility = Hotrod_Ad_fertility.loc[Hotrod_Ad_fertility['Indicator Name'] == 'Adolescent fertility rate (births per 1,000 women ages 15-19)', '1960':'2019']\n",
    "\n",
    "# Select Total% of Population over 65 indicator of countries in Hotrod in time series\n",
    "HR_population_old = Hotrod_population_old.loc[Hotrod_population_old['Indicator Name'] == 'Population ages 65 and above, total', '1960':'2019']\n",
    "\n",
    "# Switch between columns and rows to be ready for the graph\n",
    "Hotrod_total_fertility_plot = Hotrod_total_fertility.transpose()\n",
    "Hotrod_adolescent_fertility_plot = Hotrod_adolescent_fertility.transpose()\n",
    "Hotrod_population_old_plot = HR_population_old.transpose()"
   ]
  },
  {
   "cell_type": "markdown",
   "metadata": {
    "colab_type": "text",
    "id": "FtwyD0q6ELie"
   },
   "source": [
    "Comparing our region of all three indicators with line graph"
   ]
  },
  {
   "cell_type": "code",
   "execution_count": 0,
   "metadata": {
    "colab": {
     "base_uri": "https://localhost:8080/",
     "height": 809
    },
    "colab_type": "code",
    "id": "KVrkoGEHESaq",
    "outputId": "2b7690bc-bfc8-4029-a3e6-0afcb2ff8dc1"
   },
   "outputs": [
    {
     "data": {
      "image/png": "[encoded data removed]",
      "text/plain": [
       "<Figure size 432x288 with 1 Axes>"
      ]
     },
     "metadata": {
      "tags": []
     },
     "output_type": "display_data"
    },
    {
     "data": {
      "image/png": "[encoded data removed]",
      "text/plain": [
       "<Figure size 432x288 with 1 Axes>"
      ]
     },
     "metadata": {
      "tags": []
     },
     "output_type": "display_data"
    },
    {
     "data": {
      "image/png": "[encoded data removed]",
      "text/plain": [
       "<Figure size 432x288 with 1 Axes>"
      ]
     },
     "metadata": {
      "tags": []
     },
     "output_type": "display_data"
    }
   ],
   "source": [
    "# Plot the Fertility rate between 1990 and 2017\n",
    "ax = Hotrod_total_fertility_plot.loc['1990':'2017'].plot()\n",
    "\n",
    "# Set a legend that describe each line\n",
    "ax.legend(loc='upper center', bbox_to_anchor=(1.1, 0.9),\n",
    "          ncol=1, fancybox=True, shadow=True)\n",
    "\n",
    "# Set the title of the graph\n",
    "plt.title('Fertility rate, total (births per woman)')\n",
    "\n",
    "# Show the graph\n",
    "plt.show()\n",
    "\n",
    "# Plot the Adolescent Fertility rate between 1990 and 2017\n",
    "ax = Hotrod_adolescent_fertility_plot.loc['1990':'2017'].plot()\n",
    "\n",
    "# Set a legend that describe each line\n",
    "ax.legend(loc='upper center', bbox_to_anchor=(1.1, 0.9),\n",
    "          ncol=1, fancybox=True, shadow=True)\n",
    "\n",
    "# Set the title of the graph\n",
    "plt.title('Adolescent fertility rate (births per 1,000 women ages 15-19)')\n",
    "\n",
    "# Show the graph\n",
    "plt.show()\n",
    "\n",
    "# Plot the population over 65 between 1990 and 2017\n",
    "ax = Hotrod_population_old_plot.loc['1990':'2017'].plot()\n",
    "\n",
    "# Set a legend that describe each line\n",
    "ax.legend(loc='upper center', bbox_to_anchor=(1.1, 0.9),\n",
    "          ncol=1, fancybox=True, shadow=True)\n",
    "\n",
    "# Set the title of the graph\n",
    "plt.title('Population ages 65 and above, total')\n",
    "\n",
    "# Show the graph\n",
    "plt.show()"
   ]
  },
  {
   "cell_type": "markdown",
   "metadata": {
    "colab_type": "text",
    "id": "_ckr7LnUETwf"
   },
   "source": [
    "Because population of the elderly is rising so much in the US with a low Fertility Rate, want to take a closer look at just the USA and why total fertility is dropping"
   ]
  },
  {
   "cell_type": "code",
   "execution_count": 0,
   "metadata": {
    "colab": {
     "base_uri": "https://localhost:8080/",
     "height": 809
    },
    "colab_type": "code",
    "id": "P-of0qHQEkPS",
    "outputId": "c383ad0b-7028-49fe-9073-3f36b62a3587"
   },
   "outputs": [
    {
     "data": {
      "image/png": "[encoded data removed]",
      "text/plain": [
       "<Figure size 432x288 with 1 Axes>"
      ]
     },
     "metadata": {
      "tags": []
     },
     "output_type": "display_data"
    },
    {
     "data": {
      "image/png": "[encoded data removed]",
      "text/plain": [
       "<Figure size 432x288 with 1 Axes>"
      ]
     },
     "metadata": {
      "tags": []
     },
     "output_type": "display_data"
    },
    {
     "data": {
      "image/png": "[encoded data removed]",
      "text/plain": [
       "<Figure size 432x288 with 1 Axes>"
      ]
     },
     "metadata": {
      "tags": []
     },
     "output_type": "display_data"
    }
   ],
   "source": [
    "# Plot Fertility rate for USA\n",
    "ax = Hotrod_total_fertility_plot.loc['1990':,'USA'].plot()\n",
    "\n",
    "ax.legend(loc='upper center', bbox_to_anchor=(1.1, 0.9),\n",
    "          ncol=1, fancybox=True, shadow=True)\n",
    "\n",
    "plt.title('Fertility rate, total (births per woman)')\n",
    "\n",
    "\n",
    "plt.show()\n",
    "\n",
    "# Plot Adolescent fertility rate USA\n",
    "\n",
    "ax = Hotrod_adolescent_fertility_plot.loc['1990':,'USA'].plot()\n",
    "\n",
    "ax.legend(loc='upper center', bbox_to_anchor=(1.1, 0.9),\n",
    "          ncol=1, fancybox=True, shadow=True)\n",
    "\n",
    "plt.title('Adolescent fertility rate (births per 1,000 women ages 15-19)')\n",
    "\n",
    "\n",
    "plt.show()\n",
    "\n",
    "# Plot Population above 65 for USA\n",
    "ax = Hotrod_population_old_plot.loc['1990':,'USA'].plot()\n",
    "\n",
    "ax.legend(loc='upper center', bbox_to_anchor=(1.1, 0.9),\n",
    "          ncol=1, fancybox=True, shadow=True)\n",
    "\n",
    "plt.title('Population ages 65 and above, total')\n",
    "\n",
    "\n",
    "plt.show()"
   ]
  },
  {
   "cell_type": "markdown",
   "metadata": {
    "colab_type": "text",
    "id": "mkHgYxOLFecI"
   },
   "source": [
    "# Poverty and health"
   ]
  },
  {
   "cell_type": "markdown",
   "metadata": {
    "colab_type": "text",
    "id": "pUHnSOP5GNAo"
   },
   "source": [
    "Read excel from poverty and health sheet in the file"
   ]
  },
  {
   "cell_type": "code",
   "execution_count": 0,
   "metadata": {
    "colab": {},
    "colab_type": "code",
    "id": "ey7fdLWvPuE1"
   },
   "outputs": [],
   "source": [
    "# reading in dataset\n",
    "file_path = 'WDIW Dataset - Draft.xlsx'"
   ]
  },
  {
   "cell_type": "code",
   "execution_count": 0,
   "metadata": {
    "colab": {},
    "colab_type": "code",
    "id": "esNuxqVxFsfA"
   },
   "outputs": [],
   "source": [
    "# All data of 2019\n",
    "WDIW_2019 = pd.read_excel(file_path, index_col= 'Country Code')\n",
    "\n",
    "# Time series data of health indicator\n",
    "WDIW_health = pd.read_excel(file_path, index_col= 'Country Code', sheet_name= 'Health Data Time series')\n",
    "\n",
    "# Time series data of poverty indicator\n",
    "WDIW_poverty = pd.read_excel(file_path, index_col= 'Country Code', sheet_name= 'Poverty Data Time series')"
   ]
  },
  {
   "cell_type": "markdown",
   "metadata": {
    "colab_type": "text",
    "id": "TuqAQ0YeGajM"
   },
   "source": [
    "Filter for only contries in the region"
   ]
  },
  {
   "cell_type": "code",
   "execution_count": 0,
   "metadata": {
    "colab": {},
    "colab_type": "code",
    "id": "Dlpq6AB5GDR7"
   },
   "outputs": [],
   "source": [
    "# Create a list of country in the region\n",
    "Hotrod_country = ['BLZ', 'BMU', 'CAN', 'CRI', 'SLV', 'GTM', 'HND', 'MEX', 'NIC', 'PAN', 'USA']\n",
    "\n",
    "# Time series data of health indicator of countries in the list\n",
    "Hotrod_health = WDIW_health.loc[WDIW_health.index.isin(Hotrod_country)]\n",
    "\n",
    "# Time series data of poverty indicator of countries in the list\n",
    "Hotrod_poverty = WDIW_poverty.loc[WDIW_poverty.index.isin(Hotrod_country)]\n",
    "\n",
    "# All data in 2019 of countries in the region\n",
    "Hotrod_2019 = WDIW_2019.loc[WDIW_2019.index.isin(Hotrod_country)]\n"
   ]
  },
  {
   "cell_type": "markdown",
   "metadata": {
    "colab_type": "text",
    "id": "0B3KIL8KG_48"
   },
   "source": [
    "See if there is any interesting subject in Prevalance of HIV column. Do the boxplot to check the outlier in HIV"
   ]
  },
  {
   "cell_type": "code",
   "execution_count": 0,
   "metadata": {
    "colab": {
     "base_uri": "https://localhost:8080/",
     "height": 265
    },
    "colab_type": "code",
    "id": "7MoXc1F7HQ-z",
    "outputId": "f3fc4122-b40f-4d15-c287-e6a9ded5dec1"
   },
   "outputs": [
    {
     "data": {
      "image/png": "[encoded data removed]",
      "text/plain": [
       "<Figure size 432x288 with 1 Axes>"
      ]
     },
     "metadata": {
      "tags": []
     },
     "output_type": "display_data"
    }
   ],
   "source": [
    "# Select Prevalance of HIV in ages 15-49 of countries in Hotrod in 2019\n",
    "Hotrod_2019_HIV = Hotrod_2019['Prevalence of HIV, total (% of population ages 15-49)']\n",
    "\n",
    "# Plot a boxplot to see outliers\n",
    "Hotrod_2019_HIV.plot(kind = 'box')\n",
    "plt.show()"
   ]
  },
  {
   "cell_type": "markdown",
   "metadata": {
    "colab_type": "text",
    "id": "Z4E7Op5FHQDA"
   },
   "source": [
    "Check the trends in Prevalence of HIV column, and comparing with life expectency at birth(years) to see if it is related"
   ]
  },
  {
   "cell_type": "code",
   "execution_count": 0,
   "metadata": {
    "colab": {},
    "colab_type": "code",
    "id": "ZMFWLz6HGq7s"
   },
   "outputs": [],
   "source": [
    "# Select Prevalance of HIV in ages 15-49 of countries in Hotrod in time series\n",
    "Hotrod_health_HIV = Hotrod_health.loc[Hotrod_health['Indicator Name'] == 'Prevalence of HIV, total (% of population ages 15-49)', '1960':'2019']\n",
    "\n",
    "# Select Life expectancy at birth of countries in Hotrod in time series\n",
    "Hotrod_health_life_expect = Hotrod_health.loc[Hotrod_health['Indicator Name'] == 'Life expectancy at birth, total (years)', '1960':'2019']\n",
    "\n",
    "# Switch between columns and rows to be ready for the graph\n",
    "Hotrod_health_HIV_plot = Hotrod_health_HIV.transpose()\n",
    "Hotrod_health_life_expect_plot = Hotrod_health_life_expect.transpose()\n",
    "\n",
    "# Fill the missing value by using the value in the row before\n",
    "Hotrod_health_HIV_plot = Hotrod_health_HIV_plot.fillna(method = 'ffill')\n",
    "Hotrod_health_life_expect_plot = Hotrod_health_life_expect_plot.fillna(method = 'ffill')"
   ]
  },
  {
   "cell_type": "markdown",
   "metadata": {
    "colab_type": "text",
    "id": "yfJoHgeVIzvE"
   },
   "source": [
    "Plot the Prevalence of HIV in time series"
   ]
  },
  {
   "cell_type": "code",
   "execution_count": 0,
   "metadata": {
    "colab": {
     "base_uri": "https://localhost:8080/",
     "height": 281
    },
    "colab_type": "code",
    "id": "jY3BeDsaIM7M",
    "outputId": "6d10347f-d48b-45a5-abb6-b7da4e719612"
   },
   "outputs": [
    {
     "data": {
      "image/png": "[encoded data removed]",
      "text/plain": [
       "<Figure size 432x288 with 1 Axes>"
      ]
     },
     "metadata": {
      "tags": []
     },
     "output_type": "display_data"
    }
   ],
   "source": [
    "# Plot the Prevalance of HIV in ages 15-49 data between 1990 and 2017\n",
    "ax = Hotrod_health_HIV_plot.loc['1990':'2017'].plot()\n",
    "\n",
    "# Set a legend that describe each line\n",
    "ax.legend(loc='upper center', bbox_to_anchor=(1.1, 0.9),\n",
    "          ncol=1, fancybox=True, shadow=True)\n",
    "\n",
    "# Set the title of the graph\n",
    "plt.title('Prevalence of HIV, total (% of population ages 15-49)')\n",
    "\n",
    "# Show the graph\n",
    "plt.show()"
   ]
  },
  {
   "cell_type": "markdown",
   "metadata": {
    "colab_type": "text",
    "id": "wiKqunxDI_oj"
   },
   "source": [
    "Plot the Life expectency in time series"
   ]
  },
  {
   "cell_type": "code",
   "execution_count": 0,
   "metadata": {
    "colab": {
     "base_uri": "https://localhost:8080/",
     "height": 281
    },
    "colab_type": "code",
    "id": "hZ2voPD1IUIR",
    "outputId": "b4e33033-14d5-4c1f-a78c-14bc325c2baf"
   },
   "outputs": [
    {
     "data": {
      "image/png": "[encoded data removed]",
      "text/plain": [
       "<Figure size 432x288 with 1 Axes>"
      ]
     },
     "metadata": {
      "tags": []
     },
     "output_type": "display_data"
    }
   ],
   "source": [
    "# Plot the Life expectancy at birth data between 1990 and 2017\n",
    "ax = Hotrod_health_life_expect_plot.loc['1990':'2017'].plot()\n",
    "\n",
    "# Set a legend that describe each line\n",
    "ax.legend(loc='upper center', bbox_to_anchor=(1.1, 0.9),\n",
    "          ncol=1, fancybox=True, shadow=True)\n",
    "\n",
    "# Set the title of the graph\n",
    "plt.title('Life expectancy at birth, total (years)')\n",
    "\n",
    "# Show the graph\n",
    "plt.show()"
   ]
  },
  {
   "cell_type": "markdown",
   "metadata": {
    "colab_type": "text",
    "id": "ax61NfEFQ19W"
   },
   "source": [
    "Belize \n",
    "* in the country with the highest HIV rate in the region. However, \n",
    "the rate became steady after 2007.\n",
    "Hondurus is the only country that can reduce the HIV rate in the region \n",
    "  * https://en.wikipedia.org/wiki/HIV/AIDS_in_Honduras\n",
    "  * https://news.un.org/en/story/2011/08/383452-un-helps-belize-fight-highest-incidence-hivaids-central-america\n",
    "\n",
    "Honduras\n",
    "* Highest percentage in HIV during 1990-1994. But, it is the only country that can reduce the percentage of HIV after 1994\n",
    "    * https://www.who.int/hiv/HIVCP_HND.pdf\n",
    "* the Strategic Plan for the Fight Against AIDS, in place from 1998 to 2002, included the response capabilities of both governmental and nongovernmental bodies and organizations.[1] By the beginning of the 1990s, blood began to be screened for HIV on a national scale in Honduras, five years after the US began screening blood donations. HIV/AIDS cases due to blood transfusions began to decrease by 1991. https://en.wikipedia.org/wiki/HIV/AIDS_in_Honduras"
   ]
  },
  {
   "cell_type": "markdown",
   "metadata": {
    "colab_type": "text",
    "id": "BsQgnuosJULM"
   },
   "source": [
    "See if there is any interesting subject in poverty. Do the boxplot to check the outlier in poverty data"
   ]
  },
  {
   "cell_type": "code",
   "execution_count": 0,
   "metadata": {
    "colab": {
     "base_uri": "https://localhost:8080/",
     "height": 282
    },
    "colab_type": "code",
    "id": "QisdazbZJTbo",
    "outputId": "541e8b35-967b-4eb4-f5d4-fa3aeb06a95e"
   },
   "outputs": [
    {
     "data": {
      "text/plain": [
       "<matplotlib.axes._subplots.AxesSubplot at 0x7ff7f1cb3b70>"
      ]
     },
     "execution_count": 35,
     "metadata": {
      "tags": []
     },
     "output_type": "execute_result"
    },
    {
     "data": {
      "image/png": "[encoded data removed]",
      "text/plain": [
       "<Figure size 432x288 with 1 Axes>"
      ]
     },
     "metadata": {
      "tags": []
     },
     "output_type": "display_data"
    }
   ],
   "source": [
    "# Select Poverty headcount ratio at $1.90 a day (2011 PPP) (% of population) of countries in Hotrod in 2019\n",
    "Hotrod_2019_poverty_below190 = Hotrod_2019['Poverty headcount ratio at $1.90 a day (2011 PPP) (% of population)']\n",
    "\n",
    "# Plot a boxplot to see outliers\n",
    "Hotrod_2019_poverty_below190.plot(kind = 'box')"
   ]
  },
  {
   "cell_type": "code",
   "execution_count": 0,
   "metadata": {
    "colab": {
     "base_uri": "https://localhost:8080/",
     "height": 282
    },
    "colab_type": "code",
    "id": "ufXd6vVAJveF",
    "outputId": "51444f5e-a9c0-426d-8296-dc30efec89a8"
   },
   "outputs": [
    {
     "data": {
      "text/plain": [
       "<matplotlib.axes._subplots.AxesSubplot at 0x7ff7ef761518>"
      ]
     },
     "execution_count": 36,
     "metadata": {
      "tags": []
     },
     "output_type": "execute_result"
    },
    {
     "data": {
      "image/png": "[encoded data removed]",
      "text/plain": [
       "<Figure size 432x288 with 1 Axes>"
      ]
     },
     "metadata": {
      "tags": []
     },
     "output_type": "display_data"
    }
   ],
   "source": [
    "# Select Poverty headcount ratio at $3.20 a day (2011 PPP) (% of population) of countries in Hotrod in 2019\n",
    "Hotrod_2019_poverty_below320 = Hotrod_2019['Poverty headcount ratio at $3.20 a day (2011 PPP) (% of population)']\n",
    "\n",
    "# Plot a boxplot to see outliers\n",
    "Hotrod_2019_poverty_below320.plot(kind = 'box')"
   ]
  },
  {
   "cell_type": "markdown",
   "metadata": {
    "colab_type": "text",
    "id": "YmWcwCMoQ8n4"
   },
   "source": [
    "Check the trend of the poverty data in time series to compare each  country during different period"
   ]
  },
  {
   "cell_type": "code",
   "execution_count": 0,
   "metadata": {
    "colab": {},
    "colab_type": "code",
    "id": "zrR3_Gm-Qzg6"
   },
   "outputs": [],
   "source": [
    "# Select Poverty headcount ratio at $1.90 a day (2011 PPP) (% of population) of countries in Hotrod in time series\n",
    "Hotrod_poverty_below190 = Hotrod_poverty.loc[Hotrod_poverty['Indicator Name'] == 'Poverty headcount ratio at $1.90 a day (2011 PPP) (% of population)', '1960':'2019']\n",
    "\n",
    "# Select Poverty headcount ratio at $3.20 a day (2011 PPP) (% of population) of countries in Hotrod in time series\n",
    "Hotrod_poverty_below320 = Hotrod_poverty.loc[Hotrod_poverty['Indicator Name'] == 'Poverty headcount ratio at $3.20 a day (2011 PPP) (% of population)', '1960':'2019']\n",
    "\n",
    "# Switch between columns and rows to be ready for the graph\n",
    "Hotrod_poverty_below190_plot = Hotrod_poverty_below190.transpose()\n",
    "Hotrod_poverty_below320_plot = Hotrod_poverty_below320.transpose()"
   ]
  },
  {
   "cell_type": "markdown",
   "metadata": {
    "colab_type": "text",
    "id": "hTm9NdqYJxL-"
   },
   "source": [
    "Plot the graph to see the trends during the time"
   ]
  },
  {
   "cell_type": "code",
   "execution_count": 0,
   "metadata": {
    "colab": {
     "base_uri": "https://localhost:8080/",
     "height": 281
    },
    "colab_type": "code",
    "id": "GUBrc1epJwR_",
    "outputId": "d63c3bae-7aa5-4b9a-aa89-58ddac189f2e"
   },
   "outputs": [
    {
     "data": {
      "image/png": "[encoded data removed]",
      "text/plain": [
       "<Figure size 432x288 with 1 Axes>"
      ]
     },
     "metadata": {
      "tags": []
     },
     "output_type": "display_data"
    }
   ],
   "source": [
    "# Plot the Poverty headcount ratio at $1.90 a day (2011 PPP) (% of population) data between 1989 and 2017\n",
    "ax = Hotrod_poverty_below190_plot.loc['1989':'2017'].plot()\n",
    "\n",
    "# Set a legend that describe each line\n",
    "ax.legend(loc='upper center', bbox_to_anchor=(1.1, 0.9),\n",
    "          ncol=1, fancybox=True, shadow=True)\n",
    "\n",
    "# Set the title of the graph\n",
    "plt.title('Poverty headcount ratio at $1.90 a day (2011 PPP) (% of population)')\n",
    "\n",
    "# Show the graph\n",
    "plt.show()"
   ]
  },
  {
   "cell_type": "code",
   "execution_count": 0,
   "metadata": {
    "colab": {
     "base_uri": "https://localhost:8080/",
     "height": 281
    },
    "colab_type": "code",
    "id": "omKqeBDVJ64B",
    "outputId": "c846b11e-16d0-413e-f5f9-239186c7a6d1"
   },
   "outputs": [
    {
     "data": {
      "image/png": "[encoded data removed]",
      "text/plain": [
       "<Figure size 432x288 with 1 Axes>"
      ]
     },
     "metadata": {
      "tags": []
     },
     "output_type": "display_data"
    }
   ],
   "source": [
    "# Plot the Poverty headcount ratio at $3.20 a day (2011 PPP) (% of population) data between 1989 and 2017\n",
    "ax = Hotrod_poverty_below320_plot.loc['1989': '2017'].plot()\n",
    "\n",
    "# Set a legend that describe each line\n",
    "ax.legend(loc='upper center', bbox_to_anchor=(1.1, 0.9),\n",
    "          ncol=1, fancybox=True, shadow=True)\n",
    "\n",
    "# Set the title of the graph\n",
    "plt.title('Poverty headcount ratio at $3.20 a day (2011 PPP) (% of population)')\n",
    "\n",
    "# Show the graph\n",
    "plt.show()"
   ]
  },
  {
   "cell_type": "markdown",
   "metadata": {
    "colab_type": "text",
    "id": "5VBX7SK6Qjef"
   },
   "source": [
    "Hondurus is the poorest country in the region because\n",
    "\n",
    "* Honduras has registered the second highest economic growth rates in Central America, only behind Panama.\n",
    "* Following this coup in 2010 and 2011, the country’s income inequality quickly became the highest in all of Latin America. During this time, all reported income gains were distributed to the country’s wealthiest 10 percent of the population and as of 2017, the World Bank ranked Honduras sixth in the world in terms of income inequality.\n",
    "* Of all of the causes of poverty in Honduras, the most ostensible is indisputably the widespread violence that has been plaguing the country for years. In 2011, the country saw an average of 82 homicides per 100,000 people, prompting the United Nations Office on Drugs and Crime to label the country the murder capital of the world.\n",
    "* Unfortunately, potential investors face considerable obstacles when considering the prospect of putting their money into the country, simultaneously aware of the rampant corruption and violence taking place, weak judicial systems, political instability, poor educational systems, degraded infrastructure and little access to adequate transportation.\n",
    "\n",
    "\n",
    " https://www.borgenmagazine.com/preventable-causes-of-poverty-in-honduras/\n"
   ]
  },
  {
   "cell_type": "markdown",
   "metadata": {
    "colab_type": "text",
    "id": "2kMfz7NTKA7d"
   },
   "source": [
    "Check the healthcare system in each country by comparing the amount of money that each person need to spend out of pocket in USD and in percentage"
   ]
  },
  {
   "cell_type": "code",
   "execution_count": 0,
   "metadata": {
    "colab": {},
    "colab_type": "code",
    "id": "q5YthMiyKAmp"
   },
   "outputs": [],
   "source": [
    "# Select Out-of-pocket expenditure per capita (current US$) of countries in Hotrod in 2019\n",
    "Hotrod_health_out_of_pocket_usd = Hotrod_health.loc[Hotrod_health['Indicator Name'] == 'Out-of-pocket expenditure per capita (current US$)', '1960':'2019']\n",
    "\n",
    "# Select Out-of-pocket expenditure per capita (% of current health expenditure) of countries in Hotrod in 2019\n",
    "Hotrod_health_out_of_pocket_percent = Hotrod_health.loc[Hotrod_health['Indicator Name'] == 'Out-of-pocket expenditure (% of current health expenditure)', '1960':'2019']\n",
    "\n",
    "# Switch between columns and rows to be ready for the graph\n",
    "Hotrod_health_out_of_pocket_usd_plot = Hotrod_health_out_of_pocket_usd.transpose()\n",
    "Hotrod_health_out_of_pocket_percent_plot = Hotrod_health_out_of_pocket_percent.transpose()"
   ]
  },
  {
   "cell_type": "markdown",
   "metadata": {
    "colab_type": "text",
    "id": "dhKgHmk3NWKp"
   },
   "source": [
    "Plot the out of pocket expenditure per capita in USD amount\n",
    "\n"
   ]
  },
  {
   "cell_type": "code",
   "execution_count": 0,
   "metadata": {
    "colab": {
     "base_uri": "https://localhost:8080/",
     "height": 281
    },
    "colab_type": "code",
    "id": "Zt4MtW-_NS13",
    "outputId": "3a4f412b-5144-455b-b089-2088a5db37f6"
   },
   "outputs": [
    {
     "data": {
      "image/png": "[encoded data removed]",
      "text/plain": [
       "<Figure size 432x288 with 1 Axes>"
      ]
     },
     "metadata": {
      "tags": []
     },
     "output_type": "display_data"
    }
   ],
   "source": [
    "# Plot the Out-of-pocket expenditure per capita (current US$) data between 2001 and 2016\n",
    "ax = Hotrod_health_out_of_pocket_usd_plot.loc['2001': '2016'].plot()\n",
    "\n",
    "# Set a legend that describe each line\n",
    "ax.legend(loc='upper center', bbox_to_anchor=(1.1, 0.9),\n",
    "          ncol=1, fancybox=True, shadow=True)\n",
    "\n",
    "# Set the title of the graph\n",
    "plt.title('Out-of-pocket expenditure per capita (current US$)')\n",
    "\n",
    "# Show the graph\n",
    "plt.show()"
   ]
  },
  {
   "cell_type": "markdown",
   "metadata": {
    "colab_type": "text",
    "id": "TBWEIeoZOGA5"
   },
   "source": [
    "Plot the out of pocket expenditure per capita (% of current health expenditure)"
   ]
  },
  {
   "cell_type": "code",
   "execution_count": 0,
   "metadata": {
    "colab": {
     "base_uri": "https://localhost:8080/",
     "height": 281
    },
    "colab_type": "code",
    "id": "gapA76jENVLq",
    "outputId": "8746e2af-0c9c-4171-8460-e4aecd2ea668"
   },
   "outputs": [
    {
     "data": {
      "image/png": "[encoded data removed]",
      "text/plain": [
       "<Figure size 432x288 with 1 Axes>"
      ]
     },
     "metadata": {
      "tags": []
     },
     "output_type": "display_data"
    }
   ],
   "source": [
    "# Plot the Out-of-pocket expenditure per capita (% of current health expenditure) data between 2001 and 2016\n",
    "ax = Hotrod_health_out_of_pocket_percent_plot.loc['2001': '2016'].plot()\n",
    "\n",
    "# Set a legend that describe each line\n",
    "ax.legend(loc='upper center', bbox_to_anchor=(1.1, 0.9),\n",
    "          ncol=1, fancybox=True, shadow=True)\n",
    "\n",
    "# Set the title of the graph\n",
    "plt.title('Out-of-pocket expenditure per capita (% of current health expenditure)')\n",
    "\n",
    "# Show the graph\n",
    "plt.show()"
   ]
  },
  {
   "cell_type": "markdown",
   "metadata": {
    "colab_type": "text",
    "id": "WNBWGV1cP-zr"
   },
   "source": [
    "We can see that while people in US and Canada spend much more out of pocket in USD, however, they are the one who spend in least amount when comparing in percentage of the health expenditure. This is why US healthcare is so expensive  https://www.healthedeals.com/blog/save/why-is-healthcare-so-expensive/"
   ]
  },
  {
   "cell_type": "markdown",
   "metadata": {
    "colab_type": "text",
    "id": "fqUDXtfnfp0T"
   },
   "source": [
    "# GDP and Tourism "
   ]
  },
  {
   "cell_type": "markdown",
   "metadata": {
    "colab_type": "text",
    "id": "QLQLVVuofxQf"
   },
   "source": [
    "Importing the WDIW dataset. The excel file I used, has an updated number for the GDP (current US$) of Bermuda (Column AC)."
   ]
  },
  {
   "cell_type": "code",
   "execution_count": 0,
   "metadata": {
    "colab": {
     "base_uri": "https://localhost:8080/",
     "height": 198
    },
    "colab_type": "code",
    "id": "ehTp6468ig5i",
    "outputId": "cf3cbf8d-3176-4ed9-a9c3-5d95eec4fa7d"
   },
   "outputs": [
    {
     "ename": "NameError",
     "evalue": "ignored",
     "output_type": "error",
     "traceback": [
      "\u001b[0;31m---------------------------------------------------------------------------\u001b[0m",
      "\u001b[0;31mNameError\u001b[0m                                 Traceback (most recent call last)",
      "\u001b[0;32m<ipython-input-2-e3ef447b048b>\u001b[0m in \u001b[0;36m<module>\u001b[0;34m()\u001b[0m\n\u001b[1;32m      7\u001b[0m \u001b[0;31m# reading the wdiw file into Python through pandas\u001b[0m\u001b[0;34m\u001b[0m\u001b[0;34m\u001b[0m\u001b[0;34m\u001b[0m\u001b[0m\n\u001b[1;32m      8\u001b[0m \u001b[0;34m\u001b[0m\u001b[0m\n\u001b[0;32m----> 9\u001b[0;31m \u001b[0mwrld_dataset\u001b[0m \u001b[0;34m=\u001b[0m \u001b[0mpd\u001b[0m\u001b[0;34m.\u001b[0m\u001b[0mread_excel\u001b[0m\u001b[0;34m(\u001b[0m\u001b[0mfile\u001b[0m\u001b[0;34m,\u001b[0m\u001b[0mindex_col\u001b[0m \u001b[0;34m=\u001b[0m \u001b[0;36m0\u001b[0m\u001b[0;34m)\u001b[0m\u001b[0;34m\u001b[0m\u001b[0;34m\u001b[0m\u001b[0m\n\u001b[0m",
      "\u001b[0;31mNameError\u001b[0m: name 'pd' is not defined"
     ]
    }
   ],
   "source": [
    "import seaborn as sns\n",
    "\n",
    "# specifying the WDIW Dataset file\n",
    "\n",
    "file = 'WDIW Dataset Final.xlsx'\n",
    "\n",
    "# reading the wdiw file into Python through pandas\n",
    "\n",
    "wrld_dataset = pd.read_excel(file,index_col = 0)"
   ]
  },
  {
   "cell_type": "markdown",
   "metadata": {
    "colab_type": "text",
    "id": "Nq6aESyNlzIn"
   },
   "source": [
    "Here I used Transformers in place of the Cool Name column because I kept getting a key error\n"
   ]
  },
  {
   "cell_type": "code",
   "execution_count": 0,
   "metadata": {
    "colab": {},
    "colab_type": "code",
    "id": "UANRmA9zlrnn"
   },
   "outputs": [],
   "source": [
    "#Filtering out the north america and part of latin america dataset\n",
    "\n",
    "na_dataset = wrld_dataset[wrld_dataset['Transformers'] == 'Hot Rod']\n"
   ]
  },
  {
   "cell_type": "code",
   "execution_count": 0,
   "metadata": {
    "colab": {},
    "colab_type": "code",
    "id": "dFeiUAFEm1Ox"
   },
   "outputs": [],
   "source": [
    "#filtering out the data for gdp, population growth\n",
    "\n",
    "na_dataset_gdp_pop = na_dataset[['Country Name',\n",
    "                                 'Population growth (annual %)',\n",
    "                                 'GDP (current US$)', \n",
    "                                 'GDP growth (annual %)',\n",
    "                                 'Tax revenue (% of GDP)',\n",
    "                                 'Merchandise trade (% of GDP)',\n",
    "                                 'Services, value added (% of GDP)',\n",
    "                                 'Industry (including construction), value added (% of GDP)',\n",
    "                                 'Agriculture, forestry, and fishing, value added (% of GDP)']]\n"
   ]
  },
  {
   "cell_type": "markdown",
   "metadata": {
    "colab_type": "text",
    "id": "fJtQfuNyzAl1"
   },
   "source": [
    "There were alot of missing values for Tax revenue (% of GDP). Utilized the median number startegy to fill in the missing values. "
   ]
  },
  {
   "cell_type": "code",
   "execution_count": 0,
   "metadata": {
    "colab": {
     "base_uri": "https://localhost:8080/",
     "height": 608
    },
    "colab_type": "code",
    "id": "bBNBzbkvw5rI",
    "outputId": "bd02e85e-8c7b-455e-b093-82ec9b4e4cd3"
   },
   "outputs": [
    {
     "name": "stderr",
     "output_type": "stream",
     "text": [
      "/usr/local/lib/python3.6/dist-packages/ipykernel_launcher.py:5: SettingWithCopyWarning: \n",
      "A value is trying to be set on a copy of a slice from a DataFrame.\n",
      "Try using .loc[row_indexer,col_indexer] = value instead\n",
      "\n",
      "See the caveats in the documentation: http://pandas.pydata.org/pandas-docs/stable/user_guide/indexing.html#returning-a-view-versus-a-copy\n",
      "  \"\"\"\n"
     ]
    },
    {
     "data": {
      "text/html": [
       "<div>\n",
       "<style scoped>\n",
       "    .dataframe tbody tr th:only-of-type {\n",
       "        vertical-align: middle;\n",
       "    }\n",
       "\n",
       "    .dataframe tbody tr th {\n",
       "        vertical-align: top;\n",
       "    }\n",
       "\n",
       "    .dataframe thead th {\n",
       "        text-align: right;\n",
       "    }\n",
       "</style>\n",
       "<table border=\"1\" class=\"dataframe\">\n",
       "  <thead>\n",
       "    <tr style=\"text-align: right;\">\n",
       "      <th></th>\n",
       "      <th>Country Name</th>\n",
       "      <th>Population growth (annual %)</th>\n",
       "      <th>GDP (current US$)</th>\n",
       "      <th>GDP growth (annual %)</th>\n",
       "      <th>Tax revenue (% of GDP)</th>\n",
       "      <th>Merchandise trade (% of GDP)</th>\n",
       "      <th>Services, value added (% of GDP)</th>\n",
       "      <th>Industry (including construction), value added (% of GDP)</th>\n",
       "      <th>Agriculture, forestry, and fishing, value added (% of GDP)</th>\n",
       "    </tr>\n",
       "    <tr>\n",
       "      <th>Country Code</th>\n",
       "      <th></th>\n",
       "      <th></th>\n",
       "      <th></th>\n",
       "      <th></th>\n",
       "      <th></th>\n",
       "      <th></th>\n",
       "      <th></th>\n",
       "      <th></th>\n",
       "      <th></th>\n",
       "    </tr>\n",
       "  </thead>\n",
       "  <tbody>\n",
       "    <tr>\n",
       "      <th>BLZ</th>\n",
       "      <td>Belize</td>\n",
       "      <td>1.980529</td>\n",
       "      <td>1.862615e+09</td>\n",
       "      <td>1.437289</td>\n",
       "      <td>25.970056</td>\n",
       "      <td>73.713577</td>\n",
       "      <td>62.906209</td>\n",
       "      <td>13.420147</td>\n",
       "      <td>10.829349</td>\n",
       "    </tr>\n",
       "    <tr>\n",
       "      <th>BMU</th>\n",
       "      <td>Bermuda</td>\n",
       "      <td>-1.054914</td>\n",
       "      <td>5.745000e+09</td>\n",
       "      <td>-2.511154</td>\n",
       "      <td>13.777171</td>\n",
       "      <td>18.400000</td>\n",
       "      <td>NaN</td>\n",
       "      <td>5.751221</td>\n",
       "      <td>0.745267</td>\n",
       "    </tr>\n",
       "    <tr>\n",
       "      <th>CAN</th>\n",
       "      <td>Canada</td>\n",
       "      <td>1.185926</td>\n",
       "      <td>1.646867e+12</td>\n",
       "      <td>2.978566</td>\n",
       "      <td>12.521239</td>\n",
       "      <td>52.403314</td>\n",
       "      <td>66.700000</td>\n",
       "      <td>24.811325</td>\n",
       "      <td>1.711327</td>\n",
       "    </tr>\n",
       "    <tr>\n",
       "      <th>CRI</th>\n",
       "      <td>Costa Rica</td>\n",
       "      <td>1.027676</td>\n",
       "      <td>5.817455e+10</td>\n",
       "      <td>3.397182</td>\n",
       "      <td>13.777171</td>\n",
       "      <td>42.764405</td>\n",
       "      <td>68.065397</td>\n",
       "      <td>18.993275</td>\n",
       "      <td>5.013779</td>\n",
       "    </tr>\n",
       "    <tr>\n",
       "      <th>SLV</th>\n",
       "      <td>El Salvador</td>\n",
       "      <td>0.501858</td>\n",
       "      <td>2.492797e+10</td>\n",
       "      <td>2.307939</td>\n",
       "      <td>17.790230</td>\n",
       "      <td>65.516767</td>\n",
       "      <td>60.665349</td>\n",
       "      <td>24.441982</td>\n",
       "      <td>5.042047</td>\n",
       "    </tr>\n",
       "    <tr>\n",
       "      <th>GTM</th>\n",
       "      <td>Guatemala</td>\n",
       "      <td>1.981533</td>\n",
       "      <td>7.562010e+10</td>\n",
       "      <td>2.760338</td>\n",
       "      <td>13.777171</td>\n",
       "      <td>38.865330</td>\n",
       "      <td>62.137976</td>\n",
       "      <td>25.269104</td>\n",
       "      <td>10.058150</td>\n",
       "    </tr>\n",
       "    <tr>\n",
       "      <th>HND</th>\n",
       "      <td>Honduras</td>\n",
       "      <td>1.692229</td>\n",
       "      <td>2.294018e+10</td>\n",
       "      <td>4.788027</td>\n",
       "      <td>13.777171</td>\n",
       "      <td>87.178918</td>\n",
       "      <td>56.824489</td>\n",
       "      <td>26.474779</td>\n",
       "      <td>12.844933</td>\n",
       "    </tr>\n",
       "    <tr>\n",
       "      <th>MEX</th>\n",
       "      <td>Mexico</td>\n",
       "      <td>1.163968</td>\n",
       "      <td>1.158071e+12</td>\n",
       "      <td>2.069715</td>\n",
       "      <td>13.043359</td>\n",
       "      <td>72.668601</td>\n",
       "      <td>60.366156</td>\n",
       "      <td>30.700679</td>\n",
       "      <td>3.380990</td>\n",
       "    </tr>\n",
       "    <tr>\n",
       "      <th>NIC</th>\n",
       "      <td>Nicaragua</td>\n",
       "      <td>1.274855</td>\n",
       "      <td>1.384359e+10</td>\n",
       "      <td>4.675475</td>\n",
       "      <td>16.504696</td>\n",
       "      <td>90.113930</td>\n",
       "      <td>50.131677</td>\n",
       "      <td>24.990161</td>\n",
       "      <td>15.072118</td>\n",
       "    </tr>\n",
       "    <tr>\n",
       "      <th>PAN</th>\n",
       "      <td>Panama</td>\n",
       "      <td>1.711591</td>\n",
       "      <td>6.228380e+10</td>\n",
       "      <td>5.321230</td>\n",
       "      <td>13.777171</td>\n",
       "      <td>53.034657</td>\n",
       "      <td>64.649716</td>\n",
       "      <td>29.344709</td>\n",
       "      <td>2.357435</td>\n",
       "    </tr>\n",
       "    <tr>\n",
       "      <th>USA</th>\n",
       "      <td>United States</td>\n",
       "      <td>0.640459</td>\n",
       "      <td>1.948539e+13</td>\n",
       "      <td>2.217010</td>\n",
       "      <td>11.947411</td>\n",
       "      <td>20.295966</td>\n",
       "      <td>77.374532</td>\n",
       "      <td>18.207940</td>\n",
       "      <td>0.916479</td>\n",
       "    </tr>\n",
       "  </tbody>\n",
       "</table>\n",
       "</div>"
      ],
      "text/plain": [
       "               Country Name  ...  Agriculture, forestry, and fishing, value added (% of GDP)\n",
       "Country Code                 ...                                                            \n",
       "BLZ                  Belize  ...                                          10.829349         \n",
       "BMU                 Bermuda  ...                                           0.745267         \n",
       "CAN                  Canada  ...                                           1.711327         \n",
       "CRI              Costa Rica  ...                                           5.013779         \n",
       "SLV             El Salvador  ...                                           5.042047         \n",
       "GTM               Guatemala  ...                                          10.058150         \n",
       "HND                Honduras  ...                                          12.844933         \n",
       "MEX                  Mexico  ...                                           3.380990         \n",
       "NIC               Nicaragua  ...                                          15.072118         \n",
       "PAN                  Panama  ...                                           2.357435         \n",
       "USA           United States  ...                                           0.916479         \n",
       "\n",
       "[11 rows x 9 columns]"
      ]
     },
     "execution_count": 54,
     "metadata": {
      "tags": []
     },
     "output_type": "execute_result"
    }
   ],
   "source": [
    "#filling in the missing data\n",
    "\n",
    "tax_revenue_median  = na_dataset_gdp_pop['Tax revenue (% of GDP)'].median()\n",
    "\n",
    "# filling NAs\n",
    "na_dataset_gdp_pop['Tax revenue (% of GDP)'] = na_dataset_gdp_pop['Tax revenue (% of GDP)'].fillna(tax_revenue_median)\n",
    "\n",
    "na_dataset_gdp_pop\n"
   ]
  },
  {
   "cell_type": "markdown",
   "metadata": {
    "colab_type": "text",
    "id": "HT3gCsXIoMvD"
   },
   "source": [
    "Checking if there are any interesting outliers within the columns Population growth (annual %), GDP (current US$), GDP growth (annual %), Tax revenue (% of GDP), Merchandise trade (% of GDP), Services, value added (% of GDP), Industry (including construction), value added (% of GDP),Agriculture, forestry, and fishing, value added (% of GDP)'"
   ]
  },
  {
   "cell_type": "code",
   "execution_count": 0,
   "metadata": {
    "colab": {
     "base_uri": "https://localhost:8080/",
     "height": 294
    },
    "colab_type": "code",
    "id": "sTFRItzknL4Y",
    "outputId": "44c98576-ba41-4f8d-efe4-605ddf3fe24e"
   },
   "outputs": [
    {
     "data": {
      "image/png": "[encoded data removed]",
      "text/plain": [
       "<Figure size 432x288 with 1 Axes>"
      ]
     },
     "metadata": {
      "tags": []
     },
     "output_type": "display_data"
    }
   ],
   "source": [
    "# outliers for GDP, Population \n",
    "\n",
    "\n",
    "na_dataset_gdp_pop.boxplot(column = [ 'Population growth (annual %)',\n",
    "                                      'GDP (current US$)', \n",
    "                                      'GDP growth (annual %)',\n",
    "                                      'Tax revenue (% of GDP)',\n",
    "                                      'Merchandise trade (% of GDP)',\n",
    "                                      'Services, value added (% of GDP)',\n",
    "                                      'Industry (including construction), value added (% of GDP)',\n",
    "                                      'Agriculture, forestry, and fishing, value added (% of GDP)'],\n",
    "                               vert = False,\n",
    "                               manage_ticks = True, # replacing manage_xticks\n",
    "                               patch_artist = False,\n",
    "                               meanline = True,\n",
    "                               showmeans = True, # notice the comma!\n",
    "                               )\n",
    "\n",
    "\n",
    "# adding a title\n",
    "plt.title(\"Boxplots for GDP and Population Growth\")\n",
    "\n",
    "# displaying the plot\n",
    "plt.show()\n",
    "\n",
    "\n"
   ]
  },
  {
   "cell_type": "markdown",
   "metadata": {
    "colab_type": "text",
    "id": "UyCOzIviny2L"
   },
   "source": [
    "Determined the the scale for the outliers displayed in the boxplot above was not showing enough detail. Created a outlier boxplot for population and GDP since both datasets were on the same metric"
   ]
  },
  {
   "cell_type": "code",
   "execution_count": 0,
   "metadata": {
    "colab": {
     "base_uri": "https://localhost:8080/",
     "height": 335
    },
    "colab_type": "code",
    "id": "_HSnHDe3pWrU",
    "outputId": "91051351-8a36-4381-f739-8eca3cde6b45"
   },
   "outputs": [
    {
     "name": "stderr",
     "output_type": "stream",
     "text": [
      "/usr/local/lib/python3.6/dist-packages/pandas/plotting/_matplotlib/boxplot.py:264: MatplotlibDeprecationWarning: The 'manage_xticks' parameter of boxplot() has been renamed 'manage_ticks' since Matplotlib 3.1; support for the old name will be dropped in 3.3.\n",
      "  bp = ax.boxplot(values, **kwds)\n"
     ]
    },
    {
     "data": {
      "image/png": "[encoded data removed]",
      "text/plain": [
       "<Figure size 432x288 with 1 Axes>"
      ]
     },
     "metadata": {
      "tags": []
     },
     "output_type": "display_data"
    }
   ],
   "source": [
    "na_dataset_gdp_pop.boxplot(column = ['GDP growth (annual %)',\n",
    "                                        'Population growth (annual %)'],\n",
    "                 #by            = 'Country Code',\n",
    "                 vert          = False,\n",
    "                 manage_xticks = True, # deprecated!\n",
    "                 patch_artist  = False,\n",
    "                 meanline      = True,\n",
    "                 showmeans     = True)\n",
    "\n",
    "\n",
    "# adding some stuff\n",
    "plt.title(\"GDP  and Population Growth Annual %\")\n",
    "plt.suptitle(\"\")\n",
    "\n",
    "# displaying the plot\n",
    "plt.show()"
   ]
  },
  {
   "cell_type": "markdown",
   "metadata": {
    "colab_type": "text",
    "id": "eorQyxNRqoyg"
   },
   "source": [
    "Noticed two outliers in the negatives of both population growth(annual %) and GDP growth (annual %). Investigating into which countries were the outliers and why?"
   ]
  },
  {
   "cell_type": "markdown",
   "metadata": {
    "colab_type": "text",
    "id": "yH0ESURVrQCv"
   },
   "source": [
    "Created an sns pairplot to identify which country/countries were the outliers in Population growth and GDP"
   ]
  },
  {
   "cell_type": "code",
   "execution_count": 0,
   "metadata": {
    "colab": {
     "base_uri": "https://localhost:8080/",
     "height": 241
    },
    "colab_type": "code",
    "id": "qgYgMlO_rK-C",
    "outputId": "a01bdbbc-e1cf-4a32-9d21-79e553a34070"
   },
   "outputs": [
    {
     "data": {
      "image/png": "[encoded data removed]",
      "text/plain": [
       "<Figure size 1615.62x216 with 7 Axes>"
      ]
     },
     "metadata": {
      "tags": []
     },
     "output_type": "display_data"
    }
   ],
   "source": [
    "sns.pairplot(data = na_dataset_gdp_pop,\n",
    "             x_vars = ['Population growth (annual %)',\n",
    "                       'GDP (current US$)', \n",
    "                       'Tax revenue (% of GDP)',\n",
    "                       'Merchandise trade (% of GDP)',\n",
    "                       'Services, value added (% of GDP)',\n",
    "                       'Industry (including construction), value added (% of GDP)',\n",
    "                       'Agriculture, forestry, and fishing, value added (% of GDP)' \n",
    "                       ],\n",
    "             y_vars = ['GDP growth (annual %)'],\n",
    "             hue = 'Country Name', palette = 'husl', height = 3)\n",
    "\n",
    "# formatting options and display\n",
    "plt.show()"
   ]
  },
  {
   "cell_type": "markdown",
   "metadata": {
    "colab_type": "text",
    "id": "A4igwC9FrvtB"
   },
   "source": [
    "Can be seen from the above sns pairplot that Bermuda was the outlier country with a negative population growth and gdp growth. Another area of interest was that their agriculture, forestry and fishing industry addeded less than 2% to their GDP, their industry including construction added less than 5% to the GDP and their merchandise trade added less than 25% to their GDP.\n",
    "\n",
    "A question to investigate: Where is the majority of their GDP coming from and why was it in the negatives?\n",
    "\n",
    "Researched into what their economy was dependent on:\n",
    "http://www.bermuda-online.org/economy.htm \n",
    "\n",
    "There is no data reported for how much their service industry contributed to their GDP. \n",
    "\n",
    "However, there was data pertaining to their tourism industry"
   ]
  },
  {
   "cell_type": "markdown",
   "metadata": {
    "colab_type": "text",
    "id": "MQouZvOh7W9E"
   },
   "source": [
    "Importing the dataset found on Tourism from the World Bank:\n",
    "International Tourism Receipts from the year 1995 to 2017"
   ]
  },
  {
   "cell_type": "code",
   "execution_count": 0,
   "metadata": {
    "colab": {
     "base_uri": "https://localhost:8080/",
     "height": 108,
     "resources": {
      "http://localhost:8080/nbextensions/google.colab/files.js": {
       "data": "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",
       "headers": [
        [
         "content-type",
         "application/javascript"
        ]
       ],
       "ok": true,
       "status": 200,
       "status_text": ""
      }
     }
    },
    "colab_type": "code",
    "id": "a14jULXz5lRd",
    "outputId": "a55fcdda-71b9-42de-cf38-4137986ff1f5"
   },
   "outputs": [
    {
     "data": {
      "text/html": [
       "\n",
       "     <input type=\"file\" id=\"files-64c8fee8-e0c8-45a4-a838-49a876ca0e7f\" name=\"files[]\" multiple disabled />\n",
       "     <output id=\"result-64c8fee8-e0c8-45a4-a838-49a876ca0e7f\">\n",
       "      Upload widget is only available when the cell has been executed in the\n",
       "      current browser session. Please rerun this cell to enable.\n",
       "      </output>\n",
       "      <script src=\"/nbextensions/google.colab/files.js\"></script> "
      ],
      "text/plain": [
       "<IPython.core.display.HTML object>"
      ]
     },
     "metadata": {
      "tags": []
     },
     "output_type": "display_data"
    },
    {
     "name": "stdout",
     "output_type": "stream",
     "text": [
      "Saving International Tourism Receipts.xls to International Tourism Receipts (3).xls\n"
     ]
    },
    {
     "data": {
      "text/plain": [
       "{'International Tourism Receipts.xls': b'\\xd0\\xcf\\x11\\xe0\\xa1\\xb1\\x1a\\xe1\\x00\\x00\\x00\\x00\\x00\\x00\\x00\\x00\\x00\\x00\\x00\\x00\\x00\\x00\\x00\\x00>\\x00\\x03\\x00\\xfe\\xff\\t\\x00\\x06\\x00\\x00\\x00\\x00\\x00\\x00\\x00\\x00\\x00\\x00\\x00\\x01\\x00\\x00\\x00\\x01\\x00\\x00\\x00\\x00\\x00\\x00\\x00\\x00\\x10\\x00\\x00\\x02\\x00\\x00\\x00\\x01\\x00\\x00\\x00\\xfe\\xff\\xff\\xff\\x00\\x00\\x00\\x00\\x00\\x00\\x00\\x00\\xff\\xff\\xff\\xff\\xff\\xff\\xff\\xff\\xff\\xff\\xff\\xff\\xff\\xff\\xff\\xff\\xff\\xff\\xff\\xff\\xff\\xff\\xff\\xff\\xff\\xff\\xff\\xff\\xff\\xff\\xff\\xff\\xff\\xff\\xff\\xff\\xff\\xff\\xff\\xff\\xff\\xff\\xff\\xff\\xff\\xff\\xff\\xff\\xff\\xff\\xff\\xff\\xff\\xff\\xff\\xff\\xff\\xff\\xff\\xff\\xff\\xff\\xff\\xff\\xff\\xff\\xff\\xff\\xff\\xff\\xff\\xff\\xff\\xff\\xff\\xff\\xff\\xff\\xff\\xff\\xff\\xff\\xff\\xff\\xff\\xff\\xff\\xff\\xff\\xff\\xff\\xff\\xff\\xff\\xff\\xff\\xff\\xff\\xff\\xff\\xff\\xff\\xff\\xff\\xff\\xff\\xff\\xff\\xff\\xff\\xff\\xff\\xff\\xff\\xff\\xff\\xff\\xff\\xff\\xff\\xff\\xff\\xff\\xff\\xff\\xff\\xff\\xff\\xff\\xff\\xff\\xff\\xff\\xff\\xff\\xff\\xff\\xff\\xff\\xff\\xff\\xff\\xff\\xff\\xff\\xff\\xff\\xff\\xff\\xff\\xff\\xff\\xff\\xff\\xff\\xff\\xff\\xff\\xff\\xff\\xff\\xff\\xff\\xff\\xff\\xff\\xff\\xff\\xff\\xff\\xff\\xff\\xff\\xff\\xff\\xff\\xff\\xff\\xff\\xff\\xff\\xff\\xff\\xff\\xff\\xff\\xff\\xff\\xff\\xff\\xff\\xff\\xff\\xff\\xff\\xff\\xff\\xff\\xff\\xff\\xff\\xff\\xff\\xff\\xff\\xff\\xff\\xff\\xff\\xff\\xff\\xff\\xff\\xff\\xff\\xff\\xff\\xff\\xff\\xff\\xff\\xff\\xff\\xff\\xff\\xff\\xff\\xff\\xff\\xff\\xff\\xff\\xff\\xff\\xff\\xff\\xff\\xff\\xff\\xff\\xff\\xff\\xff\\xff\\xff\\xff\\xff\\xff\\xff\\xff\\xff\\xff\\xff\\xff\\xff\\xff\\xff\\xff\\xff\\xff\\xff\\xff\\xff\\xff\\xff\\xff\\xff\\xff\\xff\\xff\\xff\\xff\\xff\\xff\\xff\\xff\\xff\\xff\\xff\\xff\\xff\\xff\\xff\\xff\\xff\\xff\\xff\\xff\\xff\\xff\\xff\\xff\\xff\\xff\\xff\\xff\\xff\\xff\\xff\\xff\\xff\\xff\\xff\\xff\\xff\\xff\\xff\\xff\\xff\\xff\\xff\\xff\\xff\\xff\\xff\\xff\\xff\\xff\\xff\\xff\\xff\\xff\\xff\\xff\\xff\\xff\\xff\\xff\\xff\\xff\\xff\\xff\\xff\\xff\\xff\\xff\\xff\\xff\\xff\\xff\\xff\\xff\\xff\\xff\\xff\\xff\\xff\\xff\\xff\\xff\\xff\\xff\\xff\\xff\\xff\\xff\\xff\\xff\\xff\\xff\\xff\\xff\\xff\\xff\\xff\\xff\\xff\\xff\\xff\\xff\\xff\\xff\\xff\\xff\\xff\\xff\\xff\\xff\\xff\\xff\\xff\\xff\\xff\\xff\\xff\\xff\\xff\\xff\\xff\\xff\\xff\\xff\\xff\\xff\\xff\\xff\\xff\\xff\\xff\\xff\\xff\\xff\\xff\\xff\\xff\\xff\\xff\\xff\\xff\\xff\\xff\\xff\\xff\\xff\\xff\\xff\\xff\\xff\\xff\\xff\\xff\\xff\\xff\\xff\\xff\\xff\\xff\\xff\\xff\\xff\\xff\\xff\\xfd\\xff\\xff\\xff\\x04\\x00\\x00\\x00\\xfe\\xff\\xff\\xff\\x05\\x00\\x00\\x00\\xfe\\xff\\xff\\xff\\xfe\\xff\\xff\\xff\\x07\\x00\\x00\\x00\\x08\\x00\\x00\\x00\\t\\x00\\x00\\x00\\n\\x00\\x00\\x00\\x0b\\x00\\x00\\x00\\x0c\\x00\\x00\\x00\\r\\x00\\x00\\x00\\x0e\\x00\\x00\\x00\\x0f\\x00\\x00\\x00\\x10\\x00\\x00\\x00\\x11\\x00\\x00\\x00\\x12\\x00\\x00\\x00\\x13\\x00\\x00\\x00\\x14\\x00\\x00\\x00\\x15\\x00\\x00\\x00\\x16\\x00\\x00\\x00\\x17\\x00\\x00\\x00\\x18\\x00\\x00\\x00\\x19\\x00\\x00\\x00\\x1a\\x00\\x00\\x00\\x1b\\x00\\x00\\x00\\x1c\\x00\\x00\\x00\\x1d\\x00\\x00\\x00\\x1e\\x00\\x00\\x00\\x1f\\x00\\x00\\x00 \\x00\\x00\\x00!\\x00\\x00\\x00\"\\x00\\x00\\x00#\\x00\\x00\\x00$\\x00\\x00\\x00%\\x00\\x00\\x00&\\x00\\x00\\x00\\'\\x00\\x00\\x00(\\x00\\x00\\x00\\xfe\\xff\\xff\\xff\\xff\\xff\\xff\\xff\\xff\\xff\\xff\\xff\\xff\\xff\\xff\\xff\\xff\\xff\\xff\\xff\\xff\\xff\\xff\\xff\\xff\\xff\\xff\\xff\\xff\\xff\\xff\\xff\\xff\\xff\\xff\\xff\\xff\\xff\\xff\\xff\\xff\\xff\\xff\\xff\\xff\\xff\\xff\\xff\\xff\\xff\\xff\\xff\\xff\\xff\\xff\\xff\\xff\\xff\\xff\\xff\\xff\\xff\\xff\\xff\\xff\\xff\\xff\\xff\\xff\\xff\\xff\\xff\\xff\\xff\\xff\\xff\\xff\\xff\\xff\\xff\\xff\\xff\\xff\\xff\\xff\\xff\\xff\\xff\\xff\\xff\\xff\\xff\\xff\\xff\\xff\\xff\\xff\\xff\\xff\\xff\\xff\\xff\\xff\\xff\\xff\\xff\\xff\\xff\\xff\\xff\\xff\\xff\\xff\\xff\\xff\\xff\\xff\\xff\\xff\\xff\\xff\\xff\\xff\\xff\\xff\\xff\\xff\\xff\\xff\\xff\\xff\\xff\\xff\\xff\\xff\\xff\\xff\\xff\\xff\\xff\\xff\\xff\\xff\\xff\\xff\\xff\\xff\\xff\\xff\\xff\\xff\\xff\\xff\\xff\\xff\\xff\\xff\\xff\\xff\\xff\\xff\\xff\\xff\\xff\\xff\\xff\\xff\\xff\\xff\\xff\\xff\\xff\\xff\\xff\\xff\\xff\\xff\\xff\\xff\\xff\\xff\\xff\\xff\\xff\\xff\\xff\\xff\\xff\\xff\\xff\\xff\\xff\\xff\\xff\\xff\\xff\\xff\\xff\\xff\\xff\\xff\\xff\\xff\\xff\\xff\\xff\\xff\\xff\\xff\\xff\\xff\\xff\\xff\\xff\\xff\\xff\\xff\\xff\\xff\\xff\\xff\\xff\\xff\\xff\\xff\\xff\\xff\\xff\\xff\\xff\\xff\\xff\\xff\\xff\\xff\\xff\\xff\\xff\\xff\\xff\\xff\\xff\\xff\\xff\\xff\\xff\\xff\\xff\\xff\\xff\\xff\\xff\\xff\\xff\\xff\\xff\\xff\\xff\\xff\\xff\\xff\\xff\\xff\\xff\\xff\\xff\\xff\\xff\\xff\\xff\\xff\\xff\\xff\\xff\\xff\\xff\\xff\\xff\\xff\\xff\\xff\\xff\\xff\\xff\\xff\\xff\\xff\\xff\\xff\\xff\\xff\\xff\\xff\\xff\\xff\\xff\\xff\\xff\\xff\\xff\\xff\\xff\\xff\\xff\\xff\\xff\\xff\\xff\\xff\\xff\\xff\\xff\\xff\\xff\\xff\\xff\\xff\\xff\\xff\\xff\\xff\\xff\\xff\\xff\\xff\\xff\\xff\\xff\\xff\\xff\\xff\\xff\\xff\\xff\\xff\\xff\\xff\\xff\\xff\\xff\\xff\\xff\\xff\\xff\\xff\\xff\\xff\\xff\\xff\\xff\\xff\\xffR\\x00o\\x00o\\x00t\\x00 \\x00E\\x00n\\x00t\\x00r\\x00y\\x00\\x00\\x00\\x00\\x00\\x00\\x00\\x00\\x00\\x00\\x00\\x00\\x00\\x00\\x00\\x00\\x00\\x00\\x00\\x00\\x00\\x00\\x00\\x00\\x00\\x00\\x00\\x00\\x00\\x00\\x00\\x00\\x00\\x00\\x00\\x00\\x00\\x00\\x00\\x00\\x00\\x00\\x00\\x00\\x00\\x16\\x00\\x05\\x00\\xff\\xff\\xff\\xff\\xff\\xff\\xff\\xff\\x01\\x00\\x00\\x00 \\x08\\x02\\x00\\x00\\x00\\x00\\x00\\xc0\\x00\\x00\\x00\\x00\\x00\\x00F\\x00\\x00\\x00\\x00\\x00\\x00\\x00\\x00\\x00\\x00\\x00\\x00pq k\\x8d\\x92\\xd5\\x01\\x03\\x00\\x00\\x00\\x80\\x02\\x00\\x00\\x00\\x00\\x00\\x00W\\x00o\\x00r\\x00k\\x00b\\x00o\\x00o\\x00k\\x00\\x00\\x00\\x00\\x00\\x00\\x00\\x00\\x00\\x00\\x00\\x00\\x00\\x00\\x00\\x00\\x00\\x00\\x00\\x00\\x00\\x00\\x00\\x00\\x00\\x00\\x00\\x00\\x00\\x00\\x00\\x00\\x00\\x00\\x00\\x00\\x00\\x00\\x00\\x00\\x00\\x00\\x00\\x00\\x00\\x00\\x00\\x00\\x00\\x12\\x00\\x02\\x01\\x02\\x00\\x00\\x00\\x03\\x00\\x00\\x00\\xff\\xff\\xff\\xff\\x00\\x00\\x00\\x00\\x00\\x00\\x00\\x00\\x00\\x00\\x00\\x00\\x00\\x00\\x00\\x00\\x00\\x00\\x00\\x00\\x00\\x00\\x00\\x00\\x00\\x00\\x00\\x00\\x00\\x00\\x00\\x00\\x00\\x00\\x00\\x00\\x06\\x00\\x00\\x00\\xa8D\\x00\\x00\\x00\\x00\\x00\\x00\\x01\\x00C\\x00o\\x00m\\x00p\\x00O\\x00b\\x00j\\x00\\x00\\x00\\x00\\x00\\x00\\x00\\x00\\x00\\x00\\x00\\x00\\x00\\x00\\x00\\x00\\x00\\x00\\x00\\x00\\x00\\x00\\x00\\x00\\x00\\x00\\x00\\x00\\x00\\x00\\x00\\x00\\x00\\x00\\x00\\x00\\x00\\x00\\x00\\x00\\x00\\x00\\x00\\x00\\x00\\x00\\x00\\x00\\x00\\x12\\x00\\x02\\x00\\xff\\xff\\xff\\xff\\xff\\xff\\xff\\xff\\xff\\xff\\xff\\xff\\x00\\x00\\x00\\x00\\x00\\x00\\x00\\x00\\x00\\x00\\x00\\x00\\x00\\x00\\x00\\x00\\x00\\x00\\x00\\x00\\x00\\x00\\x00\\x00\\x00\\x00\\x00\\x00\\x00\\x00\\x00\\x00\\x00\\x00\\x00\\x00\\x00\\x00\\x00\\x00f\\x00\\x00\\x00\\x00\\x00\\x00\\x00\\x05\\x00S\\x00u\\x00m\\x00m\\x00a\\x00r\\x00y\\x00I\\x00n\\x00f\\x00o\\x00r\\x00m\\x00a\\x00t\\x00i\\x00o\\x00n\\x00\\x00\\x00\\x00\\x00\\x00\\x00\\x00\\x00\\x00\\x00\\x00\\x00\\x00\\x00\\x00\\x00\\x00\\x00\\x00\\x00\\x00\\x00\\x00\\x00\\x00\\x00(\\x00\\x02\\x01\\xff\\xff\\xff\\xff\\x04\\x00\\x00\\x00\\xff\\xff\\xff\\xff\\x00\\x00\\x00\\x00\\x00\\x00\\x00\\x00\\x00\\x00\\x00\\x00\\x00\\x00\\x00\\x00\\x00\\x00\\x00\\x00\\x00\\x00\\x00\\x00\\x00\\x00\\x00\\x00\\x00\\x00\\x00\\x00\\x00\\x00\\x00\\x00\\x02\\x00\\x00\\x00\\xd4\\x00\\x00\\x00\\x00\\x00\\x00\\x00\\x01\\x00\\x00\\x00\\xfe\\xff\\xff\\xff\\x03\\x00\\x00\\x00\\x04\\x00\\x00\\x00\\x05\\x00\\x00\\x00\\xfe\\xff\\xff\\xff\\x07\\x00\\x00\\x00\\x08\\x00\\x00\\x00\\t\\x00\\x00\\x00\\xfe\\xff\\xff\\xff\\xff\\xff\\xff\\xff\\xff\\xff\\xff\\xff\\xff\\xff\\xff\\xff\\xff\\xff\\xff\\xff\\xff\\xff\\xff\\xff\\xff\\xff\\xff\\xff\\xff\\xff\\xff\\xff\\xff\\xff\\xff\\xff\\xff\\xff\\xff\\xff\\xff\\xff\\xff\\xff\\xff\\xff\\xff\\xff\\xff\\xff\\xff\\xff\\xff\\xff\\xff\\xff\\xff\\xff\\xff\\xff\\xff\\xff\\xff\\xff\\xff\\xff\\xff\\xff\\xff\\xff\\xff\\xff\\xff\\xff\\xff\\xff\\xff\\xff\\xff\\xff\\xff\\xff\\xff\\xff\\xff\\xff\\xff\\xff\\xff\\xff\\xff\\xff\\xff\\xff\\xff\\xff\\xff\\xff\\xff\\xff\\xff\\xff\\xff\\xff\\xff\\xff\\xff\\xff\\xff\\xff\\xff\\xff\\xff\\xff\\xff\\xff\\xff\\xff\\xff\\xff\\xff\\xff\\xff\\xff\\xff\\xff\\xff\\xff\\xff\\xff\\xff\\xff\\xff\\xff\\xff\\xff\\xff\\xff\\xff\\xff\\xff\\xff\\xff\\xff\\xff\\xff\\xff\\xff\\xff\\xff\\xff\\xff\\xff\\xff\\xff\\xff\\xff\\xff\\xff\\xff\\xff\\xff\\xff\\xff\\xff\\xff\\xff\\xff\\xff\\xff\\xff\\xff\\xff\\xff\\xff\\xff\\xff\\xff\\xff\\xff\\xff\\xff\\xff\\xff\\xff\\xff\\xff\\xff\\xff\\xff\\xff\\xff\\xff\\xff\\xff\\xff\\xff\\xff\\xff\\xff\\xff\\xff\\xff\\xff\\xff\\xff\\xff\\xff\\xff\\xff\\xff\\xff\\xff\\xff\\xff\\xff\\xff\\xff\\xff\\xff\\xff\\xff\\xff\\xff\\xff\\xff\\xff\\xff\\xff\\xff\\xff\\xff\\xff\\xff\\xff\\xff\\xff\\xff\\xff\\xff\\xff\\xff\\xff\\xff\\xff\\xff\\xff\\xff\\xff\\xff\\xff\\xff\\xff\\xff\\xff\\xff\\xff\\xff\\xff\\xff\\xff\\xff\\xff\\xff\\xff\\xff\\xff\\xff\\xff\\xff\\xff\\xff\\xff\\xff\\xff\\xff\\xff\\xff\\xff\\xff\\xff\\xff\\xff\\xff\\xff\\xff\\xff\\xff\\xff\\xff\\xff\\xff\\xff\\xff\\xff\\xff\\xff\\xff\\xff\\xff\\xff\\xff\\xff\\xff\\xff\\xff\\xff\\xff\\xff\\xff\\xff\\xff\\xff\\xff\\xff\\xff\\xff\\xff\\xff\\xff\\xff\\xff\\xff\\xff\\xff\\xff\\xff\\xff\\xff\\xff\\xff\\xff\\xff\\xff\\xff\\xff\\xff\\xff\\xff\\xff\\xff\\xff\\xff\\xff\\xff\\xff\\xff\\xff\\xff\\xff\\xff\\xff\\xff\\xff\\xff\\xff\\xff\\xff\\xff\\xff\\xff\\xff\\xff\\xff\\xff\\xff\\xff\\xff\\xff\\xff\\xff\\xff\\xff\\xff\\xff\\xff\\xff\\xff\\xff\\xff\\xff\\xff\\xff\\xff\\xff\\xff\\xff\\xff\\xff\\xff\\xff\\xff\\xff\\xff\\xff\\xff\\xff\\xff\\xff\\xff\\xff\\xff\\xff\\xff\\xff\\xff\\xff\\xff\\xff\\xff\\xff\\xff\\xff\\xff\\xff\\xff\\xff\\xff\\xff\\xff\\xff\\xff\\xff\\xff\\xff\\xff\\xff\\xff\\xff\\xff\\xff\\xff\\xff\\xff\\xff\\xff\\xff\\xff\\xff\\xff\\xff\\xff\\xff\\xff\\xff\\xff\\xff\\xff\\xff\\xff\\xff\\xff\\xff\\xff\\xff\\xff\\xff\\xff\\xff\\xff\\xff\\xff\\xff\\xff\\xff\\xff\\xff\\xff\\xff\\xff\\xff\\xff\\xff\\xff\\xff\\xff\\x01\\x00\\xfe\\xff\\x03\\n\\x00\\x00\\xff\\xff\\xff\\xff \\x08\\x02\\x00\\x00\\x00\\x00\\x00\\xc0\\x00\\x00\\x00\\x00\\x00\\x00F \\x00\\x00\\x00\\x1eMicrosoft Excel 2003 Worksheet\\x00\\x00\\x00\\x00\\x00\\x0e\\x00\\x00\\x00Excel.Sheet.8\\x00\\xf49\\xb2q\\x00\\x00\\x00\\x00\\x00\\x00\\x00\\x00\\x00\\x00\\x00\\x00\\x00\\x00\\x00\\x00\\x00\\x00\\x00\\x00\\x00\\x00\\x00\\x00\\x00\\x00\\x00\\x00\\x00\\x00\\x00\\x00\\x00\\x00\\x00\\x00\\x00\\x00\\xfe\\xff\\x00\\x00\\n\\x0e\\x01\\x00\\x00\\x00\\x00\\x00\\x00\\x00\\x00\\x00\\x00\\x00\\x00\\x00\\x00\\x00\\x00\\x00\\x01\\x00\\x00\\x00\\xe0\\x85\\x9f\\xf2\\xf9Oh\\x10\\xab\\x91\\x08\\x00+\\'\\xb3\\xd90\\x00\\x00\\x00\\xa4\\x00\\x00\\x00\\x06\\x00\\x00\\x00\\x01\\x00\\x00\\x008\\x00\\x00\\x00\\x08\\x00\\x00\\x00@\\x00\\x00\\x00\\x12\\x00\\x00\\x00`\\x00\\x00\\x00\\x0c\\x00\\x00\\x00\\x84\\x00\\x00\\x00\\r\\x00\\x00\\x00\\x90\\x00\\x00\\x00\\x13\\x00\\x00\\x00\\x9c\\x00\\x00\\x00\\x02\\x00\\x00\\x00\\x10\\'\\x00\\x00\\x1e\\x00\\x00\\x00\\x18\\x00\\x00\\x00Microsoft Office User\\x00\\x00\\x00\\x1e\\x00\\x00\\x00\\x1c\\x00\\x00\\x00Microsoft Macintosh Excel\\x00\\x00\\x00@\\x00\\x00\\x00\\x80\\x91\\x8c\\xf2\\x82\\x92\\xd5\\x01@\\x00\\x00\\x00\\x00P\\xf8j\\x8d\\x92\\xd5\\x01\\x03\\x00\\x00\\x00\\x00\\x00\\x00\\x00\\x00\\x00\\x00\\x00\\x00\\x00\\x00\\x00\\x00\\x00\\x00\\x00\\x00\\x00\\x00\\x00\\x00\\x00\\x00\\x00\\x00\\x00\\x00\\x00\\x00\\x00\\x00\\x00\\x00\\x00\\x00\\x00\\x00\\x00\\x00\\x00\\x00\\x00\\x00\\x00\\x00\\x00\\x00\\x00\\xfe\\xff\\x00\\x00\\n\\x0e\\x01\\x00\\x00\\x00\\x00\\x00\\x00\\x00\\x00\\x00\\x00\\x00\\x00\\x00\\x00\\x00\\x00\\x00\\x01\\x00\\x00\\x00\\x02\\xd5\\xcd\\xd5\\x9c.\\x1b\\x10\\x93\\x97\\x08\\x00+,\\xf9\\xae0\\x00\\x00\\x00\\xac\\x00\\x00\\x00\\x08\\x00\\x00\\x00\\x01\\x00\\x00\\x00H\\x00\\x00\\x00\\x17\\x00\\x00\\x00P\\x00\\x00\\x00\\x0b\\x00\\x00\\x00X\\x00\\x00\\x00\\x10\\x00\\x00\\x00`\\x00\\x00\\x00\\x13\\x00\\x00\\x00h\\x00\\x00\\x00\\x16\\x00\\x00\\x00p\\x00\\x00\\x00\\r\\x00\\x00\\x00x\\x00\\x00\\x00\\x0c\\x00\\x00\\x00\\x89\\x00\\x00\\x00\\x02\\x00\\x00\\x00\\x10\\'\\x00\\x00\\x05\\x00D\\x00o\\x00c\\x00u\\x00m\\x00e\\x00n\\x00t\\x00S\\x00u\\x00m\\x00m\\x00a\\x00r\\x00y\\x00I\\x00n\\x00f\\x00o\\x00r\\x00m\\x00a\\x00t\\x00i\\x00o\\x00n\\x00\\x00\\x00\\x00\\x00\\x00\\x00\\x00\\x00\\x00\\x008\\x00\\x02\\x00\\xff\\xff\\xff\\xff\\xff\\xff\\xff\\xff\\xff\\xff\\xff\\xff\\x00\\x00\\x00\\x00\\x00\\x00\\x00\\x00\\x00\\x00\\x00\\x00\\x00\\x00\\x00\\x00\\x00\\x00\\x00\\x00\\x00\\x00\\x00\\x00\\x00\\x00\\x00\\x00\\x00\\x00\\x00\\x00\\x00\\x00\\x00\\x00\\x06\\x00\\x00\\x00\\xdc\\x00\\x00\\x00\\x00\\x00\\x00\\x00\\x00\\x00\\x00\\x00\\x00\\x00\\x00\\x00\\x00\\x00\\x00\\x00\\x00\\x00\\x00\\x00\\x00\\x00\\x00\\x00\\x00\\x00\\x00\\x00\\x00\\x00\\x00\\x00\\x00\\x00\\x00\\x00\\x00\\x00\\x00\\x00\\x00\\x00\\x00\\x00\\x00\\x00\\x00\\x00\\x00\\x00\\x00\\x00\\x00\\x00\\x00\\x00\\x00\\x00\\x00\\x00\\x00\\x00\\x00\\x00\\x00\\x00\\x00\\x00\\x00\\x00\\x00\\x00\\xff\\xff\\xff\\xff\\xff\\xff\\xff\\xff\\xff\\xff\\xff\\xff\\x00\\x00\\x00\\x00\\x00\\x00\\x00\\x00\\x00\\x00\\x00\\x00\\x00\\x00\\x00\\x00\\x00\\x00\\x00\\x00\\x00\\x00\\x00\\x00\\x00\\x00\\x00\\x00\\x00\\x00\\x00\\x00\\x00\\x00\\x00\\x00\\x00\\x00\\x00\\x00\\x00\\x00\\x00\\x00\\x00\\x00\\x00\\x00\\x00\\x00\\x00\\x00\\x00\\x00\\x00\\x00\\x00\\x00\\x00\\x00\\x00\\x00\\x00\\x00\\x00\\x00\\x00\\x00\\x00\\x00\\x00\\x00\\x00\\x00\\x00\\x00\\x00\\x00\\x00\\x00\\x00\\x00\\x00\\x00\\x00\\x00\\x00\\x00\\x00\\x00\\x00\\x00\\x00\\x00\\x00\\x00\\x00\\x00\\x00\\x00\\x00\\x00\\x00\\x00\\x00\\x00\\x00\\x00\\x00\\x00\\x00\\x00\\x00\\x00\\x00\\x00\\xff\\xff\\xff\\xff\\xff\\xff\\xff\\xff\\xff\\xff\\xff\\xff\\x00\\x00\\x00\\x00\\x00\\x00\\x00\\x00\\x00\\x00\\x00\\x00\\x00\\x00\\x00\\x00\\x00\\x00\\x00\\x00\\x00\\x00\\x00\\x00\\x00\\x00\\x00\\x00\\x00\\x00\\x00\\x00\\x00\\x00\\x00\\x00\\x00\\x00\\x00\\x00\\x00\\x00\\x00\\x00\\x00\\x00\\x00\\x00\\x00\\x00\\x00\\x00\\x00\\x00\\x00\\x00\\x00\\x00\\x00\\x00\\x00\\x00\\x00\\x00\\x00\\x00\\x00\\x00\\x00\\x00\\x00\\x00\\x00\\x00\\x00\\x00\\x00\\x00\\x00\\x00\\x00\\x00\\x00\\x00\\x00\\x00\\x00\\x00\\x00\\x00\\x00\\x00\\x00\\x00\\x00\\x00\\x00\\x00\\x00\\x00\\x00\\x00\\x00\\x00\\x00\\x00\\x00\\x00\\x00\\x00\\x00\\x00\\x00\\x00\\x00\\x00\\xff\\xff\\xff\\xff\\xff\\xff\\xff\\xff\\xff\\xff\\xff\\xff\\x00\\x00\\x00\\x00\\x00\\x00\\x00\\x00\\x00\\x00\\x00\\x00\\x00\\x00\\x00\\x00\\x00\\x00\\x00\\x00\\x00\\x00\\x00\\x00\\x00\\x00\\x00\\x00\\x00\\x00\\x00\\x00\\x00\\x00\\x00\\x00\\x00\\x00\\x00\\x00\\x00\\x00\\x00\\x00\\x00\\x00\\x00\\x00\\x03\\x00\\x00\\x00\\x00\\x00\\x10\\x00\\x0b\\x00\\x00\\x00\\x00\\x00\\x00\\x00\\x0b\\x00\\x00\\x00\\x00\\x00\\x00\\x00\\x0b\\x00\\x00\\x00\\x00\\x00\\x00\\x00\\x0b\\x00\\x00\\x00\\x00\\x00\\x00\\x00\\x1e\\x10\\x00\\x00\\x01\\x00\\x00\\x00\\x05\\x00\\x00\\x00Data\\x00\\x0c\\x10\\x00\\x00\\x02\\x00\\x00\\x00\\x1e\\x00\\x00\\x00\\x0b\\x00\\x00\\x00Worksheets\\x00\\x03\\x00\\x00\\x00\\x01\\x00\\x00\\x00\\x00\\x00\\x00\\x00\\x00\\x00\\x00\\x00\\x00\\x00\\x00\\x00\\x00\\x00\\x00\\x00\\x00\\x00\\x00\\x00\\x00\\x00\\x00\\x00\\x00\\x00\\x00\\x00\\x00\\x00\\x00\\x00\\x00\\x00\\x00\\x00\\x00\\x00\\x00\\x00\\x00\\x00\\x00\\x00\\x00\\x00\\x00\\x00\\x00\\x00\\x00\\x00\\x00\\x00\\x00\\x00\\x00\\x00\\x00\\x00\\x00\\x00\\x00\\x00\\x00\\x00\\x00\\x00\\x00\\x00\\x00\\x00\\x00\\x00\\x00\\x00\\x00\\x00\\x00\\x00\\x00\\x00\\x00\\x00\\x00\\x00\\x00\\x00\\x00\\x00\\x00\\x00\\x00\\x00\\x00\\x00\\x00\\x00\\x00\\x00\\x00\\x00\\x00\\x00\\x00\\x00\\x00\\x00\\x00\\x00\\x00\\x00\\x00\\x00\\x00\\x00\\x00\\x00\\x00\\x00\\x00\\x00\\x00\\x00\\x00\\x00\\x00\\x00\\x00\\x00\\x00\\x00\\x00\\x00\\x00\\x00\\x00\\x00\\x00\\x00\\x00\\x00\\x00\\x00\\x00\\x00\\x00\\x00\\x00\\x00\\x00\\x00\\x00\\x00\\x00\\x00\\x00\\x00\\x00\\x00\\x00\\x00\\x00\\x00\\x00\\x00\\x00\\x00\\x00\\x00\\x00\\x00\\x00\\x00\\x00\\x00\\x00\\x00\\x00\\x00\\x00\\x00\\x00\\x00\\x00\\x00\\x00\\x00\\x00\\x00\\x00\\x00\\x00\\x00\\x00\\x00\\x00\\x00\\x00\\x00\\x00\\x00\\x00\\x00\\x00\\x00\\x00\\x00\\x00\\x00\\x00\\x00\\x00\\x00\\x00\\x00\\x00\\x00\\x00\\x00\\x00\\x00\\x00\\x00\\x00\\x00\\x00\\x00\\x00\\x00\\x00\\x00\\x00\\x00\\x00\\x00\\x00\\x00\\x00\\x00\\x00\\x00\\x00\\x00\\x00\\x00\\x00\\x00\\x00\\x00\\x00\\x00\\x00\\x00\\x00\\x00\\x00\\x00\\x00\\x00\\x00\\x00\\x00\\x00\\x00\\x00\\x00\\x00\\x00\\x00\\x00\\x00\\x00\\x00\\x00\\x00\\x00\\x00\\x00\\x00\\x00\\x00\\x00\\x00\\x00\\x00\\x00\\x00\\x00\\x00\\x00\\x00\\x00\\x00\\x00\\x00\\x00\\x00\\x00\\x00\\x00\\x00\\x00\\x00\\x00\\x00\\x00\\x00\\x00\\x00\\x00\\x00\\x00\\x00\\x00\\x00\\x00\\x00\\x00\\x00\\x00\\x00\\x00\\x00\\x00\\x00\\x00\\x00\\x00\\x00\\x00\\x00\\x00\\x00\\x00\\x00\\x00\\x00\\x00\\x00\\x00\\x00\\x00\\x00\\x00\\x00\\x00\\x00\\x00\\x00\\x00\\x00\\x00\\x00\\x00\\x00\\x00\\x00\\x00\\x00\\x00\\x00\\x00\\x00\\x00\\x00\\x00\\x00\\x00\\x00\\x00\\x00\\x00\\x00\\x00\\x00\\x00\\x00\\x00\\x00\\x00\\x00\\x00\\x00\\x00\\x00\\x00\\x00\\x00\\x00\\x00\\x00\\x00\\x00\\x00\\x00\\x00\\x00\\x00\\x00\\x00\\x00\\x00\\x00\\x00\\x00\\x00\\x00\\x00\\x00\\x00\\x00\\x00\\x00\\x00\\x00\\x00\\x00\\x00\\x00\\t\\x08\\x10\\x00\\x00\\x06\\x05\\x00ZO\\xcd\\x07\\xc9\\x00\\x02\\x00\\x06\\x08\\x00\\x00\\xe1\\x00\\x02\\x00\\xb0\\x04\\xc1\\x00\\x02\\x00\\x00\\x00\\xe2\\x00\\x00\\x00\\\\\\x00p\\x00\\x15\\x00\\x00Microsoft Office User                                                                                        B\\x00\\x02\\x00\\xb0\\x04a\\x01\\x02\\x00\\x00\\x00\\xc0\\x01\\x00\\x00=\\x01\\x02\\x00\\x01\\x00\\x9c\\x00\\x02\\x00\\x11\\x00\\x19\\x00\\x02\\x00\\x00\\x00\\x12\\x00\\x02\\x00\\x00\\x00\\x13\\x00\\x02\\x00\\x00\\x00\\xaf\\x01\\x02\\x00\\x00\\x00\\xbc\\x01\\x02\\x00\\x00\\x00=\\x00\\x12\\x00\\xff\\x7f\\xff\\x7f\\x80pPF8\\x00\\x00\\x00\\x00\\x00\\x01\\x00X\\x02@\\x00\\x02\\x00\\x00\\x00\\x8d\\x00\\x02\\x00\\x00\\x00\"\\x00\\x02\\x00\\x00\\x00\\x0e\\x00\\x02\\x00\\x01\\x00\\xb7\\x01\\x02\\x00\\x00\\x00\\xda\\x00\\x02\\x00\\x00\\x001\\x00\\x1e\\x00\\xdc\\x00\\x00\\x00\\x08\\x00\\x90\\x01\\x00\\x00\\x00\\x02\\x00\\x00\\x07\\x01C\\x00a\\x00l\\x00i\\x00b\\x00r\\x00i\\x001\\x00\\x1e\\x00\\xdc\\x00\\x00\\x00\\xff\\x7f\\x90\\x01\\x00\\x00\\x00\\x00\\x00\\x00\\x07\\x01C\\x00a\\x00l\\x00i\\x00b\\x00r\\x00i\\x001\\x00\\x1e\\x00\\xdc\\x00\\x00\\x00\\xff\\x7f\\x90\\x01\\x00\\x00\\x00\\x00\\x00\\x00\\x07\\x01C\\x00a\\x00l\\x00i\\x00b\\x00r\\x00i\\x001\\x00\\x1e\\x00\\xdc\\x00\\x00\\x00\\xff\\x7f\\x90\\x01\\x00\\x00\\x00\\x00\\x00\\x00\\x07\\x01C\\x00a\\x00l\\x00i\\x00b\\x00r\\x00i\\x001\\x00\\x1e\\x00\\xdc\\x00\\x00\\x00\\x08\\x00\\x90\\x01\\x00\\x00\\x00\\x02\\x00\\x00\\x07\\x01C\\x00a\\x00l\\x00i\\x00b\\x00r\\x00i\\x001\\x00\\x1e\\x00\\xdc\\x00\\x00\\x00\\t\\x00\\x90\\x01\\x00\\x00\\x00\\x02\\x00\\x00\\x07\\x01C\\x00a\\x00l\\x00i\\x00b\\x00r\\x00i\\x001\\x00\\x1e\\x00\\x04\\x01\\x01\\x006\\x00\\xbc\\x02\\x00\\x00\\x00\\x02\\x00\\x00\\x07\\x01C\\x00a\\x00l\\x00i\\x00b\\x00r\\x00i\\x001\\x00\\x1e\\x00\\xdc\\x00\\x00\\x00>\\x00\\x90\\x01\\x00\\x00\\x00\\x02\\x00\\x00\\x07\\x01C\\x00a\\x00l\\x00i\\x00b\\x00r\\x00i\\x001\\x00\\x1e\\x00\\xdc\\x00\\x01\\x00\\t\\x00\\xbc\\x02\\x00\\x00\\x00\\x02\\x00\\x00\\x07\\x01C\\x00a\\x00l\\x00i\\x00b\\x00r\\x00i\\x001\\x00\\x1e\\x00\\xdc\\x00\\x00\\x00\\x14\\x00\\x90\\x01\\x00\\x00\\x00\\x02\\x00\\x00\\x07\\x01C\\x00a\\x00l\\x00i\\x00b\\x00r\\x00i\\x001\\x00\\x1e\\x00\\xdc\\x00\\x00\\x00\\x11\\x00\\x90\\x01\\x00\\x00\\x00\\x02\\x00\\x00\\x07\\x01C\\x00a\\x00l\\x00i\\x00b\\x00r\\x00i\\x001\\x00\\x1e\\x00\\xdc\\x00\\x01\\x00?\\x00\\xbc\\x02\\x00\\x00\\x00\\x02\\x00\\x00\\x07\\x01C\\x00a\\x00l\\x00i\\x00b\\x00r\\x00i\\x001\\x00*\\x00h\\x01\\x01\\x006\\x00\\xbc\\x02\\x00\\x00\\x00\\x01\\x00\\x00\\r\\x01C\\x00a\\x00l\\x00i\\x00b\\x00r\\x00i\\x00 \\x00L\\x00i\\x00g\\x00h\\x00t\\x001\\x00\\x1e\\x00\\xdc\\x00\\x01\\x004\\x00\\xbc\\x02\\x00\\x00\\x00\\x02\\x00\\x00\\x07\\x01C\\x00a\\x00l\\x00i\\x00b\\x00r\\x00i\\x001\\x00\\x1e\\x00\\xdc\\x00\\x01\\x006\\x00\\xbc\\x02\\x00\\x00\\x00\\x02\\x00\\x00\\x07\\x01C\\x00a\\x00l\\x00i\\x00b\\x00r\\x00i\\x001\\x00\\x1e\\x00\\xdc\\x00\\x01\\x00\\x08\\x00\\xbc\\x02\\x00\\x00\\x00\\x02\\x00\\x00\\x07\\x01C\\x00a\\x00l\\x00i\\x00b\\x00r\\x00i\\x001\\x00\\x1e\\x00\\xdc\\x00\\x00\\x00\\n\\x00\\x90\\x01\\x00\\x00\\x00\\x02\\x00\\x00\\x07\\x01C\\x00a\\x00l\\x00i\\x00b\\x00r\\x00i\\x001\\x00\\x1e\\x00\\xdc\\x00\\x00\\x00<\\x00\\x90\\x01\\x00\\x00\\x00\\x02\\x00\\x00\\x07\\x01C\\x00a\\x00l\\x00i\\x00b\\x00r\\x00i\\x001\\x00\\x1e\\x00,\\x01\\x01\\x006\\x00\\xbc\\x02\\x00\\x00\\x00\\x02\\x00\\x00\\x07\\x01C\\x00a\\x00l\\x00i\\x00b\\x00r\\x00i\\x001\\x00\\x1e\\x00\\xdc\\x00\\x02\\x00\\x17\\x00\\x90\\x01\\x00\\x00\\x00\\x02\\x00\\x00\\x07\\x01C\\x00a\\x00l\\x00i\\x00b\\x00r\\x00i\\x001\\x00\\x1e\\x00\\xdc\\x00\\x00\\x004\\x00\\x90\\x01\\x00\\x00\\x00\\x02\\x00\\x00\\x07\\x01C\\x00a\\x00l\\x00i\\x00b\\x00r\\x00i\\x00\\x1e\\x04\\x1c\\x00\\x05\\x00\\x17\\x00\\x00\"$\"#,##0_);\\\\(\"$\"#,##0\\\\)\\x1e\\x04!\\x00\\x06\\x00\\x1c\\x00\\x00\"$\"#,##0_);[Red]\\\\(\"$\"#,##0\\\\)\\x1e\\x04\"\\x00\\x07\\x00\\x1d\\x00\\x00\"$\"#,##0.00_);\\\\(\"$\"#,##0.00\\\\)\\x1e\\x04\\'\\x00\\x08\\x00\"\\x00\\x00\"$\"#,##0.00_);[Red]\\\\(\"$\"#,##0.00\\\\)\\x1e\\x047\\x00*\\x002\\x00\\x00_(\"$\"* #,##0_);_(\"$\"* \\\\(#,##0\\\\);_(\"$\"* \"-\"_);_(@_)\\x1e\\x04.\\x00)\\x00)\\x00\\x00_(* #,##0_);_(* \\\\(#,##0\\\\);_(* \"-\"_);_(@_)\\x1e\\x04?\\x00,\\x00:\\x00\\x00_(\"$\"* #,##0.00_);_(\"$\"* \\\\(#,##0.00\\\\);_(\"$\"* \"-\"??_);_(@_)\\x1e\\x046\\x00+\\x001\\x00\\x00_(* #,##0.00_);_(* \\\\(#,##0.00\\\\);_(* \"-\"??_);_(@_)\\xe0\\x00\\x14\\x00\\x00\\x00\\x00\\x00\\xf5\\xff \\x00\\x00\\x00\\x00\\x00\\x00\\x00\\x00\\x00\\x00\\x00\\xc0 \\xe0\\x00\\x14\\x00\\x05\\x00\\x00\\x00\\xf5\\xff \\x00\\x00\\xf4\\x00\\x00\\x00\\x00\\x00\\x00\\x00\\x00\\xc0 \\xe0\\x00\\x14\\x00\\x05\\x00\\x00\\x00\\xf5\\xff \\x00\\x00\\xf4\\x00\\x00\\x00\\x00\\x00\\x00\\x00\\x00\\xc0 \\xe0\\x00\\x14\\x00\\x05\\x00\\x00\\x00\\xf5\\xff \\x00\\x00\\xf4\\x00\\x00\\x00\\x00\\x00\\x00\\x00\\x00\\xc0 \\xe0\\x00\\x14\\x00\\x05\\x00\\x00\\x00\\xf5\\xff \\x00\\x00\\xf4\\x00\\x00\\x00\\x00\\x00\\x00\\x00\\x00\\xc0 \\xe0\\x00\\x14\\x00\\x05\\x00\\x00\\x00\\xf5\\xff \\x00\\x00\\xf4\\x00\\x00\\x00\\x00\\x00\\x00\\x00\\x00\\xc0 \\xe0\\x00\\x14\\x00\\x05\\x00\\x00\\x00\\xf5\\xff \\x00\\x00\\xf4\\x00\\x00\\x00\\x00\\x00\\x00\\x00\\x00\\xc0 \\xe0\\x00\\x14\\x00\\x05\\x00\\x00\\x00\\xf5\\xff \\x00\\x00\\xf4\\x00\\x00\\x00\\x00\\x00\\x00\\x00\\x00\\xc0 \\xe0\\x00\\x14\\x00\\x05\\x00\\x00\\x00\\xf5\\xff \\x00\\x00\\xf4\\x00\\x00\\x00\\x00\\x00\\x00\\x00\\x00\\xc0 \\xe0\\x00\\x14\\x00\\x05\\x00\\x00\\x00\\xf5\\xff \\x00\\x00\\xf4\\x00\\x00\\x00\\x00\\x00\\x00\\x00\\x00\\xc0 \\xe0\\x00\\x14\\x00\\x05\\x00\\x00\\x00\\xf5\\xff \\x00\\x00\\xf4\\x00\\x00\\x00\\x00\\x00\\x00\\x00\\x00\\xc0 \\xe0\\x00\\x14\\x00\\x05\\x00\\x00\\x00\\xf5\\xff \\x00\\x00\\xf4\\x00\\x00\\x00\\x00\\x00\\x00\\x00\\x00\\xc0 \\xe0\\x00\\x14\\x00\\x05\\x00\\x00\\x00\\xf5\\xff \\x00\\x00\\xf4\\x00\\x00\\x00\\x00\\x00\\x00\\x00\\x00\\xc0 \\xe0\\x00\\x14\\x00\\x05\\x00\\x00\\x00\\xf5\\xff \\x00\\x00\\xf4\\x00\\x00\\x00\\x00\\x00\\x00\\x00\\x00\\xc0 \\xe0\\x00\\x14\\x00\\x05\\x00\\x00\\x00\\xf5\\xff \\x00\\x00\\xf4\\x00\\x00\\x00\\x00\\x00\\x00\\x00\\x00\\xc0 \\xe0\\x00\\x14\\x00\\x00\\x00\\x00\\x00\\x01\\x00 \\x00\\x00\\x00\\x00\\x00\\x00\\x00\\x00\\x00\\x00\\x02\\xc0 \\xe0\\x00\\x14\\x00\\x05\\x00\\x00\\x00\\xf5\\xff \\x00\\x00\\xb4\\x00\\x00\\x00\\x00\\x00\\x00\\x00\\x04\\x1f \\xe0\\x00\\x14\\x00\\x05\\x00\\x00\\x00\\xf5\\xff \\x00\\x00\\xb4\\x00\\x00\\x00\\x00\\x00\\x00\\x00\\x04/ \\xe0\\x00\\x14\\x00\\x05\\x00\\x00\\x00\\xf5\\xff \\x00\\x00\\xb4\\x00\\x00\\x00\\x00\\x00\\x00\\x00\\x04\\t \\xe0\\x00\\x14\\x00\\x05\\x00\\x00\\x00\\xf5\\xff \\x00\\x00\\xb4\\x00\\x00\\x00\\x00\\x00\\x00\\x00\\x04\\x1a \\xe0\\x00\\x14\\x00\\x05\\x00\\x00\\x00\\xf5\\xff \\x00\\x00\\xb4\\x00\\x00\\x00\\x00\\x00\\x00\\x00\\x04\\x1b \\xe0\\x00\\x14\\x00\\x05\\x00\\x00\\x00\\xf5\\xff \\x00\\x00\\xb4\\x00\\x00\\x00\\x00\\x00\\x00\\x00\\x04* \\xe0\\x00\\x14\\x00\\x05\\x00\\x00\\x00\\xf5\\xff \\x00\\x00\\xb4\\x00\\x00\\x00\\x00\\x00\\x00\\x00\\x04, \\xe0\\x00\\x14\\x00\\x05\\x00\\x00\\x00\\xf5\\xff \\x00\\x00\\xb4\\x00\\x00\\x00\\x00\\x00\\x00\\x00\\x04/ \\xe0\\x00\\x14\\x00\\x05\\x00\\x00\\x00\\xf5\\xff \\x00\\x00\\xb4\\x00\\x00\\x00\\x00\\x00\\x00\\x00\\x04\\x16 \\xe0\\x00\\x14\\x00\\x05\\x00\\x00\\x00\\xf5\\xff \\x00\\x00\\xb4\\x00\\x00\\x00\\x00\\x00\\x00\\x00\\x04+ \\xe0\\x00\\x14\\x00\\x05\\x00\\x00\\x00\\xf5\\xff \\x00\\x00\\xb4\\x00\\x00\\x00\\x00\\x00\\x00\\x00\\x04, \\xe0\\x00\\x14\\x00\\x05\\x00\\x00\\x00\\xf5\\xff \\x00\\x00\\xb4\\x00\\x00\\x00\\x00\\x00\\x00\\x00\\x04+ \\xe0\\x00\\x14\\x00\\x06\\x00\\x00\\x00\\xf5\\xff \\x00\\x00\\xb4\\x00\\x00\\x00\\x00\\x00\\x00\\x00\\x041 \\xe0\\x00\\x14\\x00\\x06\\x00\\x00\\x00\\xf5\\xff \\x00\\x00\\xb4\\x00\\x00\\x00\\x00\\x00\\x00\\x00\\x04/ \\xe0\\x00\\x14\\x00\\x06\\x00\\x00\\x00\\xf5\\xff \\x00\\x00\\xb4\\x00\\x00\\x00\\x00\\x00\\x00\\x00\\x04\\x16 \\xe0\\x00\\x14\\x00\\x06\\x00\\x00\\x00\\xf5\\xff \\x00\\x00\\xb4\\x00\\x00\\x00\\x00\\x00\\x00\\x00\\x04+ \\xe0\\x00\\x14\\x00\\x06\\x00\\x00\\x00\\xf5\\xff \\x00\\x00\\xb4\\x00\\x00\\x00\\x00\\x00\\x00\\x00\\x04, \\xe0\\x00\\x14\\x00\\x06\\x00\\x00\\x00\\xf5\\xff \\x00\\x00\\xb4\\x00\\x00\\x00\\x00\\x00\\x00\\x00\\x049 \\xe0\\x00\\x14\\x00\\x06\\x00\\x00\\x00\\xf5\\xff \\x00\\x00\\xb4\\x00\\x00\\x00\\x00\\x00\\x00\\x00\\x04> \\xe0\\x00\\x14\\x00\\x06\\x00\\x00\\x00\\xf5\\xff \\x00\\x00\\xb4\\x00\\x00\\x00\\x00\\x00\\x00\\x00\\x045 \\xe0\\x00\\x14\\x00\\x06\\x00\\x00\\x00\\xf5\\xff \\x00\\x00\\xb4\\x00\\x00\\x00\\x00\\x00\\x00\\x00\\x047 \\xe0\\x00\\x14\\x00\\x06\\x00\\x00\\x00\\xf5\\xff \\x00\\x00\\xb4\\x00\\x00\\x00\\x00\\x00\\x00\\x00\\x043 \\xe0\\x00\\x14\\x00\\x06\\x00\\x00\\x00\\xf5\\xff \\x00\\x00\\xb4\\x00\\x00\\x00\\x00\\x00\\x00\\x00\\x041 \\xe0\\x00\\x14\\x00\\x06\\x00\\x00\\x00\\xf5\\xff \\x00\\x00\\xb4\\x00\\x00\\x00\\x00\\x00\\x00\\x00\\x049 \\xe0\\x00\\x14\\x00\\n\\x00\\x00\\x00\\xf5\\xff \\x00\\x00\\xb4\\x00\\x00\\x00\\x00\\x00\\x00\\x00\\x04- \\xe0\\x00\\x14\\x00\\x0e\\x00\\x00\\x00\\xf5\\xff \\x00\\x00\\x94\\x11\\x11\\x97\\x0b\\x97\\x0b\\x00\\x04\\x16 \\xe0\\x00\\x14\\x00\\t\\x00\\x00\\x00\\xf5\\xff \\x00\\x00\\x94ff\\xbf\\x1f\\xbf\\x1f\\x00\\x047 \\xe0\\x00\\x14\\x00\\x05\\x00+\\x00\\xf5\\xff \\x00\\x00\\xf8\\x00\\x00\\x00\\x00\\x00\\x00\\x00\\x00\\xc0 \\xe0\\x00\\x14\\x00\\x05\\x00)\\x00\\xf5\\xff \\x00\\x00\\xf8\\x00\\x00\\x00\\x00\\x00\\x00\\x00\\x00\\xc0 \\xe0\\x00\\x14\\x00\\x05\\x00,\\x00\\xf5\\xff \\x00\\x00\\xf8\\x00\\x00\\x00\\x00\\x00\\x00\\x00\\x00\\xc0 \\xe0\\x00\\x14\\x00\\x05\\x00*\\x00\\xf5\\xff \\x00\\x00\\xf8\\x00\\x00\\x00\\x00\\x00\\x00\\x00\\x00\\xc0 \\xe0\\x00\\x14\\x00\\x14\\x00\\x00\\x00\\xf5\\xff \\x00\\x00\\xf4\\x00\\x00\\x00\\x00\\x00\\x00\\x00\\x00\\xc0 \\xe0\\x00\\x14\\x00\\x0b\\x00\\x00\\x00\\xf5\\xff \\x00\\x00\\xb4\\x00\\x00\\x00\\x00\\x00\\x00\\x00\\x04* \\xe0\\x00\\x14\\x00\\x13\\x00\\x00\\x00\\xf5\\xff \\x00\\x00\\xd4\\x00P\\x00\\x00\\x00\\x1f\\x00\\x00\\xc0 \\xe0\\x00\\x14\\x00\\x07\\x00\\x00\\x00\\xf5\\xff \\x00\\x00\\xd4\\x00P\\x00\\x00\\x00\\x16\\x00\\x00\\xc0 \\xe0\\x00\\x14\\x00\\x0f\\x00\\x00\\x00\\xf5\\xff \\x00\\x00\\xd4\\x00 \\x00\\x00\\x80\\x18\\x00\\x00\\xc0 \\xe0\\x00\\x14\\x00\\x0f\\x00\\x00\\x00\\xf5\\xff \\x00\\x00\\xf4\\x00\\x00\\x00\\x00\\x00\\x00\\x00\\x00\\xc0 \\xe0\\x00\\x14\\x00\\x08\\x00\\x00\\x00\\xf5\\xff \\x00\\x00\\x94\\x11\\x11\\x97\\x0b\\x97\\x0b\\x00\\x04/ \\xe0\\x00\\x14\\x00\\x15\\x00\\x00\\x00\\xf5\\xff \\x00\\x00\\xd4\\x00`\\x00\\x00\\x00\\x1a\\x00\\x00\\xc0 \\xe0\\x00\\x14\\x00\\x12\\x00\\x00\\x00\\xf5\\xff \\x00\\x00\\xb4\\x00\\x00\\x00\\x00\\x00\\x00\\x00\\x04+ \\xe0\\x00\\x14\\x00\\x05\\x00\\x00\\x00\\xf5\\xff \\x00\\x00\\x9c\\x11\\x11\\x16\\x0b\\x16\\x0b\\x00\\x04\\x1a \\xe0\\x00\\x14\\x00\\x0c\\x00\\x00\\x00\\xf5\\xff \\x00\\x00\\x94\\x11\\x11\\xbf\\x1f\\xbf\\x1f\\x00\\x04\\x16 \\xe0\\x00\\x14\\x00\\x05\\x00\\t\\x00\\xf5\\xff \\x00\\x00\\xf8\\x00\\x00\\x00\\x00\\x00\\x00\\x00\\x00\\xc0 \\xe0\\x00\\x14\\x00\\r\\x00\\x00\\x00\\xf5\\xff \\x00\\x00\\xf4\\x00\\x00\\x00\\x00\\x00\\x00\\x00\\x00\\xc0 \\xe0\\x00\\x14\\x00\\x10\\x00\\x00\\x00\\xf5\\xff \\x00\\x00\\xd4\\x00a\\x00\\x00>\\x1f\\x00\\x00\\xc0 \\xe0\\x00\\x14\\x00\\x11\\x00\\x00\\x00\\xf5\\xff \\x00\\x00\\xf4\\x00\\x00\\x00\\x00\\x00\\x00\\x00\\x00\\xc0 \\xe0\\x00\\x14\\x00\\x00\\x00\\x00\\x00\\x01\\x00 \\x00\\x00@\\x00\\x00\\x00\\x00\\x00\\x00\\x00\\x06\\r |\\x08\\x14\\x00|\\x08\\x00\\x00\\x00\\x00\\x00\\x00\\x00\\x00\\x00\\x00\\x00\\x00?\\x00vT\\x82\\x91}\\x08-\\x00}\\x08\\x00\\x00\\x00\\x00\\x00\\x00\\x00\\x00\\x00\\x00\\x00\\x00\\x00\\x00\\x00\\x00\\x02\\x00\\r\\x00\\x14\\x00\\x03\\x00\\x00\\x00\\x01\\x00\\x00\\x0000\\\\);_(*\\x0e\\x00\\x05\\x00\\x02}\\x08-\\x00}\\x08\\x00\\x00\\x00\\x00\\x00\\x00\\x00\\x00\\x00\\x00\\x00\\x00\\x01\\x00\\x00\\x00\\x02\\x00\\r\\x00\\x14\\x00\\x03\\x00\\x00\\x00\\x01\\x00\\x00\\x0000\\\\);_(*\\x0e\\x00\\x05\\x00\\x02}\\x08-\\x00}\\x08\\x00\\x00\\x00\\x00\\x00\\x00\\x00\\x00\\x00\\x00\\x00\\x00\\x02\\x00\\x00\\x00\\x02\\x00\\r\\x00\\x14\\x00\\x03\\x00\\x00\\x00\\x01\\x00\\x00\\x0000\\\\);_(*\\x0e\\x00\\x05\\x00\\x02}\\x08-\\x00}\\x08\\x00\\x00\\x00\\x00\\x00\\x00\\x00\\x00\\x00\\x00\\x00\\x00\\x03\\x00\\x00\\x00\\x02\\x00\\r\\x00\\x14\\x00\\x03\\x00\\x00\\x00\\x01\\x00\\x00\\x0000\\\\);_(*\\x0e\\x00\\x05\\x00\\x02}\\x08-\\x00}\\x08\\x00\\x00\\x00\\x00\\x00\\x00\\x00\\x00\\x00\\x00\\x00\\x00\\x04\\x00\\x00\\x00\\x02\\x00\\r\\x00\\x14\\x00\\x03\\x00\\x00\\x00\\x01\\x00\\x00\\x0000\\\\);_(*\\x0e\\x00\\x05\\x00\\x02}\\x08-\\x00}\\x08\\x00\\x00\\x00\\x00\\x00\\x00\\x00\\x00\\x00\\x00\\x00\\x00\\x05\\x00\\x00\\x00\\x02\\x00\\r\\x00\\x14\\x00\\x03\\x00\\x00\\x00\\x01\\x00\\x00\\x0000\\\\);_(*\\x0e\\x00\\x05\\x00\\x02}\\x08-\\x00}\\x08\\x00\\x00\\x00\\x00\\x00\\x00\\x00\\x00\\x00\\x00\\x00\\x00\\x06\\x00\\x00\\x00\\x02\\x00\\r\\x00\\x14\\x00\\x03\\x00\\x00\\x00\\x01\\x00\\x00\\x0000\\\\);_(*\\x0e\\x00\\x05\\x00\\x02}\\x08-\\x00}\\x08\\x00\\x00\\x00\\x00\\x00\\x00\\x00\\x00\\x00\\x00\\x00\\x00\\x07\\x00\\x00\\x00\\x02\\x00\\r\\x00\\x14\\x00\\x03\\x00\\x00\\x00\\x01\\x00\\x00\\x0000\\\\);_(*\\x0e\\x00\\x05\\x00\\x02}\\x08-\\x00}\\x08\\x00\\x00\\x00\\x00\\x00\\x00\\x00\\x00\\x00\\x00\\x00\\x00\\x08\\x00\\x00\\x00\\x02\\x00\\r\\x00\\x14\\x00\\x03\\x00\\x00\\x00\\x01\\x00\\x00\\x0000\\\\);_(*\\x0e\\x00\\x05\\x00\\x02}\\x08-\\x00}\\x08\\x00\\x00\\x00\\x00\\x00\\x00\\x00\\x00\\x00\\x00\\x00\\x00\\t\\x00\\x00\\x00\\x02\\x00\\r\\x00\\x14\\x00\\x03\\x00\\x00\\x00\\x01\\x00\\x00\\x0000\\\\);_(*\\x0e\\x00\\x05\\x00\\x02}\\x08-\\x00}\\x08\\x00\\x00\\x00\\x00\\x00\\x00\\x00\\x00\\x00\\x00\\x00\\x00\\n\\x00\\x00\\x00\\x02\\x00\\r\\x00\\x14\\x00\\x03\\x00\\x00\\x00\\x01\\x00\\x00\\x0000\\\\);_(*\\x0e\\x00\\x05\\x00\\x02}\\x08-\\x00}\\x08\\x00\\x00\\x00\\x00\\x00\\x00\\x00\\x00\\x00\\x00\\x00\\x00\\x0b\\x00\\x00\\x00\\x02\\x00\\r\\x00\\x14\\x00\\x03\\x00\\x00\\x00\\x01\\x00\\x00\\x0000\\\\);_(*\\x0e\\x00\\x05\\x00\\x02}\\x08-\\x00}\\x08\\x00\\x00\\x00\\x00\\x00\\x00\\x00\\x00\\x00\\x00\\x00\\x00\\x0c\\x00\\x00\\x00\\x02\\x00\\r\\x00\\x14\\x00\\x03\\x00\\x00\\x00\\x01\\x00\\x00\\x0000\\\\);_(*\\x0e\\x00\\x05\\x00\\x02}\\x08-\\x00}\\x08\\x00\\x00\\x00\\x00\\x00\\x00\\x00\\x00\\x00\\x00\\x00\\x00\\r\\x00\\x00\\x00\\x02\\x00\\r\\x00\\x14\\x00\\x03\\x00\\x00\\x00\\x01\\x00\\x00\\x0000\\\\);_(*\\x0e\\x00\\x05\\x00\\x02}\\x08-\\x00}\\x08\\x00\\x00\\x00\\x00\\x00\\x00\\x00\\x00\\x00\\x00\\x00\\x00\\x0e\\x00\\x00\\x00\\x02\\x00\\r\\x00\\x14\\x00\\x03\\x00\\x00\\x00\\x01\\x00\\x00\\x0000\\\\);_(*\\x0e\\x00\\x05\\x00\\x02}\\x08-\\x00}\\x08\\x00\\x00\\x00\\x00\\x00\\x00\\x00\\x00\\x00\\x00\\x00\\x00\\x0f\\x00\\x00\\x00\\x02\\x00\\r\\x00\\x14\\x00\\x03\\x00\\x00\\x00\\x01\\x00\\x00\\x0000\\\\);_(*\\x0e\\x00\\x05\\x00\\x02}\\x08A\\x00}\\x08\\x00\\x00\\x00\\x00\\x00\\x00\\x00\\x00\\x00\\x00\\x00\\x00\\x15\\x00\\x00\\x00\\x03\\x00\\r\\x00\\x14\\x00\\x03\\x00\\x00\\x00\\x01\\x00\\x00\\x0000\\\\);_(*\\x0e\\x00\\x05\\x00\\x02\\x04\\x00\\x14\\x00\\x03\\x00ff\\t\\x00\\x00\\x00;_(@_)  }\\x08A\\x00}\\x08\\x00\\x00\\x00\\x00\\x00\\x00\\x00\\x00\\x00\\x00\\x00\\x00\\x1c\\x00\\x00\\x00\\x03\\x00\\r\\x00\\x14\\x00\\x03\\x00\\x00\\x00\\x00\\x00\\x00\\x0000\\\\);_(*\\x0e\\x00\\x05\\x00\\x02\\x04\\x00\\x14\\x00\\x03\\x0033\\x04\\x00\\x00\\x00;_(@_)  }\\x08\\x91\\x00}\\x08\\x00\\x00\\x00\\x00\\x00\\x00\\x00\\x00\\x00\\x00\\x00\\x008\\x00\\x00\\x00\\x07\\x00\\r\\x00\\x14\\x00\\x03\\x00\\x00\\x00\\x01\\x00\\x00\\x0000\\\\);_(*\\x0e\\x00\\x05\\x00\\x02\\x04\\x00\\x14\\x00\\x02\\x00\\x00\\x00\\xff\\xff\\xcc\\xff;_(@_)  \\x07\\x00\\x14\\x00\\x02\\x00\\x00\\x00\\xb2\\xb2\\xb2\\xff        \\x08\\x00\\x14\\x00\\x02\\x00\\x00\\x00\\xb2\\xb2\\xb2\\xff        \\t\\x00\\x14\\x00\\x02\\x00\\x00\\x00\\xb2\\xb2\\xb2\\xff\\x00\\x00\\x00\\x00\\x00\\x00\\x00\\x00\\n\\x00\\x14\\x00\\x02\\x00\\x00\\x00\\xb2\\xb2\\xb2\\xff\\x00\\x00\\x00\\x00\\x00\\x00\\x00\\x00}\\x08A\\x00}\\x08\\x00\\x00\\x00\\x00\\x00\\x00\\x00\\x00\\x00\\x00\\x00\\x00\\x17\\x00\\x00\\x00\\x03\\x00\\r\\x00\\x14\\x00\\x03\\x00\\x00\\x00\\x01\\x00\\x00\\x0000\\\\);_(*\\x0e\\x00\\x05\\x00\\x02\\x04\\x00\\x14\\x00\\x03\\x00\\xccL\\x05\\x00\\x00\\x00;_(@_)  }\\x08A\\x00}\\x08\\x00\\x00\\x00\\x00\\x00\\x00\\x00\\x00\\x00\\x00\\x00\\x00\\x10\\x00\\x00\\x00\\x03\\x00\\r\\x00\\x14\\x00\\x03\\x00\\x00\\x00\\x01\\x00\\x00\\x0000\\\\);_(*\\x0e\\x00\\x05\\x00\\x02\\x04\\x00\\x14\\x00\\x03\\x00ff\\x04\\x00\\x00\\x00;_(@_)  }\\x08A\\x00}\\x08\\x00\\x00\\x00\\x00\\x00\\x00\\x00\\x00\\x00\\x00\\x00\\x002\\x00\\x00\\x00\\x03\\x00\\r\\x00\\x14\\x00\\x03\\x00\\x00\\x00\\x03\\x00\\x00\\x0000\\\\);_(*\\x0e\\x00\\x05\\x00\\x02\\x08\\x00\\x14\\x00\\x03\\x00\\xff?\\x04\\x00\\x00\\x00;_(@_)  }\\x08\\x91\\x00}\\x08\\x00\\x00\\x00\\x00\\x00\\x00\\x00\\x00\\x00\\x00\\x00\\x005\\x00\\x00\\x00\\x07\\x00\\r\\x00\\x14\\x00\\x02\\x00\\x00\\x00??v\\xff00\\\\);_(*\\x0e\\x00\\x05\\x00\\x02\\x04\\x00\\x14\\x00\\x02\\x00\\x00\\x00\\xff\\xcc\\x99\\xff;_(@_)  \\x07\\x00\\x14\\x00\\x02\\x00\\x00\\x00\\x7f\\x7f\\x7f\\xff        \\x08\\x00\\x14\\x00\\x02\\x00\\x00\\x00\\x7f\\x7f\\x7f\\xff        \\t\\x00\\x14\\x00\\x02\\x00\\x00\\x00\\x7f\\x7f\\x7f\\xff\\x00\\x00\\x00\\x00\\x00\\x00\\x00\\x00\\n\\x00\\x14\\x00\\x02\\x00\\x00\\x00\\x7f\\x7f\\x7f\\xff\\x00\\x00\\x00\\x00\\x00\\x00\\x00\\x00}\\x08A\\x00}\\x08\\x00\\x00\\x00\\x00\\x00\\x00\\x00\\x00\\x00\\x00\\x00\\x00\\x1a\\x00\\x00\\x00\\x03\\x00\\r\\x00\\x14\\x00\\x03\\x00\\x00\\x00\\x01\\x00\\x00\\x0000\\\\);_(*\\x0e\\x00\\x05\\x00\\x02\\x04\\x00\\x14\\x00\\x03\\x00\\xccL\\x08\\x00\\x00\\x00;_(@_)  }\\x08A\\x00}\\x08\\x00\\x00\\x00\\x00\\x00\\x00\\x00\\x00\\x00\\x00\\x00\\x00\\x1f\\x00\\x00\\x00\\x03\\x00\\r\\x00\\x14\\x00\\x03\\x00\\x00\\x00\\x00\\x00\\x00\\x0000\\\\);_(*\\x0e\\x00\\x05\\x00\\x02\\x04\\x00\\x14\\x00\\x03\\x0033\\x07\\x00\\x00\\x00;_(@_)  }\\x08A\\x00}\\x08\\x00\\x00\\x00\\x00\\x00\\x00\\x00\\x00\\x00\\x00\\x00\\x00\\x1b\\x00\\x00\\x00\\x03\\x00\\r\\x00\\x14\\x00\\x03\\x00\\x00\\x00\\x01\\x00\\x00\\x0000\\\\);_(*\\x0e\\x00\\x05\\x00\\x02\\x04\\x00\\x14\\x00\\x03\\x00\\xccL\\t\\x00\\x00\\x00;_(@_)  }\\x08\\x91\\x00}\\x08\\x00\\x00\\x00\\x00\\x00\\x00\\x00\\x00\\x00\\x00\\x00\\x00*\\x00\\x00\\x00\\x07\\x00\\r\\x00\\x14\\x00\\x03\\x00\\x00\\x00\\x00\\x00\\x00\\x0000\\\\);_(*\\x0e\\x00\\x05\\x00\\x02\\x04\\x00\\x14\\x00\\x02\\x00\\x00\\x00\\xa5\\xa5\\xa5\\xff;_(@_)  \\x07\\x00\\x14\\x00\\x02\\x00\\x00\\x00???\\xff        \\x08\\x00\\x14\\x00\\x02\\x00\\x00\\x00???\\xff        \\t\\x00\\x14\\x00\\x02\\x00\\x00\\x00???\\xff\\x00\\x00\\x00\\x00\\x00\\x00\\x00\\x00\\n\\x00\\x14\\x00\\x02\\x00\\x00\\x00???\\xff\\x00\\x00\\x00\\x00\\x00\\x00\\x00\\x00}\\x08A\\x00}\\x08\\x00\\x00\\x00\\x00\\x00\\x00\\x00\\x00\\x00\\x00\\x00\\x00\\x11\\x00\\x00\\x00\\x03\\x00\\r\\x00\\x14\\x00\\x03\\x00\\x00\\x00\\x01\\x00\\x00\\x0000\\\\);_(*\\x0e\\x00\\x05\\x00\\x02\\x04\\x00\\x14\\x00\\x03\\x00ff\\x05\\x00\\x00\\x00;_(@_)  }\\x08A\\x00}\\x08\\x00\\x00\\x00\\x00\\x00\\x00\\x00\\x00\\x00\\x00\\x00\\x00#\\x00\\x00\\x00\\x03\\x00\\r\\x00\\x14\\x00\\x03\\x00\\x00\\x00\\x00\\x00\\x00\\x0000\\\\);_(*\\x0e\\x00\\x05\\x00\\x02\\x04\\x00\\x14\\x00\\x03\\x00\\x00\\x00\\x05\\x00\\x00\\x00;_(@_)  }\\x08A\\x00}\\x08\\x00\\x00\\x00\\x00\\x00\\x00\\x00\\x00\\x00\\x00\\x00\\x00\\x14\\x00\\x00\\x00\\x03\\x00\\r\\x00\\x14\\x00\\x03\\x00\\x00\\x00\\x01\\x00\\x00\\x0000\\\\);_(*\\x0e\\x00\\x05\\x00\\x02\\x04\\x00\\x14\\x00\\x03\\x00ff\\x08\\x00\\x00\\x00;_(@_)  }\\x08-\\x00}\\x08\\x00\\x00\\x00\\x00\\x00\\x00\\x00\\x00\\x00\\x00\\x00\\x00,\\x00\\x00\\x00\\x02\\x00\\r\\x00\\x14\\x00\\x03\\x00\\x00\\x00\\x01\\x00\\x00\\x0000\\\\);_(*\\x0e\\x00\\x05\\x00\\x02}\\x08A\\x00}\\x08\\x00\\x00\\x00\\x00\\x00\\x00\\x00\\x00\\x00\\x00\\x00\\x00$\\x00\\x00\\x00\\x03\\x00\\r\\x00\\x14\\x00\\x03\\x00\\x00\\x00\\x00\\x00\\x00\\x0000\\\\);_(*\\x0e\\x00\\x05\\x00\\x02\\x04\\x00\\x14\\x00\\x03\\x00\\x00\\x00\\x06\\x00\\x00\\x00;_(@_)  }\\x08A\\x00}\\x08\\x00\\x00\\x00\\x00\\x00\\x00\\x00\\x00\\x00\\x00\\x00\\x00(\\x00\\x00\\x00\\x03\\x00\\r\\x00\\x14\\x00\\x02\\x00\\x00\\x00\\x9c\\x00\\x06\\xff00\\\\);_(*\\x0e\\x00\\x05\\x00\\x02\\x04\\x00\\x14\\x00\\x02\\x00\\x00\\x00\\xff\\xc7\\xce\\xff;_(@_)  }\\x08A\\x00}\\x08\\x00\\x00\\x00\\x00\\x00\\x00\\x00\\x00\\x00\\x00\\x00\\x00!\\x00\\x00\\x00\\x03\\x00\\r\\x00\\x14\\x00\\x03\\x00\\x00\\x00\\x00\\x00\\x00\\x0000\\\\);_(*\\x0e\\x00\\x05\\x00\\x02\\x04\\x00\\x14\\x00\\x03\\x0033\\t\\x00\\x00\\x00;_(@_)  }\\x08A\\x00}\\x08\\x00\\x00\\x00\\x00\\x00\\x00\\x00\\x00\\x00\\x00\\x00\\x00\\x1d\\x00\\x00\\x00\\x03\\x00\\r\\x00\\x14\\x00\\x03\\x00\\x00\\x00\\x00\\x00\\x00\\x0000\\\\);_(*\\x0e\\x00\\x05\\x00\\x02\\x04\\x00\\x14\\x00\\x03\\x0033\\x05\\x00\\x00\\x00;_(@_)  }\\x08A\\x00}\\x08\\x00\\x00\\x00\\x00\\x00\\x00\\x00\\x00\\x00\\x00\\x00\\x000\\x00\\x00\\x00\\x03\\x00\\r\\x00\\x14\\x00\\x02\\x00\\x00\\x00\\x00a\\x00\\xff00\\\\);_(*\\x0e\\x00\\x05\\x00\\x02\\x04\\x00\\x14\\x00\\x02\\x00\\x00\\x00\\xc6\\xef\\xce\\xff;_(@_)  }\\x08\\x91\\x00}\\x08\\x00\\x00\\x00\\x00\\x00\\x00\\x00\\x00\\x00\\x00\\x00\\x009\\x00\\x00\\x00\\x07\\x00\\r\\x00\\x14\\x00\\x02\\x00\\x00\\x00???\\xff00\\\\);_(*\\x0e\\x00\\x05\\x00\\x02\\x04\\x00\\x14\\x00\\x02\\x00\\x00\\x00\\xf2\\xf2\\xf2\\xff;_(@_)  \\x07\\x00\\x14\\x00\\x02\\x00\\x00\\x00???\\xff        \\x08\\x00\\x14\\x00\\x02\\x00\\x00\\x00???\\xff        \\t\\x00\\x14\\x00\\x02\\x00\\x00\\x00???\\xff\\x00\\x00\\x00\\x00\\x00\\x00\\x00\\x00\\n\\x00\\x14\\x00\\x02\\x00\\x00\\x00???\\xff\\x00\\x00\\x00\\x00\\x00\\x00\\x00\\x00}\\x08A\\x00}\\x08\\x00\\x00\\x00\\x00\\x00\\x00\\x00\\x00\\x00\\x00\\x00\\x00\"\\x00\\x00\\x00\\x03\\x00\\r\\x00\\x14\\x00\\x03\\x00\\x00\\x00\\x00\\x00\\x00\\x0000\\\\);_(*\\x0e\\x00\\x05\\x00\\x02\\x04\\x00\\x14\\x00\\x03\\x00\\x00\\x00\\x04\\x00\\x00\\x00;_(@_)  }\\x08A\\x00}\\x08\\x00\\x00\\x00\\x00\\x00\\x00\\x00\\x00\\x00\\x00\\x00\\x00\\x12\\x00\\x00\\x00\\x03\\x00\\r\\x00\\x14\\x00\\x03\\x00\\x00\\x00\\x01\\x00\\x00\\x0000\\\\);_(*\\x0e\\x00\\x05\\x00\\x02\\x04\\x00\\x14\\x00\\x03\\x00ff\\x06\\x00\\x00\\x00;_(@_)  }\\x08-\\x00}\\x08\\x00\\x00\\x00\\x00\\x00\\x00\\x00\\x00\\x00\\x00\\x00\\x00;\\x00\\x00\\x00\\x02\\x00\\r\\x00\\x14\\x00\\x03\\x00\\x00\\x00\\x03\\x00\\x00\\x0000\\\\);_(*\\x0e\\x00\\x05\\x00\\x01}\\x08\\x91\\x00}\\x08\\x00\\x00\\x00\\x00\\x00\\x00\\x00\\x00\\x00\\x00\\x00\\x00)\\x00\\x00\\x00\\x07\\x00\\r\\x00\\x14\\x00\\x02\\x00\\x00\\x00\\xfa}\\x00\\xff00\\\\);_(*\\x0e\\x00\\x05\\x00\\x02\\x04\\x00\\x14\\x00\\x02\\x00\\x00\\x00\\xf2\\xf2\\xf2\\xff;_(@_)  \\x07\\x00\\x14\\x00\\x02\\x00\\x00\\x00\\x7f\\x7f\\x7f\\xff        \\x08\\x00\\x14\\x00\\x02\\x00\\x00\\x00\\x7f\\x7f\\x7f\\xff        \\t\\x00\\x14\\x00\\x02\\x00\\x00\\x00\\x7f\\x7f\\x7f\\xff\\x00\\x00\\x00\\x00\\x00\\x00\\x00\\x00\\n\\x00\\x14\\x00\\x02\\x00\\x00\\x00\\x7f\\x7f\\x7f\\xff\\x00\\x00\\x00\\x00\\x00\\x00\\x00\\x00}\\x08-\\x00}\\x08\\x00\\x00\\x00\\x00\\x00\\x00\\x00\\x00\\x00\\x00\\x00\\x004\\x00\\x00\\x00\\x02\\x00\\r\\x00\\x14\\x00\\x03\\x00\\x00\\x00\\x03\\x00\\x00\\x0000\\\\);_(*\\x0e\\x00\\x05\\x00\\x02}\\x08U\\x00}\\x08\\x00\\x00\\x00\\x00\\x00\\x00\\x00\\x00\\x00\\x00\\x00\\x00<\\x00\\x00\\x00\\x04\\x00\\r\\x00\\x14\\x00\\x03\\x00\\x00\\x00\\x01\\x00\\x00\\x0000\\\\);_(*\\x0e\\x00\\x05\\x00\\x02\\x07\\x00\\x14\\x00\\x03\\x00\\x00\\x00\\x04\\x00\\x00\\x00;_(@_)  \\x08\\x00\\x14\\x00\\x03\\x00\\x00\\x00\\x04\\x00\\x00\\x00        }\\x08-\\x00}\\x08\\x00\\x00\\x00\\x00\\x00\\x00\\x00\\x00\\x00\\x00\\x00\\x00=\\x00\\x00\\x00\\x02\\x00\\r\\x00\\x14\\x00\\x02\\x00\\x00\\x00\\xff\\x00\\x00\\xff00\\\\);_(*\\x0e\\x00\\x05\\x00\\x02}\\x08-\\x00}\\x08\\x00\\x00\\x00\\x00\\x00\\x00\\x00\\x00\\x00\\x00\\x00\\x00+\\x00\\x00\\x00\\x02\\x00\\r\\x00\\x14\\x00\\x03\\x00\\x00\\x00\\x01\\x00\\x00\\x0000\\\\);_(*\\x0e\\x00\\x05\\x00\\x02}\\x08A\\x00}\\x08\\x00\\x00\\x00\\x00\\x00\\x00\\x00\\x00\\x00\\x00\\x00\\x00\\x13\\x00\\x00\\x00\\x03\\x00\\r\\x00\\x14\\x00\\x03\\x00\\x00\\x00\\x01\\x00\\x00\\x0000\\\\);_(*\\x0e\\x00\\x05\\x00\\x02\\x04\\x00\\x14\\x00\\x03\\x00ff\\x07\\x00\\x00\\x00;_(@_)  }\\x08A\\x00}\\x08\\x00\\x00\\x00\\x00\\x00\\x00\\x00\\x00\\x00\\x00\\x00\\x007\\x00\\x00\\x00\\x03\\x00\\r\\x00\\x14\\x00\\x02\\x00\\x00\\x00\\x9ce\\x00\\xff00\\\\);_(*\\x0e\\x00\\x05\\x00\\x02\\x04\\x00\\x14\\x00\\x02\\x00\\x00\\x00\\xff\\xeb\\x9c\\xff;_(@_)  }\\x08A\\x00}\\x08\\x00\\x00\\x00\\x00\\x00\\x00\\x00\\x00\\x00\\x00\\x00\\x003\\x00\\x00\\x00\\x03\\x00\\r\\x00\\x14\\x00\\x03\\x00\\x00\\x00\\x03\\x00\\x00\\x0000\\\\);_(*\\x0e\\x00\\x05\\x00\\x02\\x08\\x00\\x14\\x00\\x03\\x0023\\x04\\x00\\x00\\x00;_(@_)  }\\x08A\\x00}\\x08\\x00\\x00\\x00\\x00\\x00\\x00\\x00\\x00\\x00\\x00\\x00\\x00\\x16\\x00\\x00\\x00\\x03\\x00\\r\\x00\\x14\\x00\\x03\\x00\\x00\\x00\\x01\\x00\\x00\\x0000\\\\);_(*\\x0e\\x00\\x05\\x00\\x02\\x04\\x00\\x14\\x00\\x03\\x00\\xccL\\x04\\x00\\x00\\x00;_(@_)  }\\x08A\\x00}\\x08\\x00\\x00\\x00\\x00\\x00\\x00\\x00\\x00\\x00\\x00\\x00\\x00&\\x00\\x00\\x00\\x03\\x00\\r\\x00\\x14\\x00\\x03\\x00\\x00\\x00\\x00\\x00\\x00\\x0000\\\\);_(*\\x0e\\x00\\x05\\x00\\x02\\x04\\x00\\x14\\x00\\x03\\x00\\x00\\x00\\x08\\x00\\x00\\x00;_(@_)  }\\x08A\\x00}\\x08\\x00\\x00\\x00\\x00\\x00\\x00\\x00\\x00\\x00\\x00\\x00\\x00\\x1e\\x00\\x00\\x00\\x03\\x00\\r\\x00\\x14\\x00\\x03\\x00\\x00\\x00\\x00\\x00\\x00\\x0000\\\\);_(*\\x0e\\x00\\x05\\x00\\x02\\x04\\x00\\x14\\x00\\x03\\x0033\\x06\\x00\\x00\\x00;_(@_)  }\\x08-\\x00}\\x08\\x00\\x00\\x00\\x00\\x00\\x00\\x00\\x00\\x00\\x00\\x00\\x00:\\x00\\x00\\x00\\x02\\x00\\r\\x00\\x14\\x00\\x03\\x00\\x00\\x00\\x01\\x00\\x00\\x0000\\\\);_(*\\x0e\\x00\\x05\\x00\\x02}\\x08A\\x00}\\x08\\x00\\x00\\x00\\x00\\x00\\x00\\x00\\x00\\x00\\x00\\x00\\x00 \\x00\\x00\\x00\\x03\\x00\\r\\x00\\x14\\x00\\x03\\x00\\x00\\x00\\x00\\x00\\x00\\x0000\\\\);_(*\\x0e\\x00\\x05\\x00\\x02\\x04\\x00\\x14\\x00\\x03\\x0033\\x08\\x00\\x00\\x00;_(@_)  }\\x08A\\x00}\\x08\\x00\\x00\\x00\\x00\\x00\\x00\\x00\\x00\\x00\\x00\\x00\\x00\\'\\x00\\x00\\x00\\x03\\x00\\r\\x00\\x14\\x00\\x03\\x00\\x00\\x00\\x00\\x00\\x00\\x0000\\\\);_(*\\x0e\\x00\\x05\\x00\\x02\\x04\\x00\\x14\\x00\\x03\\x00\\x00\\x00\\t\\x00\\x00\\x00;_(@_)  }\\x08-\\x00}\\x08\\x00\\x00\\x00\\x00\\x00\\x00\\x00\\x00\\x00\\x00\\x00\\x00.\\x00\\x00\\x00\\x02\\x00\\r\\x00\\x14\\x00\\x03\\x00\\x00\\x00\\x01\\x00\\x00\\x0000\\\\);_(*\\x0e\\x00\\x05\\x00\\x02}\\x08A\\x00}\\x08\\x00\\x00\\x00\\x00\\x00\\x00\\x00\\x00\\x00\\x00\\x00\\x001\\x00\\x00\\x00\\x03\\x00\\r\\x00\\x14\\x00\\x03\\x00\\x00\\x00\\x03\\x00\\x00\\x0000\\\\);_(*\\x0e\\x00\\x05\\x00\\x02\\x08\\x00\\x14\\x00\\x03\\x00\\x00\\x00\\x04\\x00\\x00\\x00;_(@_)  }\\x08-\\x00}\\x08\\x00\\x00\\x00\\x00\\x00\\x00\\x00\\x00\\x00\\x00\\x00\\x00/\\x00\\x00\\x00\\x02\\x00\\r\\x00\\x14\\x00\\x02\\x00\\x00\\x00\\x7f\\x7f\\x7f\\xff00\\\\);_(*\\x0e\\x00\\x05\\x00\\x02}\\x08A\\x00}\\x08\\x00\\x00\\x00\\x00\\x00\\x00\\x00\\x00\\x00\\x00\\x00\\x00\\x18\\x00\\x00\\x00\\x03\\x00\\r\\x00\\x14\\x00\\x03\\x00\\x00\\x00\\x01\\x00\\x00\\x0000\\\\);_(*\\x0e\\x00\\x05\\x00\\x02\\x04\\x00\\x14\\x00\\x03\\x00\\xccL\\x06\\x00\\x00\\x00;_(@_)  }\\x08A\\x00}\\x08\\x00\\x00\\x00\\x00\\x00\\x00\\x00\\x00\\x00\\x00\\x00\\x006\\x00\\x00\\x00\\x03\\x00\\r\\x00\\x14\\x00\\x02\\x00\\x00\\x00\\xfa}\\x00\\xff00\\\\);_(*\\x0e\\x00\\x05\\x00\\x02\\x08\\x00\\x14\\x00\\x02\\x00\\x00\\x00\\xff\\x80\\x01\\xff;_(@_)  }\\x08A\\x00}\\x08\\x00\\x00\\x00\\x00\\x00\\x00\\x00\\x00\\x00\\x00\\x00\\x00%\\x00\\x00\\x00\\x03\\x00\\r\\x00\\x14\\x00\\x03\\x00\\x00\\x00\\x00\\x00\\x00\\x0000\\\\);_(*\\x0e\\x00\\x05\\x00\\x02\\x04\\x00\\x14\\x00\\x03\\x00\\x00\\x00\\x07\\x00\\x00\\x00;_(@_)  }\\x08A\\x00}\\x08\\x00\\x00\\x00\\x00\\x00\\x00\\x00\\x00\\x00\\x00\\x00\\x00\\x19\\x00\\x00\\x00\\x03\\x00\\r\\x00\\x14\\x00\\x03\\x00\\x00\\x00\\x01\\x00\\x00\\x0000\\\\);_(*\\x0e\\x00\\x05\\x00\\x02\\x04\\x00\\x14\\x00\\x03\\x00\\xccL\\x07\\x00\\x00\\x00;_(@_)  }\\x08-\\x00}\\x08\\x00\\x00\\x00\\x00\\x00\\x00\\x00\\x00\\x00\\x00\\x00\\x00-\\x00\\x00\\x00\\x02\\x00\\r\\x00\\x14\\x00\\x03\\x00\\x00\\x00\\x01\\x00\\x00\\x0000\\\\);_(*\\x0e\\x00\\x05\\x00\\x02}\\x08A\\x00}\\x08\\x00\\x00\\x00\\x00\\x00\\x00\\x00\\x00\\x00\\x00\\x00\\x00>\\x00\\x00\\x00\\x03\\x00\\r\\x00\\x14\\x00\\x03\\x00\\x00\\x00\\x01\\x00\\x00\\x0000\\\\);_(*\\x0e\\x00\\x05\\x00\\x02\\x04\\x00\\x14\\x00\\x02\\x00\\x00\\x00\\xff\\xff\\x00\\xff;_(@_)  \\x93\\x02\\x12\\x00\\x10\\x00\\r\\x00\\x0020% - Accent1\\x92\\x08M\\x00\\x92\\x08\\x00\\x00\\x00\\x00\\x00\\x00\\x00\\x00\\x00\\x00\\x01\\x04\\x1e\\xff\\r\\x002\\x000\\x00%\\x00 \\x00-\\x00 \\x00A\\x00c\\x00c\\x00e\\x00n\\x00t\\x001\\x00\\x00\\x00\\x03\\x00\\x01\\x00\\x0c\\x00\\x07\\x04ff\\xda\\xe2\\xf3\\xff\\x05\\x00\\x0c\\x00\\x07\\x01\\x00\\x00\\x00\\x00\\x00\\xff%\\x00\\x05\\x00\\x02\\x93\\x02\\x12\\x00\\x11\\x00\\r\\x00\\x0020% - Accent2\\x92\\x08M\\x00\\x92\\x08\\x00\\x00\\x00\\x00\\x00\\x00\\x00\\x00\\x00\\x00\\x01\\x04\"\\xff\\r\\x002\\x000\\x00%\\x00 \\x00-\\x00 \\x00A\\x00c\\x00c\\x00e\\x00n\\x00t\\x002\\x00\\x00\\x00\\x03\\x00\\x01\\x00\\x0c\\x00\\x07\\x05ff\\xfc\\xe4\\xd6\\xff\\x05\\x00\\x0c\\x00\\x07\\x01\\x00\\x00\\x00\\x00\\x00\\xff%\\x00\\x05\\x00\\x02\\x93\\x02\\x12\\x00\\x12\\x00\\r\\x00\\x0020% - Accent3\\x92\\x08M\\x00\\x92\\x08\\x00\\x00\\x00\\x00\\x00\\x00\\x00\\x00\\x00\\x00\\x01\\x04&\\xff\\r\\x002\\x000\\x00%\\x00 \\x00-\\x00 \\x00A\\x00c\\x00c\\x00e\\x00n\\x00t\\x003\\x00\\x00\\x00\\x03\\x00\\x01\\x00\\x0c\\x00\\x07\\x06ff\\xed\\xed\\xed\\xff\\x05\\x00\\x0c\\x00\\x07\\x01\\x00\\x00\\x00\\x00\\x00\\xff%\\x00\\x05\\x00\\x02\\x93\\x02\\x12\\x00\\x13\\x00\\r\\x00\\x0020% - Accent4\\x92\\x08M\\x00\\x92\\x08\\x00\\x00\\x00\\x00\\x00\\x00\\x00\\x00\\x00\\x00\\x01\\x04*\\xff\\r\\x002\\x000\\x00%\\x00 \\x00-\\x00 \\x00A\\x00c\\x00c\\x00e\\x00n\\x00t\\x004\\x00\\x00\\x00\\x03\\x00\\x01\\x00\\x0c\\x00\\x07\\x07ff\\xff\\xf2\\xcc\\xff\\x05\\x00\\x0c\\x00\\x07\\x01\\x00\\x00\\x00\\x00\\x00\\xff%\\x00\\x05\\x00\\x02\\x93\\x02\\x12\\x00\\x14\\x00\\r\\x00\\x0020% - Accent5\\x92\\x08M\\x00\\x92\\x08\\x00\\x00\\x00\\x00\\x00\\x00\\x00\\x00\\x00\\x00\\x01\\x04.\\xff\\r\\x002\\x000\\x00%\\x00 \\x00-\\x00 \\x00A\\x00c\\x00c\\x00e\\x00n\\x00t\\x005\\x00\\x00\\x00\\x03\\x00\\x01\\x00\\x0c\\x00\\x07\\x08ff\\xdf\\xec\\xf7\\xff\\x05\\x00\\x0c\\x00\\x07\\x01\\x00\\x00\\x00\\x00\\x00\\xff%\\x00\\x05\\x00\\x02\\x93\\x02\\x12\\x00\\x15\\x00\\r\\x00\\x0020% - Accent6\\x92\\x08M\\x00\\x92\\x08\\x00\\x00\\x00\\x00\\x00\\x00\\x00\\x00\\x00\\x00\\x01\\x042\\xff\\r\\x002\\x000\\x00%\\x00 \\x00-\\x00 \\x00A\\x00c\\x00c\\x00e\\x00n\\x00t\\x006\\x00\\x00\\x00\\x03\\x00\\x01\\x00\\x0c\\x00\\x07\\tff\\xe2\\xef\\xda\\xff\\x05\\x00\\x0c\\x00\\x07\\x01\\x00\\x00\\x00\\x00\\x00\\xff%\\x00\\x05\\x00\\x02\\x93\\x02\\x12\\x00\\x16\\x00\\r\\x00\\x0040% - Accent1\\x92\\x08M\\x00\\x92\\x08\\x00\\x00\\x00\\x00\\x00\\x00\\x00\\x00\\x00\\x00\\x01\\x04\\x1f\\xff\\r\\x004\\x000\\x00%\\x00 \\x00-\\x00 \\x00A\\x00c\\x00c\\x00e\\x00n\\x00t\\x001\\x00\\x00\\x00\\x03\\x00\\x01\\x00\\x0c\\x00\\x07\\x04\\xccL\\xb4\\xc6\\xe7\\xff\\x05\\x00\\x0c\\x00\\x07\\x01\\x00\\x00\\x00\\x00\\x00\\xff%\\x00\\x05\\x00\\x02\\x93\\x02\\x12\\x00\\x17\\x00\\r\\x00\\x0040% - Accent2\\x92\\x08M\\x00\\x92\\x08\\x00\\x00\\x00\\x00\\x00\\x00\\x00\\x00\\x00\\x00\\x01\\x04#\\xff\\r\\x004\\x000\\x00%\\x00 \\x00-\\x00 \\x00A\\x00c\\x00c\\x00e\\x00n\\x00t\\x002\\x00\\x00\\x00\\x03\\x00\\x01\\x00\\x0c\\x00\\x07\\x05\\xccL\\xf8\\xcb\\xad\\xff\\x05\\x00\\x0c\\x00\\x07\\x01\\x00\\x00\\x00\\x00\\x00\\xff%\\x00\\x05\\x00\\x02\\x93\\x02\\x12\\x00\\x18\\x00\\r\\x00\\x0040% - Accent3\\x92\\x08M\\x00\\x92\\x08\\x00\\x00\\x00\\x00\\x00\\x00\\x00\\x00\\x00\\x00\\x01\\x04\\'\\xff\\r\\x004\\x000\\x00%\\x00 \\x00-\\x00 \\x00A\\x00c\\x00c\\x00e\\x00n\\x00t\\x003\\x00\\x00\\x00\\x03\\x00\\x01\\x00\\x0c\\x00\\x07\\x06\\xccL\\xdb\\xdb\\xdb\\xff\\x05\\x00\\x0c\\x00\\x07\\x01\\x00\\x00\\x00\\x00\\x00\\xff%\\x00\\x05\\x00\\x02\\x93\\x02\\x12\\x00\\x19\\x00\\r\\x00\\x0040% - Accent4\\x92\\x08M\\x00\\x92\\x08\\x00\\x00\\x00\\x00\\x00\\x00\\x00\\x00\\x00\\x00\\x01\\x04+\\xff\\r\\x004\\x000\\x00%\\x00 \\x00-\\x00 \\x00A\\x00c\\x00c\\x00e\\x00n\\x00t\\x004\\x00\\x00\\x00\\x03\\x00\\x01\\x00\\x0c\\x00\\x07\\x07\\xccL\\xff\\xe6\\x99\\xff\\x05\\x00\\x0c\\x00\\x07\\x01\\x00\\x00\\x00\\x00\\x00\\xff%\\x00\\x05\\x00\\x02\\x93\\x02\\x12\\x00\\x1a\\x00\\r\\x00\\x0040% - Accent5\\x92\\x08M\\x00\\x92\\x08\\x00\\x00\\x00\\x00\\x00\\x00\\x00\\x00\\x00\\x00\\x01\\x04/\\xff\\r\\x004\\x000\\x00%\\x00 \\x00-\\x00 \\x00A\\x00c\\x00c\\x00e\\x00n\\x00t\\x005\\x00\\x00\\x00\\x03\\x00\\x01\\x00\\x0c\\x00\\x07\\x08\\xccL\\xbd\\xd7\\xee\\xff\\x05\\x00\\x0c\\x00\\x07\\x01\\x00\\x00\\x00\\x00\\x00\\xff%\\x00\\x05\\x00\\x02\\x93\\x02\\x12\\x00\\x1b\\x00\\r\\x00\\x0040% - Accent6\\x92\\x08M\\x00\\x92\\x08\\x00\\x00\\x00\\x00\\x00\\x00\\x00\\x00\\x00\\x00\\x01\\x043\\xff\\r\\x004\\x000\\x00%\\x00 \\x00-\\x00 \\x00A\\x00c\\x00c\\x00e\\x00n\\x00t\\x006\\x00\\x00\\x00\\x03\\x00\\x01\\x00\\x0c\\x00\\x07\\t\\xccL\\xc6\\xe0\\xb4\\xff\\x05\\x00\\x0c\\x00\\x07\\x01\\x00\\x00\\x00\\x00\\x00\\xff%\\x00\\x05\\x00\\x02\\x93\\x02\\x12\\x00\\x1c\\x00\\r\\x00\\x0060% - Accent1\\x92\\x08M\\x00\\x92\\x08\\x00\\x00\\x00\\x00\\x00\\x00\\x00\\x00\\x00\\x00\\x01\\x04 \\xff\\r\\x006\\x000\\x00%\\x00 \\x00-\\x00 \\x00A\\x00c\\x00c\\x00e\\x00n\\x00t\\x001\\x00\\x00\\x00\\x03\\x00\\x01\\x00\\x0c\\x00\\x07\\x0433\\x8f\\xaa\\xdc\\xff\\x05\\x00\\x0c\\x00\\x07\\x00\\x00\\x00\\xff\\xff\\xff\\xff%\\x00\\x05\\x00\\x02\\x93\\x02\\x12\\x00\\x1d\\x00\\r\\x00\\x0060% - Accent2\\x92\\x08M\\x00\\x92\\x08\\x00\\x00\\x00\\x00\\x00\\x00\\x00\\x00\\x00\\x00\\x01\\x04$\\xff\\r\\x006\\x000\\x00%\\x00 \\x00-\\x00 \\x00A\\x00c\\x00c\\x00e\\x00n\\x00t\\x002\\x00\\x00\\x00\\x03\\x00\\x01\\x00\\x0c\\x00\\x07\\x0533\\xf4\\xb0\\x84\\xff\\x05\\x00\\x0c\\x00\\x07\\x00\\x00\\x00\\xff\\xff\\xff\\xff%\\x00\\x05\\x00\\x02\\x93\\x02\\x12\\x00\\x1e\\x00\\r\\x00\\x0060% - Accent3\\x92\\x08M\\x00\\x92\\x08\\x00\\x00\\x00\\x00\\x00\\x00\\x00\\x00\\x00\\x00\\x01\\x04(\\xff\\r\\x006\\x000\\x00%\\x00 \\x00-\\x00 \\x00A\\x00c\\x00c\\x00e\\x00n\\x00t\\x003\\x00\\x00\\x00\\x03\\x00\\x01\\x00\\x0c\\x00\\x07\\x0633\\xc9\\xc9\\xc9\\xff\\x05\\x00\\x0c\\x00\\x07\\x00\\x00\\x00\\xff\\xff\\xff\\xff%\\x00\\x05\\x00\\x02\\x93\\x02\\x12\\x00\\x1f\\x00\\r\\x00\\x0060% - Accent4\\x92\\x08M\\x00\\x92\\x08\\x00\\x00\\x00\\x00\\x00\\x00\\x00\\x00\\x00\\x00\\x01\\x04,\\xff\\r\\x006\\x000\\x00%\\x00 \\x00-\\x00 \\x00A\\x00c\\x00c\\x00e\\x00n\\x00t\\x004\\x00\\x00\\x00\\x03\\x00\\x01\\x00\\x0c\\x00\\x07\\x0733\\xff\\xd9f\\xff\\x05\\x00\\x0c\\x00\\x07\\x00\\x00\\x00\\xff\\xff\\xff\\xff%\\x00\\x05\\x00\\x02\\x93\\x02\\x12\\x00 \\x00\\r\\x00\\x0060% - Accent5\\x92\\x08M\\x00\\x92\\x08\\x00\\x00\\x00\\x00\\x00\\x00\\x00\\x00\\x00\\x00\\x01\\x040\\xff\\r\\x006\\x000\\x00%\\x00 \\x00-\\x00 \\x00A\\x00c\\x00c\\x00e\\x00n\\x00t\\x005\\x00\\x00\\x00\\x03\\x00\\x01\\x00\\x0c\\x00\\x07\\x0833\\x9d\\xc4\\xe6\\xff\\x05\\x00\\x0c\\x00\\x07\\x00\\x00\\x00\\xff\\xff\\xff\\xff%\\x00\\x05\\x00\\x02\\x93\\x02\\x12\\x00!\\x00\\r\\x00\\x0060% - Accent6\\x92\\x08M\\x00\\x92\\x08\\x00\\x00\\x00\\x00\\x00\\x00\\x00\\x00\\x00\\x00\\x01\\x044\\xff\\r\\x006\\x000\\x00%\\x00 \\x00-\\x00 \\x00A\\x00c\\x00c\\x00e\\x00n\\x00t\\x006\\x00\\x00\\x00\\x03\\x00\\x01\\x00\\x0c\\x00\\x07\\t33\\xa9\\xd0\\x8e\\xff\\x05\\x00\\x0c\\x00\\x07\\x00\\x00\\x00\\xff\\xff\\xff\\xff%\\x00\\x05\\x00\\x02\\x93\\x02\\x0c\\x00\"\\x00\\x07\\x00\\x00Accent1\\x92\\x08A\\x00\\x92\\x08\\x00\\x00\\x00\\x00\\x00\\x00\\x00\\x00\\x00\\x00\\x01\\x04\\x1d\\xff\\x07\\x00A\\x00c\\x00c\\x00e\\x00n\\x00t\\x001\\x00\\x00\\x00\\x03\\x00\\x01\\x00\\x0c\\x00\\x07\\x04\\x00\\x00Dr\\xc4\\xff\\x05\\x00\\x0c\\x00\\x07\\x00\\x00\\x00\\xff\\xff\\xff\\xff%\\x00\\x05\\x00\\x02\\x93\\x02\\x0c\\x00#\\x00\\x07\\x00\\x00Accent2\\x92\\x08A\\x00\\x92\\x08\\x00\\x00\\x00\\x00\\x00\\x00\\x00\\x00\\x00\\x00\\x01\\x04!\\xff\\x07\\x00A\\x00c\\x00c\\x00e\\x00n\\x00t\\x002\\x00\\x00\\x00\\x03\\x00\\x01\\x00\\x0c\\x00\\x07\\x05\\x00\\x00\\xed}1\\xff\\x05\\x00\\x0c\\x00\\x07\\x00\\x00\\x00\\xff\\xff\\xff\\xff%\\x00\\x05\\x00\\x02\\x93\\x02\\x0c\\x00$\\x00\\x07\\x00\\x00Accent3\\x92\\x08A\\x00\\x92\\x08\\x00\\x00\\x00\\x00\\x00\\x00\\x00\\x00\\x00\\x00\\x01\\x04%\\xff\\x07\\x00A\\x00c\\x00c\\x00e\\x00n\\x00t\\x003\\x00\\x00\\x00\\x03\\x00\\x01\\x00\\x0c\\x00\\x07\\x06\\x00\\x00\\xa5\\xa5\\xa5\\xff\\x05\\x00\\x0c\\x00\\x07\\x00\\x00\\x00\\xff\\xff\\xff\\xff%\\x00\\x05\\x00\\x02\\x93\\x02\\x0c\\x00%\\x00\\x07\\x00\\x00Accent4\\x92\\x08A\\x00\\x92\\x08\\x00\\x00\\x00\\x00\\x00\\x00\\x00\\x00\\x00\\x00\\x01\\x04)\\xff\\x07\\x00A\\x00c\\x00c\\x00e\\x00n\\x00t\\x004\\x00\\x00\\x00\\x03\\x00\\x01\\x00\\x0c\\x00\\x07\\x07\\x00\\x00\\xff\\xc0\\x00\\xff\\x05\\x00\\x0c\\x00\\x07\\x00\\x00\\x00\\xff\\xff\\xff\\xff%\\x00\\x05\\x00\\x02\\x93\\x02\\x0c\\x00&\\x00\\x07\\x00\\x00Accent5\\x92\\x08A\\x00\\x92\\x08\\x00\\x00\\x00\\x00\\x00\\x00\\x00\\x00\\x00\\x00\\x01\\x04-\\xff\\x07\\x00A\\x00c\\x00c\\x00e\\x00n\\x00t\\x005\\x00\\x00\\x00\\x03\\x00\\x01\\x00\\x0c\\x00\\x07\\x08\\x00\\x00[\\x9b\\xd5\\xff\\x05\\x00\\x0c\\x00\\x07\\x00\\x00\\x00\\xff\\xff\\xff\\xff%\\x00\\x05\\x00\\x02\\x93\\x02\\x0c\\x00\\'\\x00\\x07\\x00\\x00Accent6\\x92\\x08A\\x00\\x92\\x08\\x00\\x00\\x00\\x00\\x00\\x00\\x00\\x00\\x00\\x00\\x01\\x041\\xff\\x07\\x00A\\x00c\\x00c\\x00e\\x00n\\x00t\\x006\\x00\\x00\\x00\\x03\\x00\\x01\\x00\\x0c\\x00\\x07\\t\\x00\\x00p\\xadG\\xff\\x05\\x00\\x0c\\x00\\x07\\x00\\x00\\x00\\xff\\xff\\xff\\xff%\\x00\\x05\\x00\\x02\\x93\\x02\\x08\\x00(\\x00\\x03\\x00\\x00Bad\\x92\\x089\\x00\\x92\\x08\\x00\\x00\\x00\\x00\\x00\\x00\\x00\\x00\\x00\\x00\\x01\\x01\\x1b\\xff\\x03\\x00B\\x00a\\x00d\\x00\\x00\\x00\\x03\\x00\\x01\\x00\\x0c\\x00\\x05\\xff\\x00\\x00\\xff\\xc7\\xce\\xff\\x05\\x00\\x0c\\x00\\x05\\xff\\x00\\x00\\x9c\\x00\\x06\\xff%\\x00\\x05\\x00\\x02\\x93\\x02\\x10\\x00)\\x00\\x0b\\x00\\x00Calculation\\x92\\x08\\x81\\x00\\x92\\x08\\x00\\x00\\x00\\x00\\x00\\x00\\x00\\x00\\x00\\x00\\x01\\x02\\x16\\xff\\x0b\\x00C\\x00a\\x00l\\x00c\\x00u\\x00l\\x00a\\x00t\\x00i\\x00o\\x00n\\x00\\x00\\x00\\x07\\x00\\x01\\x00\\x0c\\x00\\x05\\xff\\x00\\x00\\xf2\\xf2\\xf2\\xff\\x05\\x00\\x0c\\x00\\x05\\xff\\x00\\x00\\xfa}\\x00\\xff%\\x00\\x05\\x00\\x02\\x06\\x00\\x0e\\x00\\x05\\xff\\x00\\x00\\x7f\\x7f\\x7f\\xff\\x01\\x00\\x07\\x00\\x0e\\x00\\x05\\xff\\x00\\x00\\x7f\\x7f\\x7f\\xff\\x01\\x00\\x08\\x00\\x0e\\x00\\x05\\xff\\x00\\x00\\x7f\\x7f\\x7f\\xff\\x01\\x00\\t\\x00\\x0e\\x00\\x05\\xff\\x00\\x00\\x7f\\x7f\\x7f\\xff\\x01\\x00\\x93\\x02\\x0f\\x00*\\x00\\n\\x00\\x00Check Cell\\x92\\x08\\x7f\\x00\\x92\\x08\\x00\\x00\\x00\\x00\\x00\\x00\\x00\\x00\\x00\\x00\\x01\\x02\\x17\\xff\\n\\x00C\\x00h\\x00e\\x00c\\x00k\\x00 \\x00C\\x00e\\x00l\\x00l\\x00\\x00\\x00\\x07\\x00\\x01\\x00\\x0c\\x00\\x05\\xff\\x00\\x00\\xa5\\xa5\\xa5\\xff\\x05\\x00\\x0c\\x00\\x07\\x00\\x00\\x00\\xff\\xff\\xff\\xff%\\x00\\x05\\x00\\x02\\x06\\x00\\x0e\\x00\\x05\\xff\\x00\\x00???\\xff\\x06\\x00\\x07\\x00\\x0e\\x00\\x05\\xff\\x00\\x00???\\xff\\x06\\x00\\x08\\x00\\x0e\\x00\\x05\\xff\\x00\\x00???\\xff\\x06\\x00\\t\\x00\\x0e\\x00\\x05\\xff\\x00\\x00???\\xff\\x06\\x00\\x93\\x02\\x04\\x00+\\x80\\x03\\xff\\x92\\x08 \\x00\\x92\\x08\\x00\\x00\\x00\\x00\\x00\\x00\\x00\\x00\\x00\\x00\\x01\\x05\\x03\\xff\\x05\\x00C\\x00o\\x00m\\x00m\\x00a\\x00\\x00\\x00\\x00\\x00\\x93\\x02\\x04\\x00,\\x80\\x06\\xff\\x92\\x08(\\x00\\x92\\x08\\x00\\x00\\x00\\x00\\x00\\x00\\x00\\x00\\x00\\x00\\x01\\x05\\x06\\xff\\t\\x00C\\x00o\\x00m\\x00m\\x00a\\x00 \\x00[\\x000\\x00]\\x00\\x00\\x00\\x00\\x00\\x93\\x02\\x04\\x00-\\x80\\x04\\xff\\x92\\x08&\\x00\\x92\\x08\\x00\\x00\\x00\\x00\\x00\\x00\\x00\\x00\\x00\\x00\\x01\\x05\\x04\\xff\\x08\\x00C\\x00u\\x00r\\x00r\\x00e\\x00n\\x00c\\x00y\\x00\\x00\\x00\\x00\\x00\\x93\\x02\\x04\\x00.\\x80\\x07\\xff\\x92\\x08.\\x00\\x92\\x08\\x00\\x00\\x00\\x00\\x00\\x00\\x00\\x00\\x00\\x00\\x01\\x05\\x07\\xff\\x0c\\x00C\\x00u\\x00r\\x00r\\x00e\\x00n\\x00c\\x00y\\x00 \\x00[\\x000\\x00]\\x00\\x00\\x00\\x00\\x00\\x93\\x02\\x15\\x00/\\x00\\x10\\x00\\x00Explanatory Text\\x92\\x08G\\x00\\x92\\x08\\x00\\x00\\x00\\x00\\x00\\x00\\x00\\x00\\x00\\x00\\x01\\x025\\xff\\x10\\x00E\\x00x\\x00p\\x00l\\x00a\\x00n\\x00a\\x00t\\x00o\\x00r\\x00y\\x00 \\x00T\\x00e\\x00x\\x00t\\x00\\x00\\x00\\x02\\x00\\x05\\x00\\x0c\\x00\\x05\\xff\\x00\\x00\\x7f\\x7f\\x7f\\xff%\\x00\\x05\\x00\\x02\\x93\\x02\\t\\x000\\x00\\x04\\x00\\x00Good\\x92\\x08;\\x00\\x92\\x08\\x00\\x00\\x00\\x00\\x00\\x00\\x00\\x00\\x00\\x00\\x01\\x01\\x1a\\xff\\x04\\x00G\\x00o\\x00o\\x00d\\x00\\x00\\x00\\x03\\x00\\x01\\x00\\x0c\\x00\\x05\\xff\\x00\\x00\\xc6\\xef\\xce\\xff\\x05\\x00\\x0c\\x00\\x05\\xff\\x00\\x00\\x00a\\x00\\xff%\\x00\\x05\\x00\\x02\\x93\\x02\\x0e\\x001\\x00\\t\\x00\\x00Heading 1\\x92\\x08G\\x00\\x92\\x08\\x00\\x00\\x00\\x00\\x00\\x00\\x00\\x00\\x00\\x00\\x01\\x03\\x10\\xff\\t\\x00H\\x00e\\x00a\\x00d\\x00i\\x00n\\x00g\\x00 \\x001\\x00\\x00\\x00\\x03\\x00\\x05\\x00\\x0c\\x00\\x07\\x03\\x00\\x00DTj\\xff%\\x00\\x05\\x00\\x02\\x07\\x00\\x0e\\x00\\x07\\x04\\x00\\x00Dr\\xc4\\xff\\x05\\x00\\x93\\x02\\x0e\\x002\\x00\\t\\x00\\x00Heading 2\\x92\\x08G\\x00\\x92\\x08\\x00\\x00\\x00\\x00\\x00\\x00\\x00\\x00\\x00\\x00\\x01\\x03\\x11\\xff\\t\\x00H\\x00e\\x00a\\x00d\\x00i\\x00n\\x00g\\x00 \\x002\\x00\\x00\\x00\\x03\\x00\\x05\\x00\\x0c\\x00\\x07\\x03\\x00\\x00DTj\\xff%\\x00\\x05\\x00\\x02\\x07\\x00\\x0e\\x00\\x07\\x04\\xff?\\xa2\\xb8\\xe1\\xff\\x05\\x00\\x93\\x02\\x0e\\x003\\x00\\t\\x00\\x00Heading 3\\x92\\x08G\\x00\\x92\\x08\\x00\\x00\\x00\\x00\\x00\\x00\\x00\\x00\\x00\\x00\\x01\\x03\\x12\\xff\\t\\x00H\\x00e\\x00a\\x00d\\x00i\\x00n\\x00g\\x00 \\x003\\x00\\x00\\x00\\x03\\x00\\x05\\x00\\x0c\\x00\\x07\\x03\\x00\\x00DTj\\xff%\\x00\\x05\\x00\\x02\\x07\\x00\\x0e\\x00\\x07\\x0423\\x8e\\xa9\\xdb\\xff\\x02\\x00\\x93\\x02\\x0e\\x004\\x00\\t\\x00\\x00Heading 4\\x92\\x089\\x00\\x92\\x08\\x00\\x00\\x00\\x00\\x00\\x00\\x00\\x00\\x00\\x00\\x01\\x03\\x13\\xff\\t\\x00H\\x00e\\x00a\\x00d\\x00i\\x00n\\x00g\\x00 \\x004\\x00\\x00\\x00\\x02\\x00\\x05\\x00\\x0c\\x00\\x07\\x03\\x00\\x00DTj\\xff%\\x00\\x05\\x00\\x02\\x93\\x02\\n\\x005\\x00\\x05\\x00\\x00Input\\x92\\x08u\\x00\\x92\\x08\\x00\\x00\\x00\\x00\\x00\\x00\\x00\\x00\\x00\\x00\\x01\\x02\\x14\\xff\\x05\\x00I\\x00n\\x00p\\x00u\\x00t\\x00\\x00\\x00\\x07\\x00\\x01\\x00\\x0c\\x00\\x05\\xff\\x00\\x00\\xff\\xcc\\x99\\xff\\x05\\x00\\x0c\\x00\\x05\\xff\\x00\\x00??v\\xff%\\x00\\x05\\x00\\x02\\x06\\x00\\x0e\\x00\\x05\\xff\\x00\\x00\\x7f\\x7f\\x7f\\xff\\x01\\x00\\x07\\x00\\x0e\\x00\\x05\\xff\\x00\\x00\\x7f\\x7f\\x7f\\xff\\x01\\x00\\x08\\x00\\x0e\\x00\\x05\\xff\\x00\\x00\\x7f\\x7f\\x7f\\xff\\x01\\x00\\t\\x00\\x0e\\x00\\x05\\xff\\x00\\x00\\x7f\\x7f\\x7f\\xff\\x01\\x00\\x93\\x02\\x10\\x006\\x00\\x0b\\x00\\x00Linked Cell\\x92\\x08K\\x00\\x92\\x08\\x00\\x00\\x00\\x00\\x00\\x00\\x00\\x00\\x00\\x00\\x01\\x02\\x18\\xff\\x0b\\x00L\\x00i\\x00n\\x00k\\x00e\\x00d\\x00 \\x00C\\x00e\\x00l\\x00l\\x00\\x00\\x00\\x03\\x00\\x05\\x00\\x0c\\x00\\x05\\xff\\x00\\x00\\xfa}\\x00\\xff%\\x00\\x05\\x00\\x02\\x07\\x00\\x0e\\x00\\x05\\xff\\x00\\x00\\xff\\x80\\x01\\xff\\x06\\x00\\x93\\x02\\x0c\\x007\\x00\\x07\\x00\\x00Neutral\\x92\\x08A\\x00\\x92\\x08\\x00\\x00\\x00\\x00\\x00\\x00\\x00\\x00\\x00\\x00\\x01\\x01\\x1c\\xff\\x07\\x00N\\x00e\\x00u\\x00t\\x00r\\x00a\\x00l\\x00\\x00\\x00\\x03\\x00\\x01\\x00\\x0c\\x00\\x05\\xff\\x00\\x00\\xff\\xeb\\x9c\\xff\\x05\\x00\\x0c\\x00\\x05\\xff\\x00\\x00\\x9ce\\x00\\xff%\\x00\\x05\\x00\\x02\\x93\\x02\\x04\\x00\\x00\\x80\\x00\\xff\\x92\\x083\\x00\\x92\\x08\\x00\\x00\\x00\\x00\\x00\\x00\\x00\\x00\\x00\\x00\\x01\\x01\\x00\\xff\\x06\\x00N\\x00o\\x00r\\x00m\\x00a\\x00l\\x00\\x00\\x00\\x02\\x00\\x05\\x00\\x0c\\x00\\x07\\x01\\x00\\x00\\x00\\x00\\x00\\xff%\\x00\\x05\\x00\\x02\\x93\\x02\\t\\x008\\x00\\x04\\x00\\x00Note\\x92\\x08b\\x00\\x92\\x08\\x00\\x00\\x00\\x00\\x00\\x00\\x00\\x00\\x00\\x00\\x01\\x02\\n\\xff\\x04\\x00N\\x00o\\x00t\\x00e\\x00\\x00\\x00\\x05\\x00\\x01\\x00\\x0c\\x00\\x05\\xff\\x00\\x00\\xff\\xff\\xcc\\xff\\x06\\x00\\x0e\\x00\\x05\\xff\\x00\\x00\\xb2\\xb2\\xb2\\xff\\x01\\x00\\x07\\x00\\x0e\\x00\\x05\\xff\\x00\\x00\\xb2\\xb2\\xb2\\xff\\x01\\x00\\x08\\x00\\x0e\\x00\\x05\\xff\\x00\\x00\\xb2\\xb2\\xb2\\xff\\x01\\x00\\t\\x00\\x0e\\x00\\x05\\xff\\x00\\x00\\xb2\\xb2\\xb2\\xff\\x01\\x00\\x93\\x02\\x0b\\x009\\x00\\x06\\x00\\x00Output\\x92\\x08w\\x00\\x92\\x08\\x00\\x00\\x00\\x00\\x00\\x00\\x00\\x00\\x00\\x00\\x01\\x02\\x15\\xff\\x06\\x00O\\x00u\\x00t\\x00p\\x00u\\x00t\\x00\\x00\\x00\\x07\\x00\\x01\\x00\\x0c\\x00\\x05\\xff\\x00\\x00\\xf2\\xf2\\xf2\\xff\\x05\\x00\\x0c\\x00\\x05\\xff\\x00\\x00???\\xff%\\x00\\x05\\x00\\x02\\x06\\x00\\x0e\\x00\\x05\\xff\\x00\\x00???\\xff\\x01\\x00\\x07\\x00\\x0e\\x00\\x05\\xff\\x00\\x00???\\xff\\x01\\x00\\x08\\x00\\x0e\\x00\\x05\\xff\\x00\\x00???\\xff\\x01\\x00\\t\\x00\\x0e\\x00\\x05\\xff\\x00\\x00???\\xff\\x01\\x00\\x93\\x02\\x04\\x00:\\x80\\x05\\xff\\x92\\x08$\\x00\\x92\\x08\\x00\\x00\\x00\\x00\\x00\\x00\\x00\\x00\\x00\\x00\\x01\\x05\\x05\\xff\\x07\\x00P\\x00e\\x00r\\x00c\\x00e\\x00n\\x00t\\x00\\x00\\x00\\x00\\x00\\x93\\x02\\n\\x00;\\x00\\x05\\x00\\x00Title\\x92\\x081\\x00\\x92\\x08\\x00\\x00\\x00\\x00\\x00\\x00\\x00\\x00\\x00\\x00\\x01\\x03\\x0f\\xff\\x05\\x00T\\x00i\\x00t\\x00l\\x00e\\x00\\x00\\x00\\x02\\x00\\x05\\x00\\x0c\\x00\\x07\\x03\\x00\\x00DTj\\xff%\\x00\\x05\\x00\\x01\\x93\\x02\\n\\x00<\\x00\\x05\\x00\\x00Total\\x92\\x08M\\x00\\x92\\x08\\x00\\x00\\x00\\x00\\x00\\x00\\x00\\x00\\x00\\x00\\x01\\x03\\x19\\xff\\x05\\x00T\\x00o\\x00t\\x00a\\x00l\\x00\\x00\\x00\\x04\\x00\\x05\\x00\\x0c\\x00\\x07\\x01\\x00\\x00\\x00\\x00\\x00\\xff%\\x00\\x05\\x00\\x02\\x06\\x00\\x0e\\x00\\x07\\x04\\x00\\x00Dr\\xc4\\xff\\x01\\x00\\x07\\x00\\x0e\\x00\\x07\\x04\\x00\\x00Dr\\xc4\\xff\\x06\\x00\\x93\\x02\\x11\\x00=\\x00\\x0c\\x00\\x00Warning Text\\x92\\x08?\\x00\\x92\\x08\\x00\\x00\\x00\\x00\\x00\\x00\\x00\\x00\\x00\\x00\\x01\\x02\\x0b\\xff\\x0c\\x00W\\x00a\\x00r\\x00n\\x00i\\x00n\\x00g\\x00 \\x00T\\x00e\\x00x\\x00t\\x00\\x00\\x00\\x02\\x00\\x05\\x00\\x0c\\x00\\x05\\xff\\x00\\x00\\xff\\x00\\x00\\xff%\\x00\\x05\\x00\\x02\\x8e\\x08X\\x00\\x8e\\x08\\x00\\x00\\x00\\x00\\x00\\x00\\x00\\x00\\x00\\x00\\x90\\x00\\x00\\x00\\x11\\x00\\x11\\x00T\\x00a\\x00b\\x00l\\x00e\\x00S\\x00t\\x00y\\x00l\\x00e\\x00M\\x00e\\x00d\\x00i\\x00u\\x00m\\x002\\x00P\\x00i\\x00v\\x00o\\x00t\\x00S\\x00t\\x00y\\x00l\\x00e\\x00L\\x00i\\x00g\\x00h\\x00t\\x001\\x006\\x00`\\x01\\x02\\x00\\x00\\x00\\x85\\x00\\x0c\\x00\\x02<\\x00\\x00\\x00\\x00\\x04\\x00Data\\x9a\\x08\\x18\\x00\\x9a\\x08\\x00\\x00\\x00\\x00\\x00\\x00\\x00\\x00\\x00\\x00\\x00\\x00\\x00\\x00\\x00\\x00\\x00\\x00\\x01\\x00\\x00\\x00\\xa3\\x08\\x10\\x00\\xa3\\x08\\x00\\x00\\x00\\x00\\x00\\x00\\x00\\x00\\x00\\x00\\x00\\x00\\x00\\x00\\x8c\\x00\\x04\\x00\\x01\\x00\\x01\\x00\\xae\\x01\\x04\\x00\\x01\\x00\\x01\\x04\\x17\\x00\\x08\\x00\\x01\\x00\\x00\\x00\\x00\\x00\\x00\\x00\\xc1\\x01\\x08\\x00\\xc1\\x01\\x00\\x00\\x808\\x01\\x00\\xfc\\x00\\x1d\\x01#\\x00\\x00\\x00#\\x00\\x00\\x00\\x04\\x00\\x002012\\x03\\x00\\x00HND\\x03\\x00\\x00SLV\\x04\\x00\\x002002\\x04\\x00\\x002009\\x04\\x00\\x002003\\x04\\x00\\x001998\\x03\\x00\\x00NIC\\x04\\x00\\x002004\\x04\\x00\\x002013\\x04\\x00\\x001999\\x03\\x00\\x00BLZ\\x04\\x00\\x002005\\x04\\x00\\x002014\\x06\\x00\\x00Belize\\x04\\x00\\x002015\\x07\\x00\\x00Bermuda\\x04\\x00\\x002016\\x0c\\x00\\x00Country Code\\x04\\x00\\x002006\\x08\\x00\\x00Honduras\\x0b\\x00\\x00El Salvador\\x04\\x00\\x002000\\x04\\x00\\x002007\\t\\x00\\x00Nicaragua\\x04\\x00\\x001995\\x04\\x00\\x002001\\x04\\x00\\x002008\\x03\\x00\\x00BMU\\x04\\x00\\x002010\\x04\\x00\\x002017\\x04\\x00\\x001996\\x04\\x00\\x002011\\x0c\\x00\\x00Country Name\\x04\\x00\\x001997\\xff\\x00*\\x00\\x08\\x00\\x1e.\\x00\\x00\\x0c\\x00\\x00\\x00S.\\x00\\x00A\\x00\\x00\\x00\\x8c.\\x00\\x00z\\x00\\x00\\x00\\xda.\\x00\\x00\\xc8\\x00\\x00\\x00\\x16/\\x00\\x00\\x04\\x01\\x00\\x00c\\x08\\x16\\x00c\\x08\\x00\\x00\\x00\\x00\\x00\\x00\\x00\\x00\\x00\\x00\\x16\\x00\\x00\\x00\\x00\\x00\\x00\\x00\\x02\\x00\\x96\\x08W\\x0c\\x96\\x08\\x00\\x00\\x00\\x00\\x00\\x00\\x00\\x00\\x00\\x00\\r\\x8c\\x02\\x00PK\\x03\\x04\\x14\\x00\\x06\\x00\\x08\\x00\\x00\\x00!\\x00\\xe9\\xde\\x0f\\xbf\\xff\\x00\\x00\\x00\\x1c\\x02\\x00\\x00\\x13\\x00\\x00\\x00[Content_Types].xml\\xac\\x91\\xcbN\\xc30\\x10E\\xf7H\\xfc\\x83\\xe5-J\\x9c\\xb2@\\x08%\\xe9\\x82\\xc7\\x8e\\xc7\\xa2|\\xc0\\xc8\\x99$\\x16\\xc9\\xd8\\xb2\\xa7U\\xfb\\xf7L\\xd2TB\\xa8 \\x16l,\\xd93\\xf7\\x9e;\\xe3r\\xbd\\x1f\\x07\\xb5\\xc3\\x98\\x9c\\xa7J\\xaf\\xf2B+$\\xeb\\x1bG]\\xa5\\xdf7O\\xd9\\xadV\\x89\\x81\\x1a\\x18<a\\xa5\\x0f\\x98\\xf4\\xba\\xbe\\xbc(7\\x87\\x80I\\x89\\x9aR\\xa5{\\xe6pgL\\xb2=\\x8e\\x90r\\x1f\\x90\\xa4\\xd2\\xfa8\\x02\\xcb5v&\\x80\\xfd\\x80\\x0e\\xcduQ\\xdc\\x18\\xeb\\x89\\x918\\xe3\\xc9C\\xd7\\xe5\\x03\\xb6\\xb0\\x1dX=\\xee\\xe5\\xf9\\x98$\\xe2\\x90\\xb4\\xba?6N\\xacJC\\x08\\x83\\xb3\\xc0\\x92\\xd4\\xec\\xa8\\xf9F\\xc9\\x16B.\\xca\\xb9\\'\\xf5.\\xa4+\\x89\\xa1\\xcdY\\xc2T\\xf9\\x19\\xb0\\xe8^e5\\xd15\\xa8\\xde \\xf2\\x0b\\x8c\\x12\\xc3\\xb0\\x0c\\x89_\\xcfg \\x19-\\xe6\\xbf;\\x9e\\x89\\xec\\xdb\\xd6Yl\\xbc\\xdd\\x8e\\xb2\\x8e|6^\\xccN\\xc1\\xff\\x14`\\xf5?\\xe8\\x13\\xd3\\xcc\\x7f[\\x7f\\x02\\x00\\x00\\xff\\xff\\x03\\x00PK\\x03\\x04\\x14\\x00\\x06\\x00\\x08\\x00\\x00\\x00!\\x00\\xa5\\xd6\\xa7\\xe7\\xc0\\x00\\x00\\x006\\x01\\x00\\x00\\x0b\\x00\\x00\\x00_rels/.rels\\x84\\x8f\\xcfj\\xc30\\x0c\\x87\\xef\\x85\\xbd\\x83\\xd1}Q\\xd2\\xc3\\x18%v/\\xa5\\x90C/\\xa3}\\x00\\xe1(\\x7fh\"\\x1b\\xdb\\x1b\\xeb\\xdbO\\xc7\\x06\\n\\xbb\\x08\\x84\\xa4\\xef\\xf7\\xa9=\\xfe\\xae\\x8b\\xf9\\xe1\\x94\\xe7 \\x16\\x9a\\xaa\\x06\\xc3\\xe2C?\\xcbh\\xe1v=\\xbf\\x7f\\x82\\xc9\\x85\\xa4\\xa7%\\x08[xp\\x86\\xa3{\\xdb\\xb5_\\xbcP\\xd1\\xa3<\\xcd1\\x1b\\xa5H\\xb60\\x95\\x12\\x0f\\x88\\xd9O\\xbcR\\xaeBd\\xd1\\xc9\\x10\\xd2JE\\xdb4b$\\x7f\\xa7\\x91q_\\xd7\\x1f\\x98\\x9e\\x19\\xe06L\\xd3\\xf5\\x16R\\xd77`\\xae\\x8f\\xa8\\xc9\\xff\\xb3\\xc30\\xcc\\x9eO\\xc1\\x7f\\xaf,\\xe5E\\x04n7\\x94Li\\xe4b\\xa1\\xa8/\\xe3S\\xbd\\x90\\xa8e\\xaa\\xd4\\x1e\\xd0\\xb5\\xb8\\xf9\\xd6\\xfd\\x01\\x00\\x00\\xff\\xff\\x03\\x00PK\\x03\\x04\\x14\\x00\\x06\\x00\\x08\\x00\\x00\\x00!\\x00ky\\x96\\x16\\x83\\x00\\x00\\x00\\x8a\\x00\\x00\\x00\\x1c\\x00\\x00\\x00theme/theme/themeManager.xml\\x0c\\xccM\\n\\xc3 \\x10@\\xe1}\\xa1w\\x90\\xd97c\\xbb(Eb\\xb2\\xcb\\xae\\xbb\\xf6\\x00C\\x9c\\x1aA\\xc7\\xa0\\xd2\\x9f\\xdb\\xd7\\xe5\\xe3\\x837\\xce\\xdf\\x14\\xd5\\x9bK\\rY,\\x9c\\x07\\r\\x8ae\\xcd.\\x88\\xb7\\xf0|,\\xa7\\x1b\\xa8\\xdaH\\x1c\\xc5,l\\xe1\\xc7\\x15\\xe6\\xe9x\\x18\\xc9\\xb4\\x8d\\x13\\xdfI\\xc8sQ}#\\xd5\\x90\\x85\\xad\\xb5\\xdd \\xd6\\xb5+\\xd5!\\xef,\\xdd^\\xb9$j=\\x8bGW\\xe8\\xd3\\xf7)\\xe2E\\xeb+&\\n\\x028\\xfd\\x01\\x00\\x00\\xff\\xff\\x03\\x00PK\\x03\\x04\\x14\\x00\\x06\\x00\\x08\\x00\\x00\\x00!\\x00N\\xd2m\\xd1\\xcf\\x06\\x00\\x00\\xb0\\x1f\\x00\\x00\\x16\\x00\\x00\\x00theme/theme/theme1.xml\\xecYKo\\x1b7\\x10\\xbe\\x17\\xe8\\x7fX\\xec\\xbd\\xb1d\\xeb\\x11\\x19\\x91\\x03\\xeb\\x15\\'\\xb1l#RR\\xe4HI\\xd4.-\\xeerARvt+\\x92S/\\x05\\n\\xa4E/\\x05z\\xeb\\xa1(\\x1a\\xa0\\x01\\x1a\\xf4\\xd2\\x1fc A\\x9b\\xfe\\x88\\x0e\\xb9\\xd2.)Q\\xf1\\x03F\\x91\\x16\\xb6\\x00CK}3\\xfc83;3;{\\xe7\\xee\\xb3\\x88z\\'\\x98\\x0b\\xc2\\xe2\\xba_\\xbcU\\xf0=\\x1c\\x0f\\xd9\\x88\\xc4A\\xdd\\x7f\\xdc\\xef|v\\xdb\\xf7\\x84D\\xf1\\x08Q\\x16\\xe3\\xba?\\xc3\\xc2\\xbf\\xbb\\xf3\\xe9\\'w\\xd0\\xb6\\x0cq\\x84=\\x90\\x8f\\xc56\\xaa\\xfb\\xa1\\x94\\xc9\\xf6\\xc6\\x86\\x18\\xc22\\x12\\xb7X\\x82c\\xf8m\\xccx\\x84$\\\\\\xf2`c\\xc4\\xd1)\\xe8\\x8d\\xe8\\xc6f\\xa1P\\xd9\\x88\\x10\\x89}/F\\x11\\xa8=\\x1c\\x8f\\xc9\\x10{}\\xa5\\xd2\\xdfY(oS\\xb8\\x8c\\xa5P\\x0bC\\xca{J5\\xb6$4v4)*\\x84\\x98\\x89&\\xe5\\xde\\t\\xa2u\\x1f\\xf6\\x19\\xb1\\xd3>~&}\\x8f\"!\\xe1\\x87\\xba_\\xd0\\x7f\\xfe\\xc6\\xce\\x9d\\r\\xb4=\\x17\\xa2r\\x8d\\xac!\\xd7\\xd1\\x7fs\\xb9\\xb9\\xc0h\\xb2\\xa9\\xf7\\xe4\\xc1 \\xdb\\xb4T*\\x97*\\xbb\\x99~\\r\\xa0r\\x15\\xd7\\xae\\xb6+\\xedJ\\xa6O\\x03\\xd0p\\x08\\'M\\xb9\\xd8:\\xab\\x9b\\xcd\\xd2\\x1ck\\x80\\xd2\\xaf\\x0e\\xdd\\xadjk\\xabh\\xe1\\r\\xfd[+\\x9cw\\xcb\\xeac\\xe15(\\xd5_Z\\xc1w:M\\xb0\\xa2\\x85\\xd7\\xa0\\x14_^\\xc1\\x97\\x1b\\xb5F\\xcb\\xd6\\xafA)\\xbe\\xb2\\x82\\xaf\\x16v[\\xa5\\xaa\\xa5_\\x83BJ\\xe2\\xc9\\n\\xbaP\\xael5\\x17\\xa7\\xcd cF\\xf7\\x9c\\xf0Z\\xb9\\xd4\\xa9n\\xce\\x95\\xe7(\\x88\\x86,\\xba\\xd4\\x16c\\x16\\xcbu\\xb1\\x16\\xa1c\\xc6;\\x00P@\\x8a$\\x89=9K\\xf0\\x18\\r!\\x8a\\x9b\\x88\\x92\\x01\\'\\xde>\\tB\\x08\\xbc\\x04\\xc5L\\xc0ra\\xb3\\xd0)l\\xc1\\x7f\\xf5)\\xe9o\\xda\\xa3h\\x1b#CZ\\xf1\\x02&beI\\xf1\\xf1\\xc4\\x90\\x93D\\xd6\\xfd\\x07\\xa0\\xd57 o\\xdf\\xbc9{\\xfe\\xfa\\xec\\xf9og/^\\x9c=\\xffe\\xbe\\xb7Ve\\xc9\\xed\\xa180\\xe5\\xde\\xff\\xf8\\xf5\\xdf\\xdf\\x7f\\xe1\\xfd\\xf5\\xeb\\x0f\\xef_~\\x93n\\xbd\\x8c\\x17&\\xfe\\xdd\\xcf_\\xbe\\xfb\\xfd\\x8f\\x0f\\xa9\\x87\\x13\\xe7\\xa6x\\xfb\\xed\\xabw\\xaf_\\xbd\\xfd\\xee\\xab?\\x7fz\\xe9\\xd0\\xbe\\xcb\\xd1\\xc0\\x84\\xf7I\\x84\\x85w\\x80O\\xbdG,\\x82\\x03:\\xf8\\xe3\\x01\\xbf\\x9cD?D\\xc4\\x92@!\\xe8v\\xa8n\\xcb\\xd0\\x02\\x1e\\xcc\\x10u\\xe1\\x1a\\xd86\\xe1\\x13\\x0eY\\xc6\\x05\\xbc7=\\xb6\\xb8\\xf6B>\\x95\\xc4\\xb1\\xf3\\xc30\\xb2\\x80]\\xc6h\\x83q\\xa7\\x01\\x1e\\xaa\\xbd\\x0c\\x0b\\xf7\\xa7q\\xe0\\xde\\x9cOM\\xdc#\\x84N\\\\{7Ql9\\xb8=M \\xbd\\x12\\x97\\xcaf\\x88-\\x9aG\\x14\\xc5\\x12\\x058\\xc6\\xd2S\\xbf\\xb1\\t\\xc6\\x8e\\xd3=%\\xc4\\xb2k\\x97\\x0c9\\x13l,\\xbd\\xa7\\xc4k \\xe24I\\x9f\\x0c\\xac@\\xca\\x85\\xf6H\\x04~\\x99\\xb9\\x08\\x82\\xab-\\xdbt\\x9fx\\rF]\\xa7n\\xe1\\x13\\x1b\\t\\xb7\\x05\\xa2\\x0e\\xf2}L-3\\xdeCS\\x89\"\\x97\\xca>\\x8a\\xa8i\\xf0}$C\\x17\\xc9\\xde\\x8c\\x0fM\\\\[H\\xf0t\\x80)\\xf3\\xda#,\\x84K\\xe6\\x90\\xc3y\\r\\xa7?\\x84\\x0c\\xe3v{\\x97\\xce\"\\x1b\\xc9%\\x99\\xb8t\\xee#\\xc6Ld\\x8bM\\x9a!\\x8a\\x12\\x17\\xb6G\\xe2\\xd0\\xc4\\xde\\x17\\x13\\x08Q\\xe4\\x1d1\\xe9\\x82w\\x99}\\x87\\xa8k\\xf0\\x03\\x8a\\xd7\\xba\\xfb\\t\\xc1\\x96\\xbb\\xcfO\\x04\\x8f!\\xb9\\x9a\\x94\\xf2\\x00Q\\xbfL\\xb9\\xc3\\x97\\xf70\\xb3\\xe2\\xb77\\xa3c\\x84]Yf\\x97GVv\\xdd\\xe5\\xc4\\x19\\x1d\\x8di`\\x85\\xf6>\\xc6\\x14\\x9d\\xa2\\x11\\xc6\\xde\\xe3\\xfb\\x0e\\x06\\r\\x96X6\\xcfI?\\x08!\\xab\\xecaW`=@v\\xac\\xaa\\xeb\\x18\\x0bh\\x93T_\\xb3\\x9a\"\\xf7\\x89\\xb0B\\xb6\\x87\\x03\\xb6\\x86Ow\\xb6\\x94xf(\\x8e\\x10_\\xa7\\xf9\\x00\\xbcn\\xda\\xbc\\rU\\xce\\x99J\\x0f\\xe9pb\\x02\\x0f\\x08\\xb4\\x7f\\x10/N\\xa3\\x1c\\n\\xd0a\\x04\\xf7Z\\xadG!\\xb2j\\x97\\xba\\x16\\xeex\\x9dq\\xcb\\x7f\\x17\\xb9\\xc7\\xe0\\xbe<\\xb6h\\\\\\xe0\\xbe\\x04\\x19|i\\x19H\\xec\\xa6\\xcc\\x07m\\xd3G\\xd4\\xda \\x0f\\x98>\\x82\\x06\\xc3\\x95nA\\xc4r\\x7f.\\xa2\\xea\\xaa\\x16\\x9b:\\xe5\\xc6\\xf6M\\x9b\\xbb\\x01\\x1a#\\xab\\xdf\\x89H|n\\xf3\\xb3\\xd4\\xf6\\x94\\xff\\x9d\\xb6\\xc7q7\\\\O\\xc3\\xe3Vl\\xa5\\xacK\\xb6:\\xebR\\xca\\xdeR\\x83\\xb3\\x0e\\xf7\\x1flkZh\\x1a\\x1fa\\xa8$\\xab9\\xeb\\xa6\\xab\\xb9\\xe9j\\xfc\\xff}W\\xb3\\xee^\\xbe\\xe9e\\xd6u\\x1c7\\xbd\\x8c\\x0f=\\xc6M/3\\x9f\\xac\\\\O/\\x93\\xb7/\\xd0\\xd9\\xa8iG:\\xe5\\xd13\\x9fh\\xed\\xc8gL(\\xed\\xc9\\x19\\xc5\\xfbBO}\\x04<\\xd1\\x8c:\\xb0\\xa8\\xe4\\xf4\\xb8\\x13g#\\xc0$\\x84\\xaf\\xaa\\xcc\\xc1\\x06\\x16.\\xe0H\\xcbx\\x9c\\xc9\\xcf\\x89\\x0c{!J`4T\\xf4\\x95\\x92@\\xccU\\x07\\xc2K\\x98\\x80\\x89\\x91^v\\xeaVx:\\x8d\\xbal\\x94N:\\x8bE5\\xd5L+\\xab@2_/\\x94\\xb3u\\x98R\\xc9\\x14]\\xa9\\xe6\\xd3\\xbbL\\xbdf\\x1b\\xe8)\\xeb\\x82\\x80\\x92\\xbd\\x0c\\tc3\\x9b\\xc4\\x96\\x83Du\\xb1\\xa8\\x8c\\xa4g\\xba`4\\x07\\t}\\xb2kaQs\\xb0\\xb8\\xad\\xd4/\\\\\\xb5\\xc2\\x02\\xa8e^\\x81Gn\\x0f\\x1e\\xd4\\xeb~\\xb9\\x04\" \\x04\\xc38h\\xcfG\\xcaO\\xa9\\xab\\x17\\xde\\xd5\\xce\\xbcNO\\xaf3\\xa6\\x15\\x01\\xd0b/\" \\xf7tMq]{<u\\xba4\\xd4.\\xe0i\\x8b\\x84\\x11n6\\tm\\x19\\xdd\\xe0\\x89\\x10\\x1e\\x84\\xe7\\xd1\\xa9V/B\\xe3\\xb2\\xbe\\xae\\xe5.\\xb5\\xe8)S\\xe8\\xfd \\xb4r\\x1a\\xd5\\xdb\\x1fbqU_\\x83\\xdcrn\\xa0\\xb1\\x99)h\\xec\\x9d\\xd6\\xfd\\xcaV\\x19Bf\\x88\\x92\\xba?\\x86\\x891|\\x8d\\x12\\x88\\x1d\\xa1\\x9e\\xba\\x10\\r\\xe0\\xb5\\xcbP\\xf2\\xf4\\x86\\xbfJfI\\xb8\\x90-$\\xc2\\xd4\\xe0:\\xe9\\xa4\\xd9 \"\\x12s\\x8f\\x92\\xa8\\xee\\xab\\xe3gn\\xa0\\xb1\\xce!\\x9a[q\\x13\\x12\\xc2GK\\xae\\x06i\\xe5c#\\x07N\\xb7\\x9d\\x8c\\xc7c<\\x94\\xa6\\xdb\\x8d\\x15e\\xe9\\xf4\\x122|\\x9a+\\x9c\\xbfj\\xf1\\xab\\x83\\x95$\\x9b\\x82\\xbb{\\xe1\\xe8\\xd4\\x1b\\xd0)\\x7f\\x84 \\xc4\\xca\\xd5\\xa22\\xe0\\x88\\x08xqPL\\xad9\"\\xf0&,Kdy\\xfc-\\x15\\xa6y\\xda5_E\\xe9\\x18J\\xd7\\x11MB4\\xaf(f2O\\xe1:\\x95gt\\xf4Uf\\x03\\xe3j~f0\\xa8a\\x92y!\\x1c\\x04\\xaa\\xc0\\x9aF\\xb5\\xaaiV5R\\x0ek\\xab\\xee\\xf9B\\xcarF\\xd2\\xcck\\xa6\\x95UT\\xd5tg1k\\x87E\\x19X\\xb2\\xe5\\xd5\\x8a\\xbc\\xc1jab\\xc8if\\x85OS\\xf7r\\xca\\xad-r\\xddR\\x9f\\x90U\\t0xf?G\\xd5\\xbd@A0\\xa8\\xe5\\x9bY\\xd4\\x14\\xe3\\xd54\\xacr\\xf6|\\xd5\\xae\\x1d\\x8b\\x03\\x9eC\\xed\"E\\xc2\\xc8\\xfa\\x95\\x85\\xda%\\xbbe5\\xc2\\xb9\\x1d,^\\xa9\\xf2\\x83\\xdcr\\xd4\\xc2\\xd2x\\xd1WjK\\xebW\\xe6\\xe6[m68\\x86\\xe4\\xd1\\x82.wJ\\xa5\\xd0\\xae\\x84\\xd9.G\\xd0\\x10\\xf5tO\\x92\\xa5\\r-\\xba\\xf3\\x0f\\x00\\x00\\x00\\xff\\xff\\x03\\x00PK\\x03\\x04\\x14\\x00\\x06\\x00\\x08\\x00\\x00\\x00!\\x00\\r\\xd1\\x90\\x9f\\xb6\\x00\\x00\\x00\\x1b\\x01\\x00\\x00\\'\\x00\\x00\\x00theme/theme/_rels/themeManager.xml.rels\\x84\\x8fM\\n\\xc20\\x14\\x84\\xf7\\x82w\\x08oo\\xd3\\xba\\x10\\x91&\\xdd\\x88\\xd0\\xad\\xd4\\x03\\x84\\xe45\\r6?$Q\\xec\\xed\\r\\xae,\\x08.\\x87a\\xbe\\x99i\\xbb\\x97\\x9d\\xc9\\x13c2\\xde1h\\xaa\\x1a\\x08:\\xe9\\x95q\\x9a\\xc1m\\xb8\\xec\\x8e@R\\x16N\\x89\\xd9;d\\xb0`\\x82\\x8eo7\\xed\\x15g\\x91K(M&$R(.1\\x98r\\x0e\\'J\\x93\\x9c\\xd0\\x8aT\\xf9\\x80\\xae8\\xa3\\x8fV\\xe4\"\\xa3\\xa6A\\xc8\\xbb\\xd0H\\xf7u}\\xa0\\xf1\\x9b\\x01|\\xc5$\\xbdb\\x10{\\xd5\\x00\\x19\\x96P\\x9a\\xff\\xb3\\xfd8\\x1a\\x89g/\\x1f\\x16]\\xfeQAs\\xd9\\x85\\x05(\\xa2\\xc6\\xcc\\xe0#\\x9b\\xaaL\\x04\\xca[\\xba\\xba\\xc4\\xdf\\x00\\x00\\x00\\xff\\xff\\x03\\x00PK\\x01\\x02-\\x00\\x14\\x00\\x06\\x00\\x08\\x00\\x00\\x00!\\x00\\xe9\\xde\\x0f\\xbf\\xff\\x00\\x00\\x00\\x1c\\x02\\x00\\x00\\x13\\x00\\x00\\x00\\x00\\x00\\x00\\x00\\x00\\x00\\x00\\x00\\x00\\x00\\x00\\x00\\x00\\x00[Content_Types].xmlPK\\x01\\x02-\\x00\\x14\\x00\\x06\\x00\\x08\\x00\\x00\\x00!\\x00\\xa5\\xd6\\xa7\\xe7\\xc0\\x00\\x00\\x006\\x01\\x00\\x00\\x0b\\x00\\x00\\x00\\x00\\x00\\x00\\x00\\x00\\x00\\x00\\x00\\x00\\x000\\x01\\x00\\x00_rels/.relsPK\\x01\\x02-\\x00\\x14\\x00\\x06\\x00\\x08\\x00\\x00\\x00!\\x00ky\\x96\\x16\\x83\\x00\\x00\\x00\\x8a\\x00\\x00\\x00\\x1c\\x00\\x00\\x00\\x00\\x00\\x00\\x00\\x00\\x00\\x00\\x00\\x00\\x00\\x19\\x02\\x00\\x00theme/theme/themeManager.xmlPK\\x01\\x02-\\x00\\x14\\x00\\x06\\x00\\x08\\x00\\x00\\x00!\\x00N\\xd2m\\xd1\\xcf\\x06\\x00\\x00\\xb0\\x1f\\x00\\x00\\x16\\x00\\x00\\x00\\x00\\x00\\x00\\x00\\x00\\x00\\x00\\x00\\x00\\x00\\xd6\\x02\\x00\\x00theme/theme/theme1.xmlPK\\x01\\x02-\\x00\\x14\\x00\\x06\\x00\\x08\\x00\\x00\\x00!\\x00\\r\\xd1\\x90\\x9f\\xb6\\x00\\x00\\x00\\x1b\\x01\\x00\\x00\\'\\x00\\x00\\x00\\x00\\x00\\x00\\x00\\x00\\x00\\x00\\x00\\x00\\x00\\xd9\\t\\x00\\x00theme/theme/_rels/themeManager.xml.relsPK\\x05\\x06\\x00\\x00\\x00\\x00\\x05\\x00\\x05\\x00]\\x01\\x00\\x00\\xd4\\n\\x00\\x00\\x00\\x00\\x9b\\x08\\x10\\x00\\x9b\\x08\\x00\\x00\\x00\\x00\\x00\\x00\\x00\\x00\\x00\\x00\\x01\\x00\\x00\\x00\\x8c\\x08\\x10\\x00\\x8c\\x08\\x00\\x00\\x00\\x00\\x00\\x00\\x00\\x00\\x00\\x00\\x00\\x00\\x00\\x00\\n\\x00\\x00\\x00\\t\\x08\\x10\\x00\\x00\\x06\\x10\\x00ZO\\xcd\\x07\\xc9\\x00\\x02\\x00\\x06\\x08\\x00\\x00\\x0b\\x02\\x14\\x00\\x00\\x00\\x00\\x00\\x00\\x00\\x00\\x00\\x06\\x00\\x00\\x00\\x18=\\x00\\x008D\\x00\\x00\\r\\x00\\x02\\x00\\x01\\x00\\x0c\\x00\\x02\\x00d\\x00\\x0f\\x00\\x02\\x00\\x01\\x00\\x11\\x00\\x02\\x00\\x00\\x00\\x10\\x00\\x08\\x00\\xfc\\xa9\\xf1\\xd2MbP?_\\x00\\x02\\x00\\x01\\x00*\\x00\\x02\\x00\\x00\\x00+\\x00\\x02\\x00\\x00\\x00\\x82\\x00\\x02\\x00\\x01\\x00\\x80\\x00\\x08\\x00\\x00\\x00\\x00\\x00\\x00\\x00\\x00\\x00%\\x02\\x04\\x00\\x00\\x00,\\x01\\x81\\x00\\x02\\x00\\xc1\\x04\\x14\\x00\\x00\\x00\\x15\\x00\\x00\\x00\\x83\\x00\\x02\\x00\\x00\\x00\\x84\\x00\\x02\\x00\\x00\\x00&\\x00\\x08\\x00ffffff\\xe6?\\'\\x00\\x08\\x00ffffff\\xe6?(\\x00\\x08\\x00\\x00\\x00\\x00\\x00\\x00\\x00\\xe8?)\\x00\\x08\\x00\\x00\\x00\\x00\\x00\\x00\\x00\\xe8?\\xa1\\x00\"\\x00\\x03\\x00,\\x01\\x01\\x00\\x01\\x00\\x01\\x00\\x04\\x00\\r\\x8c\\x02\\x00333333\\xd3?333333\\xd3?\\x0f\\xbf\\x9c\\x08&\\x00\\x9c\\x08\\x00\\x00\\x00\\x00\\x00\\x00\\x00\\x00\\x00\\x00\\x00\\x00\\x00\\x00\\x00\\x00\\x00\\x00\\x00\\x00\\x00\\x00\\x00\\x00\\x00\\x0043\\x00\\x00\\x00\\x00\\x00\\x00\\x00\\x00U\\x00\\x02\\x00\\n\\x00}\\x00\\x0c\\x00\\x00\\x00\\x00\\x00\\x00,\\x0f\\x00\\x06\\x00\\x00\\x00}\\x00\\x0c\\x00\\x01\\x00\\x01\\x00\\xaa\\x19\\x0f\\x00\\x06\\x00\\x00\\x00}\\x00\\x0c\\x00\\x02\\x00\\x18\\x00\\x00\\x0c\\x0f\\x00\\x06\\x00\\x00\\x00}\\x00\\x0c\\x00\\x19\\x00\\x1a\\x00\\x00\\x05\\x0f\\x00\\x06\\x00\\x00\\x00}\\x00\\x0c\\x00\\x1b\\x00\\x00\\x01\\xd5\\x08\\x0f\\x00\\x02\\x00\\x00\\x00\\x00\\x02\\x0e\\x00\\x00\\x00\\x00\\x00\\x06\\x00\\x00\\x00\\x00\\x00\\x19\\x00\\x00\\x00\\x08\\x02\\x10\\x00\\x00\\x00\\x00\\x00\\x19\\x00,\\x01\\x00\\x00\\x00\\x00\\x00\\x01\\x0f\\x00\\x08\\x02\\x10\\x00\\x01\\x00\\x00\\x00\\x19\\x00,\\x01\\x00\\x00\\x00\\x00\\x80\\x01>\\x00\\x08\\x02\\x10\\x00\\x02\\x00\\x00\\x00\\x19\\x00,\\x01\\x00\\x00\\x00\\x00\\x80\\x01>\\x00\\x08\\x02\\x10\\x00\\x03\\x00\\x00\\x00\\x19\\x00,\\x01\\x00\\x00\\x00\\x00\\x80\\x01>\\x00\\x08\\x02\\x10\\x00\\x04\\x00\\x00\\x00\\x19\\x00,\\x01\\x00\\x00\\x00\\x00\\x80\\x01>\\x00\\x08\\x02\\x10\\x00\\x05\\x00\\x00\\x00\\x19\\x00,\\x01\\x00\\x00\\x00\\x00\\x80\\x01>\\x00\\xfd\\x00\\n\\x00\\x00\\x00\\x00\\x00\\x0f\\x00!\\x00\\x00\\x00\\xfd\\x00\\n\\x00\\x00\\x00\\x01\\x00\\x0f\\x00\\x12\\x00\\x00\\x00\\xfd\\x00\\n\\x00\\x00\\x00\\x02\\x00\\x0f\\x00\\x19\\x00\\x00\\x00\\xfd\\x00\\n\\x00\\x00\\x00\\x03\\x00\\x0f\\x00\\x1f\\x00\\x00\\x00\\xfd\\x00\\n\\x00\\x00\\x00\\x04\\x00\\x0f\\x00\"\\x00\\x00\\x00\\xfd\\x00\\n\\x00\\x00\\x00\\x05\\x00\\x0f\\x00\\x06\\x00\\x00\\x00\\xfd\\x00\\n\\x00\\x00\\x00\\x06\\x00\\x0f\\x00\\n\\x00\\x00\\x00\\xfd\\x00\\n\\x00\\x00\\x00\\x07\\x00\\x0f\\x00\\x16\\x00\\x00\\x00\\xfd\\x00\\n\\x00\\x00\\x00\\x08\\x00\\x0f\\x00\\x1a\\x00\\x00\\x00\\xfd\\x00\\n\\x00\\x00\\x00\\t\\x00\\x0f\\x00\\x03\\x00\\x00\\x00\\xfd\\x00\\n\\x00\\x00\\x00\\n\\x00\\x0f\\x00\\x05\\x00\\x00\\x00\\xfd\\x00\\n\\x00\\x00\\x00\\x0b\\x00\\x0f\\x00\\x08\\x00\\x00\\x00\\xfd\\x00\\n\\x00\\x00\\x00\\x0c\\x00\\x0f\\x00\\x0c\\x00\\x00\\x00\\xfd\\x00\\n\\x00\\x00\\x00\\r\\x00\\x0f\\x00\\x13\\x00\\x00\\x00\\xfd\\x00\\n\\x00\\x00\\x00\\x0e\\x00\\x0f\\x00\\x17\\x00\\x00\\x00\\xfd\\x00\\n\\x00\\x00\\x00\\x0f\\x00\\x0f\\x00\\x1b\\x00\\x00\\x00\\xfd\\x00\\n\\x00\\x00\\x00\\x10\\x00\\x0f\\x00\\x04\\x00\\x00\\x00\\xfd\\x00\\n\\x00\\x00\\x00\\x11\\x00\\x0f\\x00\\x1d\\x00\\x00\\x00\\xfd\\x00\\n\\x00\\x00\\x00\\x12\\x00\\x0f\\x00 \\x00\\x00\\x00\\xfd\\x00\\n\\x00\\x00\\x00\\x13\\x00\\x0f\\x00\\x00\\x00\\x00\\x00\\xfd\\x00\\n\\x00\\x00\\x00\\x14\\x00\\x0f\\x00\\t\\x00\\x00\\x00\\xfd\\x00\\n\\x00\\x00\\x00\\x15\\x00\\x0f\\x00\\r\\x00\\x00\\x00\\xfd\\x00\\n\\x00\\x00\\x00\\x16\\x00\\x0f\\x00\\x0f\\x00\\x00\\x00\\xfd\\x00\\n\\x00\\x00\\x00\\x17\\x00\\x0f\\x00\\x11\\x00\\x00\\x00\\xfd\\x00\\n\\x00\\x00\\x00\\x18\\x00\\x0f\\x00\\x1e\\x00\\x00\\x00\\xfd\\x00\\n\\x00\\x01\\x00\\x00\\x00>\\x00\\x0e\\x00\\x00\\x00\\xfd\\x00\\n\\x00\\x01\\x00\\x01\\x00>\\x00\\x0b\\x00\\x00\\x00\\xbd\\x00\\x90\\x00\\x01\\x00\\x02\\x00>\\x00\\x02\\xbe\\x98\\x12>\\x00\\x02W\\xa6\\x16>\\x00\\x02i \\x17>\\x00\\x02\\x8d\\x14\\x18>\\x00\\x02\\x8d\\x14\\x18>\\x00\\x02\\xe7v\\x1a>\\x00\\x02\\xe7v\\x1a>\\x00\\x02A\\xd9\\x1c>\\x00\\x02F\\xc3#>\\x00\\xf4\\x06\\xa4A>\\x00\\x02\\x86\\x053>\\x00\\x02$\\xfd=>\\x00\\x02)\\xe7D>\\x00\\x02\\xc6GB>\\x00\\x80\\x84\\xaeA>\\x00\\xa4x\\xafA>\\x00\\\\\\x90\\xadA>\\x00\\x02z\\x0cG>\\x00\\x02W\\xafS>\\x00\\x02\\\\\\x99Z>\\x00\\x02\\x14\\xb1X>\\x00\\x02\\xbf8]>\\x00\\x02\\x03\\xcee\\x18\\x00\\xfd\\x00\\n\\x00\\x02\\x00\\x00\\x00>\\x00\\x10\\x00\\x00\\x00\\xfd\\x00\\n\\x00\\x02\\x00\\x01\\x00>\\x00\\x1c\\x00\\x00\\x00\\xbd\\x00N\\x00\\x02\\x00\\x02\\x00>\\x00\\x02(Yt>\\x00\\x02\\x98\\x88p>\\x00\\x02\\xce\\xf6q>\\x00\\x02\\x1f\\x1ct>\\x00\\x02\\xd73r>\\x00\\x02\\'\\xc2f>\\x00\\x02W\\xafS>\\x00\\x02J\\x1fZ>\\x00\\x02<\\xf8R>\\x00\\x02\\xfa\\x90e>\\x00\\x02\\x15Hf>\\x00\\x02g\\x04v\\r\\x00\\x03\\x02\\x0e\\x00\\x02\\x00\\x0e\\x00>\\x00\\x00\\x00\\x00  \\xf5\\xc0A\\xbd\\x00B\\x00\\x02\\x00\\x0f\\x00>\\x00\\x02\\'\\xc2f>\\x00\\x02\\xdeBW>\\x00\\x02\\x8aai>\\x00\\x02\\x945w>\\x00\\xf0\\xb3\\xbaA>\\x00\\x02\\xb7\\x92j>\\x00\\x02O\\ta>\\x00\\x02\\x027X>\\x00\\x02\\x81$i>\\x00\\x02\\tOz\\x18\\x00\\xfd\\x00\\n\\x00\\x03\\x00\\x00\\x00>\\x00\\x14\\x00\\x00\\x00\\xfd\\x00\\n\\x00\\x03\\x00\\x01\\x00>\\x00\\x01\\x00\\x00\\x00\\xbd\\x00H\\x00\\x03\\x00\\x02\\x00>\\x00\\x02\\xfdC\\x14>\\x00\\x02/_\\x1c>\\x00\\xac\\x1e\\xa2A>\\x00\\x02\\'\\xb9)>\\x00\\x02\\x86\\x053>\\x00\\x02?\\xb4>>\\x00\\x02$\\xfd=>\\x00\\x02\\xb9\\xb7H>\\x00\\x02\\x14\\xb1X>\\x00\\x02\\xc4\"d>\\x00\\x02Y\\xddn\\x0c\\x00\\x03\\x02\\x0e\\x00\\x03\\x00\\r\\x00>\\x00\\x01\\x00\\x00 \\xf5\\xbc\\xbeA\\x03\\x02\\x0e\\x00\\x03\\x00\\x0e\\x00>\\x00\\x00\\x00\\x00 :J\\xc0A\\x03\\x02\\x0e\\x00\\x03\\x00\\x0f\\x00>\\x00\\x00\\x00\\x00\\xe0\\xb2x\\xc2A\\x03\\x02\\x0e\\x00\\x03\\x00\\x10\\x00>\\x00\\x00\\x00\\x00Px\\\\\\xc2A\\x03\\x02\\x0e\\x00\\x03\\x00\\x11\\x00>\\x00\\x00\\x00\\x00pW\\xad\\xc2A\\x03\\x02\\x0e\\x00\\x03\\x00\\x12\\x00>\\x00\\x00\\x00\\x00\\xb0A\\x1e\\xc3A\\x03\\x02\\x0e\\x00\\x03\\x00\\x13\\x00>\\x00\\x00\\x00\\x00\\x907`\\xc4A\\x03\\x02\\x0e\\x00\\x03\\x00\\x14\\x00>\\x00\\x00\\x00\\x00@\\xf7j\\xc2A\\x03\\x02\\x0e\\x00\\x03\\x00\\x15\\x00>\\x00\\x00\\x00\\x00@Z\\n\\xc5A\\x03\\x02\\x0e\\x00\\x03\\x00\\x16\\x00>\\x00\\x00\\x00\\x00\\xe0R\\xff\\xc3A\\x03\\x02\\x0e\\x00\\x03\\x00\\x17\\x00>\\x00\\x00\\x00\\x00\\x80\\x93\\xdc\\xc4A\\x03\\x02\\x0e\\x00\\x03\\x00\\x18\\x00>\\x00\\x00\\x00\\x00@l\\x84\\xc5A\\xfd\\x00\\n\\x00\\x04\\x00\\x00\\x00>\\x00\\x18\\x00\\x00\\x00\\xfd\\x00\\n\\x00\\x04\\x00\\x01\\x00>\\x00\\x07\\x00\\x00\\x00\\xbd\\x00\\x84\\x00\\x04\\x00\\x02\\x00>\\x00\\x02\\xcb(\\x0c>\\x00\\x02\\xef\\x1c\\r>\\x00\\x02\\xe2\\x8c\\x13>\\x00\\x02\\x9f\\x8e\\x18>\\x00\\x80\\x84\\x9eA>\\x00\\x02\\x89\\xc1\\x1e>\\x00\\x02\\xbf/ >\\x00\\x02\\xbf/ >\\x00\\xd0\\x12\\xa3A>\\x00`\\xe3\\xa6A>\\x00\\x02>\\x1d1>\\x00\\x02\\xc1];>\\x00\\x02\\xbd\\nB>\\x00\\x02\\xa7=H>\\x00\\xf4\\x06\\xb4A>\\x00\\x02\\n\\xddJ>\\x00\\x02\\xbf8]>\\x00\\x02\\xcd_d>\\x00\\x02\\xa9kc>\\x00\\x02\\xaeUj>\\x00\\xa4x\\xbfA\\x16\\x00\\x03\\x02\\x0e\\x00\\x04\\x00\\x17\\x00>\\x00\\x00\\x00\\x00@\\x12\"\\xc3A\\x03\\x02\\x0e\\x00\\x04\\x00\\x18\\x00>\\x00\\x00\\x00\\x00 R\\x10\\xc9A\\xfd\\x00\\n\\x00\\x05\\x00\\x00\\x00>\\x00\\x15\\x00\\x00\\x00\\xfd\\x00\\n\\x00\\x05\\x00\\x01\\x00>\\x00\\x02\\x00\\x00\\x00\\xbd\\x006\\x00\\x05\\x00\\x02\\x00>\\x00\\xac\\x1e\\xa2A>\\x00\\x02s\\xf4$>\\x00\\x02=\\x86#>\\x00\\x02>\\x1d1>\\x00\\x02XFa>\\x00\\x02]0h>\\x00\\x02\\xe4\\xc3k>\\x00\\x02Q7|\\t\\x00\\x03\\x02\\x0e\\x00\\x05\\x00\\n\\x00>\\x00\\x00\\x00\\x00\\x00\\xeb\\xc9\\xc3A\\x03\\x02\\x0e\\x00\\x05\\x00\\x0b\\x00>\\x00\\x00\\x00\\x00\\x80\\xc9J\\xc6A\\x03\\x02\\x0e\\x00\\x05\\x00\\x0c\\x00>\\x00\\x00\\x00\\x00\\x00\\xe2\\x8c\\xc3A\\x03\\x02\\x0e\\x00\\x05\\x00\\r\\x00>\\x00\\x00\\x00\\x00\\xc0\\xc3q\\xc4A\\x03\\x02\\x0e\\x00\\x05\\x00\\x0e\\x00>\\x00\\x00\\x00\\x00 \\x1c\\xa2\\xc7A\\x03\\x02\\x0e\\x00\\x05\\x00\\x0f\\x00>\\x00\\x00\\x00\\x00\\xe0\\x7f0\\xc5A\\x03\\x02\\x0e\\x00\\x05\\x00\\x10\\x00>\\x00\\x00\\x00\\x00\\xa0\\x89\\\\\\xc0A\\x03\\x02\\x0e\\x00\\x05\\x00\\x11\\x00>\\x00\\x00\\x00\\x00\\xc0\\x96@\\xc3A\\x03\\x02\\x0e\\x00\\x05\\x00\\x12\\x00>\\x00\\x00\\x00\\x00 \\xd4\\xb9\\xc5A\\x03\\x02\\x0e\\x00\\x05\\x00\\x13\\x00>\\x00\\x00\\x00\\x00\\x80t\\xd2\\xcaA\\x03\\x02\\x0e\\x00\\x05\\x00\\x14\\x00>\\x00\\x00\\x00\\x00\\xc0ai\\xcfA\\x03\\x02\\x0e\\x00\\x05\\x00\\x15\\x00>\\x00\\x00\\x00\\x00\\xd0\\xe2%\\xd3A\\x03\\x02\\x0e\\x00\\x05\\x00\\x16\\x00>\\x00\\x00\\x00\\x00\\xb0\\x14\\xed\\xd1A\\x03\\x02\\x0e\\x00\\x05\\x00\\x17\\x00>\\x00\\x00\\x00\\x00\\x10\\xddL\\xd1A\\x03\\x02\\x0e\\x00\\x05\\x00\\x18\\x00>\\x00\\x00\\x00\\x000\\xa2H\\xd2A\\xd7\\x00\\x10\\x00\\xb8\\x06\\x00\\x00d\\x00^\\x01\\xb0\\x00\\xc6\\x00@\\x01\\xc8\\x00>\\x02\\x12\\x00\\xb6\\x06\\x00\\x00\\x00\\x00@\\x00\\x00\\x00\\x00\\x00\\x00\\x00\\xa2H\\x00\\x00\\x8b\\x08\\x10\\x00\\x8b\\x08\\x00\\x00\\x00\\x00\\x00\\x00\\x00\\x00\\x00\\x00\\x00\\x00\\xa2H\\x1d\\x00\\x0f\\x00\\x03\\x11\\x00\\x04\\x00\\x00\\x00\\x01\\x00\\x11\\x00\\x11\\x00\\x04\\x04g\\x08\\x17\\x00g\\x08\\x00\\x00\\x00\\x00\\x00\\x00\\x00\\x00\\x00\\x00\\x02\\x00\\x01\\xff\\xff\\xff\\xff\\x03D\\x00\\x00\\n\\x00\\x00\\x00\\x00\\x00\\x00\\x00\\x00\\x00\\x00\\x00\\x00\\x00\\x00\\x00\\x00\\x00\\x00\\x00\\x00\\x00\\x00\\x00\\x00\\x00\\x00\\x00\\x00\\x00\\x00\\x00\\x00\\x00\\x00\\x00\\x00\\x00\\x00\\x00\\x00\\x00\\x00\\x00\\x00\\x00\\x00\\x00\\x00\\x00\\x00\\x00\\x00\\x00\\x00\\x00\\x00\\x00\\x00\\x00\\x00\\x00\\x00\\x00\\x00\\x00\\x00\\x00\\x00\\x00\\x00\\x00\\x00\\x00\\x00\\x00\\x00\\x00\\x00\\x00\\x00\\x00\\x00\\x00\\x00\\x00\\x00\\x00\\x00\\x00\\x00\\x00\\x00\\x00\\x00\\x00\\x00\\x00\\x00\\x00\\x00\\x00\\x00\\x00\\x00\\x00\\x00\\x00\\x00\\x00\\x00\\x00\\x00\\x00\\x00\\x00\\x00\\x00\\x00\\x00\\x00\\x00\\x00\\x00\\x00\\x00\\x00\\x00\\x00\\x00\\x00\\x00\\x00\\x00\\x00\\x00\\x00\\x00\\x00\\x00\\x00\\x00\\x00\\x00\\x00\\x00\\x00\\x00\\x00\\x00\\x00\\x00\\x00\\x00\\x00\\x00\\x00\\x00\\x00\\x00\\x00\\x00\\x00\\x00\\x00\\x00\\x00\\x00\\x00\\x00\\x00\\x00\\x00\\x00\\x00\\x00\\x00\\x00\\x00\\x00\\x00\\x00\\x00\\x00\\x00\\x00\\x00\\x00\\x00\\x00\\x00\\x00\\x00\\x00\\x00\\x00\\x00\\x00\\x00\\x00\\x00\\x00\\x00\\x00\\x00\\x00\\x00\\x00\\x00\\x00\\x00\\x00\\x00\\x00\\x00\\x00\\x00\\x00\\x00\\x00\\x00\\x00\\x00\\x00\\x00\\x00\\x00\\x00\\x00\\x00\\x00\\x00\\x00\\x00\\x00\\x00\\x00\\x00\\x00\\x00\\x00\\x00\\x00\\x00\\x00\\x00\\x00\\x00\\x00\\x00\\x00\\x00\\x00\\x00\\x00\\x00\\x00\\x00\\x00\\x00\\x00\\x00\\x00\\x00\\x00\\x00\\x00\\x00\\x00\\x00\\x00\\x00\\x00\\x00\\x00\\x00\\x00\\x00\\x00\\x00\\x00\\x00\\x00\\x00\\x00\\x00\\x00\\x00\\x00\\x00\\x00\\x00\\x00\\x00\\x00\\x00\\x00\\x00\\x00\\x00\\x00\\x00\\x00\\x00\\x00\\x00\\x00\\x00\\x00\\x00\\x00\\x00\\x00\\x00\\x00\\x00\\x00\\x00\\x00\\x00\\x00\\x00\\x00\\x00\\x00\\x00\\x00\\x00\\x00\\x00\\x00\\x00\\x00\\x00\\x00\\x00\\x00\\x00\\x00\\x00\\x00\\x00\\x00\\x00\\x00\\x00\\x00\\x00'}"
      ]
     },
     "execution_count": 70,
     "metadata": {
      "tags": []
     },
     "output_type": "execute_result"
    }
   ],
   "source": [
    "# uploading tourism data of Bermuda from 1995 to 2017 into the gloabl environment\n",
    "files.upload()\n"
   ]
  },
  {
   "cell_type": "code",
   "execution_count": 0,
   "metadata": {
    "colab": {},
    "colab_type": "code",
    "id": "uEvuuhmS6PIH"
   },
   "outputs": [],
   "source": [
    "# specifying the International Tourism Recipts Dataset file\n",
    "\n",
    "file_2 = 'International Tourism Receipts.xls'\n",
    "\n",
    "# reading the International Tourism Recipts Dataset file into Python through pandas\n",
    "\n",
    "tourism_dataset = pd.read_excel(file_2,index_col = 0)\n"
   ]
  },
  {
   "cell_type": "markdown",
   "metadata": {
    "colab_type": "text",
    "id": "SU5MYJvHN06u"
   },
   "source": [
    "Creating a time series for International Tourism Receipts for the from 1995 to 2017. Eliminated above average countries such as US, Canada, Mexico, Panama, Costa Rica and Guatemala to provide a scalable measurement for Bermuda."
   ]
  },
  {
   "cell_type": "code",
   "execution_count": 0,
   "metadata": {
    "colab": {
     "base_uri": "https://localhost:8080/",
     "height": 281
    },
    "colab_type": "code",
    "id": "MWYeckdpNxWm",
    "outputId": "55791fa5-59ac-42bc-8696-246fba5b2066"
   },
   "outputs": [
    {
     "data": {
      "image/png": "[encoded data removed]",
      "text/plain": [
       "<Figure size 432x288 with 1 Axes>"
      ]
     },
     "metadata": {
      "tags": []
     },
     "output_type": "display_data"
    }
   ],
   "source": [
    "tourism_dataset_plot = tourism_dataset.transpose()\n",
    "\n",
    "ax = tourism_dataset_plot.loc['1995':].plot()\n",
    "\n",
    "ax.legend(loc='upper center', bbox_to_anchor=(1.1, 0.9),\n",
    "          ncol=1, fancybox=True, shadow=True)\n",
    "\n",
    "plt.title('International Tourism Receipts ')\n",
    "\n",
    "plt.show()"
   ]
  },
  {
   "cell_type": "markdown",
   "metadata": {
    "colab_type": "text",
    "id": "3_VyUmmROJBn"
   },
   "source": [
    "Looked into revenue from tourism, 2011 showed a drop associated with the 2008/2009 financial crisis where consumer spending had decreased. Since Bermuda depended on international business such as tourism, it can be assumumed this caused a negative growth as seen from the sns pairplot. Checked out what happened in 2015 to start an increase: https://www.travelweekly.com/Caribbean-Travel/Bermuda-back-on-track\n",
    "\n",
    "In 2011 when tourism dropped again : Bermuda finally decided to confront its tourism problem in earnest in 2012, when the government came up with a plan that included dissolving its Department of Tourism and creating the Bermuda Tourism Authority (BTA), putting tourism marketing into the hands of the private sector.\n",
    "\n",
    "Due to major investments in marketing their Tourism from 2012, there are finally results in 2015. https://longwoods-intl.com/bermuda-tourism-authoritys-big-return-on-1-3m-marketing-spend"
   ]
  },
  {
   "cell_type": "markdown",
   "metadata": {
    "colab_type": "text",
    "id": "FxzvzfgC-E7j"
   },
   "source": [
    "\n",
    "\n",
    "# **Analysis of government expenditure on Education VS Military per capita using an EM score.**"
   ]
  },
  {
   "cell_type": "code",
   "execution_count": 0,
   "metadata": {
    "colab": {
     "base_uri": "https://localhost:8080/",
     "height": 509
    },
    "colab_type": "code",
    "id": "TERh997U-Lao",
    "outputId": "53803c0c-1ea6-4bd5-bd9a-719cb4c7e3d1"
   },
   "outputs": [
    {
     "data": {
      "text/html": [
       "<div>\n",
       "<style scoped>\n",
       "    .dataframe tbody tr th:only-of-type {\n",
       "        vertical-align: middle;\n",
       "    }\n",
       "\n",
       "    .dataframe tbody tr th {\n",
       "        vertical-align: top;\n",
       "    }\n",
       "\n",
       "    .dataframe thead th {\n",
       "        text-align: right;\n",
       "    }\n",
       "</style>\n",
       "<table border=\"1\" class=\"dataframe\">\n",
       "  <thead>\n",
       "    <tr style=\"text-align: right;\">\n",
       "      <th></th>\n",
       "      <th>Country</th>\n",
       "      <th>% Emp in Agriculture</th>\n",
       "      <th>% Emp in Industry</th>\n",
       "      <th>% Emp in Services</th>\n",
       "      <th>Literacy Rate</th>\n",
       "      <th>GDP</th>\n",
       "      <th>Military expenditure (% of GDP)</th>\n",
       "      <th>Population</th>\n",
       "      <th>Education Expense % GDP</th>\n",
       "      <th>EM Ratio</th>\n",
       "    </tr>\n",
       "  </thead>\n",
       "  <tbody>\n",
       "    <tr>\n",
       "      <th>19</th>\n",
       "      <td>Belize</td>\n",
       "      <td>17.733000</td>\n",
       "      <td>14.657000</td>\n",
       "      <td>67.609001</td>\n",
       "      <td>70.030000</td>\n",
       "      <td>1.862615e+09</td>\n",
       "      <td>1.323025</td>\n",
       "      <td>3.757690e+05</td>\n",
       "      <td>6.430000</td>\n",
       "      <td>4.860076</td>\n",
       "    </tr>\n",
       "    <tr>\n",
       "      <th>21</th>\n",
       "      <td>Bermuda</td>\n",
       "      <td>0.000000</td>\n",
       "      <td>0.000000</td>\n",
       "      <td>0.000000</td>\n",
       "      <td>32.900000</td>\n",
       "      <td>5.573710e+06</td>\n",
       "      <td>NaN</td>\n",
       "      <td>6.387400e+04</td>\n",
       "      <td>1.700000</td>\n",
       "      <td>NaN</td>\n",
       "    </tr>\n",
       "    <tr>\n",
       "      <th>34</th>\n",
       "      <td>Canada</td>\n",
       "      <td>1.518000</td>\n",
       "      <td>19.528000</td>\n",
       "      <td>78.955002</td>\n",
       "      <td>99.000000</td>\n",
       "      <td>1.646867e+12</td>\n",
       "      <td>1.293395</td>\n",
       "      <td>3.654027e+07</td>\n",
       "      <td>5.281000</td>\n",
       "      <td>4.083052</td>\n",
       "    </tr>\n",
       "    <tr>\n",
       "      <th>45</th>\n",
       "      <td>Costa Rica</td>\n",
       "      <td>12.580000</td>\n",
       "      <td>18.450001</td>\n",
       "      <td>68.970001</td>\n",
       "      <td>97.400000</td>\n",
       "      <td>5.817455e+10</td>\n",
       "      <td>0.000000</td>\n",
       "      <td>4.949954e+06</td>\n",
       "      <td>7.180000</td>\n",
       "      <td>inf</td>\n",
       "    </tr>\n",
       "    <tr>\n",
       "      <th>59</th>\n",
       "      <td>El Salvador</td>\n",
       "      <td>18.575001</td>\n",
       "      <td>21.886000</td>\n",
       "      <td>59.540001</td>\n",
       "      <td>88.482712</td>\n",
       "      <td>2.492797e+10</td>\n",
       "      <td>1.051785</td>\n",
       "      <td>6.388122e+06</td>\n",
       "      <td>3.550000</td>\n",
       "      <td>3.375213</td>\n",
       "    </tr>\n",
       "    <tr>\n",
       "      <th>80</th>\n",
       "      <td>Guatemala</td>\n",
       "      <td>29.316000</td>\n",
       "      <td>20.898001</td>\n",
       "      <td>49.785999</td>\n",
       "      <td>81.300000</td>\n",
       "      <td>7.562010e+10</td>\n",
       "      <td>0.363192</td>\n",
       "      <td>1.691494e+07</td>\n",
       "      <td>2.960000</td>\n",
       "      <td>8.149957</td>\n",
       "    </tr>\n",
       "    <tr>\n",
       "      <th>85</th>\n",
       "      <td>Honduras</td>\n",
       "      <td>31.985001</td>\n",
       "      <td>20.683001</td>\n",
       "      <td>47.332001</td>\n",
       "      <td>89.000000</td>\n",
       "      <td>2.294018e+10</td>\n",
       "      <td>1.743808</td>\n",
       "      <td>9.429013e+06</td>\n",
       "      <td>5.870000</td>\n",
       "      <td>3.366196</td>\n",
       "    </tr>\n",
       "    <tr>\n",
       "      <th>128</th>\n",
       "      <td>Mexico</td>\n",
       "      <td>13.118000</td>\n",
       "      <td>26.013000</td>\n",
       "      <td>60.869999</td>\n",
       "      <td>94.900000</td>\n",
       "      <td>1.158071e+12</td>\n",
       "      <td>0.502372</td>\n",
       "      <td>1.247773e+08</td>\n",
       "      <td>5.313000</td>\n",
       "      <td>10.575824</td>\n",
       "    </tr>\n",
       "    <tr>\n",
       "      <th>144</th>\n",
       "      <td>Nicaragua</td>\n",
       "      <td>31.091000</td>\n",
       "      <td>16.938999</td>\n",
       "      <td>51.970001</td>\n",
       "      <td>78.000000</td>\n",
       "      <td>1.384359e+10</td>\n",
       "      <td>0.623063</td>\n",
       "      <td>6.384855e+06</td>\n",
       "      <td>4.490000</td>\n",
       "      <td>7.206331</td>\n",
       "    </tr>\n",
       "    <tr>\n",
       "      <th>151</th>\n",
       "      <td>Panama</td>\n",
       "      <td>14.494000</td>\n",
       "      <td>18.549000</td>\n",
       "      <td>66.956001</td>\n",
       "      <td>94.100000</td>\n",
       "      <td>6.228380e+10</td>\n",
       "      <td>0.000000</td>\n",
       "      <td>4.106771e+06</td>\n",
       "      <td>3.190000</td>\n",
       "      <td>inf</td>\n",
       "    </tr>\n",
       "    <tr>\n",
       "      <th>205</th>\n",
       "      <td>United States</td>\n",
       "      <td>1.435000</td>\n",
       "      <td>19.729000</td>\n",
       "      <td>78.835999</td>\n",
       "      <td>99.000000</td>\n",
       "      <td>1.948539e+13</td>\n",
       "      <td>3.109010</td>\n",
       "      <td>3.251471e+08</td>\n",
       "      <td>5.381000</td>\n",
       "      <td>1.730776</td>\n",
       "    </tr>\n",
       "    <tr>\n",
       "      <th>213</th>\n",
       "      <td>World</td>\n",
       "      <td>28.409310</td>\n",
       "      <td>23.074889</td>\n",
       "      <td>48.515787</td>\n",
       "      <td>86.000000</td>\n",
       "      <td>8.089134e+13</td>\n",
       "      <td>2.161438</td>\n",
       "      <td>7.510990e+09</td>\n",
       "      <td>4.554135</td>\n",
       "      <td>2.106993</td>\n",
       "    </tr>\n",
       "  </tbody>\n",
       "</table>\n",
       "</div>"
      ],
      "text/plain": [
       "           Country  % Emp in Agriculture  ...  Education Expense % GDP   EM Ratio\n",
       "19          Belize             17.733000  ...                 6.430000   4.860076\n",
       "21         Bermuda              0.000000  ...                 1.700000        NaN\n",
       "34          Canada              1.518000  ...                 5.281000   4.083052\n",
       "45      Costa Rica             12.580000  ...                 7.180000        inf\n",
       "59     El Salvador             18.575001  ...                 3.550000   3.375213\n",
       "80       Guatemala             29.316000  ...                 2.960000   8.149957\n",
       "85        Honduras             31.985001  ...                 5.870000   3.366196\n",
       "128         Mexico             13.118000  ...                 5.313000  10.575824\n",
       "144      Nicaragua             31.091000  ...                 4.490000   7.206331\n",
       "151         Panama             14.494000  ...                 3.190000        inf\n",
       "205  United States              1.435000  ...                 5.381000   1.730776\n",
       "213          World             28.409310  ...                 4.554135   2.106993\n",
       "\n",
       "[12 rows x 10 columns]"
      ]
     },
     "execution_count": 12,
     "metadata": {
      "tags": []
     },
     "output_type": "execute_result"
    }
   ],
   "source": [
    "#importing the packages, dataset and filtering out desired values\n",
    "\n",
    "import pandas as pd\n",
    "import matplotlib.pyplot as plt\n",
    "import seaborn as sns\n",
    "\n",
    "file = \"WDIW Dataset.xlsx\"\n",
    "\n",
    "dataset = pd.read_excel(file)\n",
    "\n",
    "filters = (dataset['Cool Name'] == 'Hot Rod') | (dataset['Cool Name'] == 'Sentinel Prime')\n",
    "\n",
    "dataset = dataset[filters]\n",
    "\n",
    "dataset = dataset.iloc[:,[1,24,25,26,39,28,42,54]]\n",
    "#Renaming columns name with more readable values\n",
    "\n",
    "dataset = dataset.rename(columns = {\"Country Name\"                                                             : \"Country\", \n",
    "                                    \"Employment in agriculture (% of total employment) (modeled ILO estimate)\" : \"% Emp in Agriculture\",\n",
    "                                    \"Employment in industry (% of total employment) (modeled ILO estimate)\"    : \"% Emp in Industry\",\n",
    "                                    \"Employment in services (% of total employment) (modeled ILO estimate)\"    : \"% Emp in Services\",\n",
    "                                    \"Literacy rate, adult total (% of people ages 15 and above)\"               : \"Literacy Rate\",\n",
    "                                    \"GDP (current US$)\"                                                        : \"GDP\",\n",
    "                                    \"Gov expenditure on Education\"                                             : \"Education Expenditure\",\n",
    "                                    \"Military Expenditure % GDP\"                                               : \"Military Expense % GDP\",\n",
    "                                    \"Population, total\"                                                        : \"Population\"\n",
    "                                    \n",
    "                                \n",
    "                                    \n",
    "                                   }) \n",
    "\n",
    "#Filling new literacy data from an external value\n",
    "\n",
    "dataset.loc[[19],['Literacy Rate']] = 70.03\n",
    "dataset.loc[[21],['Literacy Rate']] = 32.9\n",
    "dataset.loc[[34],['Literacy Rate']] = 99\n",
    "dataset.loc[[45],['Literacy Rate']] = 97.4\n",
    "dataset.loc[[80],['Literacy Rate']] = 81.3\n",
    "dataset.loc[[85],['Literacy Rate']] = 89\n",
    "dataset.loc[[128],['Literacy Rate']] = 94.9\n",
    "dataset.loc[[144],['Literacy Rate']] = 78\n",
    "dataset.loc[[151],['Literacy Rate']] = 94.1\n",
    "dataset.loc[[205],['Literacy Rate']] = 99\n",
    "dataset.loc[[213],['Literacy Rate']] = 86\n",
    "\n",
    "#Adding Government Education Expenditure % of GDP from external sources\n",
    "\n",
    "dataset[\"Education Expense % GDP\"]=[6.43,1.70,5.281,7.18,3.55,2.96,5.87,5.313,4.49,3.19,5.381,4.554135] #DataWorld Bank\n",
    "\n",
    "#Calculating the education vs military expense per capita ratio\n",
    "\n",
    "mil_expense = dataset[\"Military expenditure (% of GDP)\"] * dataset[\"GDP\"]\n",
    "edu_expense = dataset[\"Education Expense % GDP\"] * dataset[\"GDP\"]\n",
    "\n",
    "mil_per_capita = mil_expense/dataset[\"Population\"]\n",
    "edu_per_capita = edu_expense/dataset[\"Population\"]\n",
    "\n",
    "#defining a ratio between the two spendings\n",
    "em_ratio = edu_per_capita/mil_per_capita\n",
    "\n",
    "\n",
    "dataset[\"EM Ratio\"] = em_ratio\n",
    "\n",
    "dataset\n"
   ]
  },
  {
   "cell_type": "code",
   "execution_count": 0,
   "metadata": {
    "colab": {
     "base_uri": "https://localhost:8080/",
     "height": 265
    },
    "colab_type": "code",
    "id": "cr4O00gS-jju",
    "outputId": "747613a7-9440-40c6-f14b-6119d16dbef8"
   },
   "outputs": [
    {
     "data": {
      "image/png": "[encoded data removed]",
      "text/plain": [
       "<Figure size 432x288 with 1 Axes>"
      ]
     },
     "metadata": {
      "tags": []
     },
     "output_type": "display_data"
    }
   ],
   "source": [
    "dataset.boxplot(column = [\"EM Ratio\"],\n",
    "                 vert= False,\n",
    "                 manage_ticks = True, # deprecated!\n",
    "                 patch_artist  = False,\n",
    "                 meanline      = True,\n",
    "                 showmeans     = True) #Without  see Panama, Coasta Rica and Bermuda\n",
    "plt.show()"
   ]
  },
  {
   "cell_type": "code",
   "execution_count": 0,
   "metadata": {
    "colab": {
     "base_uri": "https://localhost:8080/",
     "height": 509
    },
    "colab_type": "code",
    "id": "zq4eCtUa-l0C",
    "outputId": "b0860054-c838-4c32-ed61-3028c8a903ae"
   },
   "outputs": [
    {
     "data": {
      "text/html": [
       "<div>\n",
       "<style scoped>\n",
       "    .dataframe tbody tr th:only-of-type {\n",
       "        vertical-align: middle;\n",
       "    }\n",
       "\n",
       "    .dataframe tbody tr th {\n",
       "        vertical-align: top;\n",
       "    }\n",
       "\n",
       "    .dataframe thead th {\n",
       "        text-align: right;\n",
       "    }\n",
       "</style>\n",
       "<table border=\"1\" class=\"dataframe\">\n",
       "  <thead>\n",
       "    <tr style=\"text-align: right;\">\n",
       "      <th></th>\n",
       "      <th>Country</th>\n",
       "      <th>% Emp in Agriculture</th>\n",
       "      <th>% Emp in Industry</th>\n",
       "      <th>% Emp in Services</th>\n",
       "      <th>Literacy Rate</th>\n",
       "      <th>GDP</th>\n",
       "      <th>Military expenditure (% of GDP)</th>\n",
       "      <th>Population</th>\n",
       "      <th>Education Expense % GDP</th>\n",
       "      <th>EM Ratio</th>\n",
       "    </tr>\n",
       "  </thead>\n",
       "  <tbody>\n",
       "    <tr>\n",
       "      <th>19</th>\n",
       "      <td>Belize</td>\n",
       "      <td>17.733000</td>\n",
       "      <td>14.657000</td>\n",
       "      <td>67.609001</td>\n",
       "      <td>70.030000</td>\n",
       "      <td>1.862615e+09</td>\n",
       "      <td>1.323025</td>\n",
       "      <td>3.757690e+05</td>\n",
       "      <td>6.430000</td>\n",
       "      <td>4.860076</td>\n",
       "    </tr>\n",
       "    <tr>\n",
       "      <th>21</th>\n",
       "      <td>Bermuda</td>\n",
       "      <td>0.000000</td>\n",
       "      <td>0.000000</td>\n",
       "      <td>0.000000</td>\n",
       "      <td>32.900000</td>\n",
       "      <td>5.573710e+06</td>\n",
       "      <td>NaN</td>\n",
       "      <td>6.387400e+04</td>\n",
       "      <td>1.700000</td>\n",
       "      <td>NaN</td>\n",
       "    </tr>\n",
       "    <tr>\n",
       "      <th>34</th>\n",
       "      <td>Canada</td>\n",
       "      <td>1.518000</td>\n",
       "      <td>19.528000</td>\n",
       "      <td>78.955002</td>\n",
       "      <td>99.000000</td>\n",
       "      <td>1.646867e+12</td>\n",
       "      <td>1.293395</td>\n",
       "      <td>3.654027e+07</td>\n",
       "      <td>5.281000</td>\n",
       "      <td>4.083052</td>\n",
       "    </tr>\n",
       "    <tr>\n",
       "      <th>45</th>\n",
       "      <td>Costa Rica</td>\n",
       "      <td>12.580000</td>\n",
       "      <td>18.450001</td>\n",
       "      <td>68.970001</td>\n",
       "      <td>97.400000</td>\n",
       "      <td>5.817455e+10</td>\n",
       "      <td>0.000000</td>\n",
       "      <td>4.949954e+06</td>\n",
       "      <td>7.180000</td>\n",
       "      <td>inf</td>\n",
       "    </tr>\n",
       "    <tr>\n",
       "      <th>59</th>\n",
       "      <td>El Salvador</td>\n",
       "      <td>18.575001</td>\n",
       "      <td>21.886000</td>\n",
       "      <td>59.540001</td>\n",
       "      <td>88.482712</td>\n",
       "      <td>2.492797e+10</td>\n",
       "      <td>1.051785</td>\n",
       "      <td>6.388122e+06</td>\n",
       "      <td>3.550000</td>\n",
       "      <td>3.375213</td>\n",
       "    </tr>\n",
       "    <tr>\n",
       "      <th>80</th>\n",
       "      <td>Guatemala</td>\n",
       "      <td>29.316000</td>\n",
       "      <td>20.898001</td>\n",
       "      <td>49.785999</td>\n",
       "      <td>81.300000</td>\n",
       "      <td>7.562010e+10</td>\n",
       "      <td>0.363192</td>\n",
       "      <td>1.691494e+07</td>\n",
       "      <td>2.960000</td>\n",
       "      <td>8.149957</td>\n",
       "    </tr>\n",
       "    <tr>\n",
       "      <th>85</th>\n",
       "      <td>Honduras</td>\n",
       "      <td>31.985001</td>\n",
       "      <td>20.683001</td>\n",
       "      <td>47.332001</td>\n",
       "      <td>89.000000</td>\n",
       "      <td>2.294018e+10</td>\n",
       "      <td>1.743808</td>\n",
       "      <td>9.429013e+06</td>\n",
       "      <td>5.870000</td>\n",
       "      <td>3.366196</td>\n",
       "    </tr>\n",
       "    <tr>\n",
       "      <th>128</th>\n",
       "      <td>Mexico</td>\n",
       "      <td>13.118000</td>\n",
       "      <td>26.013000</td>\n",
       "      <td>60.869999</td>\n",
       "      <td>94.900000</td>\n",
       "      <td>1.158071e+12</td>\n",
       "      <td>0.502372</td>\n",
       "      <td>1.247773e+08</td>\n",
       "      <td>5.313000</td>\n",
       "      <td>10.575824</td>\n",
       "    </tr>\n",
       "    <tr>\n",
       "      <th>144</th>\n",
       "      <td>Nicaragua</td>\n",
       "      <td>31.091000</td>\n",
       "      <td>16.938999</td>\n",
       "      <td>51.970001</td>\n",
       "      <td>78.000000</td>\n",
       "      <td>1.384359e+10</td>\n",
       "      <td>0.623063</td>\n",
       "      <td>6.384855e+06</td>\n",
       "      <td>4.490000</td>\n",
       "      <td>7.206331</td>\n",
       "    </tr>\n",
       "    <tr>\n",
       "      <th>151</th>\n",
       "      <td>Panama</td>\n",
       "      <td>14.494000</td>\n",
       "      <td>18.549000</td>\n",
       "      <td>66.956001</td>\n",
       "      <td>94.100000</td>\n",
       "      <td>6.228380e+10</td>\n",
       "      <td>0.019296</td>\n",
       "      <td>4.106771e+06</td>\n",
       "      <td>3.190000</td>\n",
       "      <td>inf</td>\n",
       "    </tr>\n",
       "    <tr>\n",
       "      <th>205</th>\n",
       "      <td>United States</td>\n",
       "      <td>1.435000</td>\n",
       "      <td>19.729000</td>\n",
       "      <td>78.835999</td>\n",
       "      <td>99.000000</td>\n",
       "      <td>1.948539e+13</td>\n",
       "      <td>3.109010</td>\n",
       "      <td>3.251471e+08</td>\n",
       "      <td>5.381000</td>\n",
       "      <td>1.730776</td>\n",
       "    </tr>\n",
       "    <tr>\n",
       "      <th>213</th>\n",
       "      <td>World</td>\n",
       "      <td>28.409310</td>\n",
       "      <td>23.074889</td>\n",
       "      <td>48.515787</td>\n",
       "      <td>86.000000</td>\n",
       "      <td>8.089134e+13</td>\n",
       "      <td>2.161438</td>\n",
       "      <td>7.510990e+09</td>\n",
       "      <td>4.554135</td>\n",
       "      <td>2.106993</td>\n",
       "    </tr>\n",
       "  </tbody>\n",
       "</table>\n",
       "</div>"
      ],
      "text/plain": [
       "           Country  % Emp in Agriculture  ...  Education Expense % GDP   EM Ratio\n",
       "19          Belize             17.733000  ...                 6.430000   4.860076\n",
       "21         Bermuda              0.000000  ...                 1.700000        NaN\n",
       "34          Canada              1.518000  ...                 5.281000   4.083052\n",
       "45      Costa Rica             12.580000  ...                 7.180000        inf\n",
       "59     El Salvador             18.575001  ...                 3.550000   3.375213\n",
       "80       Guatemala             29.316000  ...                 2.960000   8.149957\n",
       "85        Honduras             31.985001  ...                 5.870000   3.366196\n",
       "128         Mexico             13.118000  ...                 5.313000  10.575824\n",
       "144      Nicaragua             31.091000  ...                 4.490000   7.206331\n",
       "151         Panama             14.494000  ...                 3.190000        inf\n",
       "205  United States              1.435000  ...                 5.381000   1.730776\n",
       "213          World             28.409310  ...                 4.554135   2.106993\n",
       "\n",
       "[12 rows x 10 columns]"
      ]
     },
     "execution_count": 14,
     "metadata": {
      "tags": []
     },
     "output_type": "execute_result"
    }
   ],
   "source": [
    "#Adding Military expenditure\n",
    "\n",
    "#Panama\n",
    "panama_military_exp = 481000000                          #Data source: IISS (2012), p. 397\n",
    "panama_GDP          = 24927970000 \n",
    "\n",
    "dataset.loc[[151],[\"Military expenditure (% of GDP)\"]] = panama_military_exp/panama_GDP\n",
    "\n",
    "#Costa Rica\n",
    "dataset.loc[[45],[\"Military expenditure (% of GDP)\"]] = 0  #Reported by world bank in 2018\n",
    "\n",
    "dataset"
   ]
  },
  {
   "cell_type": "code",
   "execution_count": 0,
   "metadata": {
    "colab": {
     "base_uri": "https://localhost:8080/",
     "height": 265
    },
    "colab_type": "code",
    "id": "Rj1rYh1--ryj",
    "outputId": "a99d16f6-83db-47f9-c554-fcd92a70ce03"
   },
   "outputs": [
    {
     "data": {
      "image/png": "[encoded data removed]",
      "text/plain": [
       "<Figure size 432x288 with 1 Axes>"
      ]
     },
     "metadata": {
      "tags": []
     },
     "output_type": "display_data"
    }
   ],
   "source": [
    "dataset.boxplot(column = ['EM Ratio'], vert = False, manage_ticks = True, patch_artist = False, meanline = True, showmeans = True)              \n",
    "plt.show()"
   ]
  },
  {
   "cell_type": "code",
   "execution_count": 0,
   "metadata": {
    "colab": {
     "base_uri": "https://localhost:8080/",
     "height": 249
    },
    "colab_type": "code",
    "id": "v-_iACke-wJU",
    "outputId": "ab9353ca-8a22-4c4e-96d0-cf82c297bc41"
   },
   "outputs": [
    {
     "data": {
      "image/png": "[encoded data removed]",
      "text/plain": [
       "<Figure size 967.625x216 with 4 Axes>"
      ]
     },
     "metadata": {
      "tags": []
     },
     "output_type": "display_data"
    }
   ],
   "source": [
    "sns.pairplot(data = dataset,\n",
    "             x_vars = ['% Emp in Agriculture',\n",
    "                       '% Emp in Industry', \n",
    "                       '% Emp in Services',\n",
    "                       'Literacy Rate' \n",
    "                       ],\n",
    "             y_vars = ['EM Ratio'],\n",
    "             hue = 'Country', palette = 'husl', height = 3)\n",
    "\n",
    "\n",
    "sns.set() #A higher EM Ratio value means more spent by the country per capita in education"
   ]
  }
 ],
 "metadata": {
  "colab": {
   "collapsed_sections": [],
   "name": "Python Final Project.ipynb",
   "provenance": [],
   "toc_visible": true
  },
  "kernelspec": {
   "display_name": "Python 3",
   "language": "python",
   "name": "python3"
  },
  "language_info": {
   "codemirror_mode": {
    "name": "ipython",
    "version": 3
   },
   "file_extension": ".py",
   "mimetype": "text/x-python",
   "name": "python",
   "nbconvert_exporter": "python",
   "pygments_lexer": "ipython3",
   "version": "3.7.3"
  },
  "toc": {
   "base_numbering": 1,
   "nav_menu": {},
   "number_sections": true,
   "sideBar": true,
   "skip_h1_title": false,
   "title_cell": "Table of Contents",
   "title_sidebar": "Contents",
   "toc_cell": false,
   "toc_position": {},
   "toc_section_display": true,
   "toc_window_display": false
  },
  "varInspector": {
   "cols": {
    "lenName": 16,
    "lenType": 16,
    "lenVar": 40
   },
   "kernels_config": {
    "python": {
     "delete_cmd_postfix": "",
     "delete_cmd_prefix": "del ",
     "library": "var_list.py",
     "varRefreshCmd": "print(var_dic_list())"
    },
    "r": {
     "delete_cmd_postfix": ") ",
     "delete_cmd_prefix": "rm(",
     "library": "var_list.r",
     "varRefreshCmd": "cat(var_dic_list()) "
    }
   },
   "types_to_exclude": [
    "module",
    "function",
    "builtin_function_or_method",
    "instance",
    "_Feature"
   ],
   "window_display": false
  }
 },
 "nbformat": 4,
 "nbformat_minor": 1
}
